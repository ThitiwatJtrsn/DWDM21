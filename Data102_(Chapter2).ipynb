{
  "nbformat": 4,
  "nbformat_minor": 0,
  "metadata": {
    "colab": {
      "name": "Data102 (Chapter2).ipynb",
      "provenance": [],
      "include_colab_link": true
    },
    "kernelspec": {
      "name": "python3",
      "display_name": "Python 3"
    },
    "language_info": {
      "name": "python"
    }
  },
  "cells": [
    {
      "cell_type": "markdown",
      "metadata": {
        "id": "view-in-github",
        "colab_type": "text"
      },
      "source": [
        "<a href=\"https://colab.research.google.com/github/ThitiwatJtrsn/DWDM21/blob/main/Data102_(Chapter2).ipynb\" target=\"_parent\"><img src=\"https://colab.research.google.com/assets/colab-badge.svg\" alt=\"Open In Colab\"/></a>"
      ]
    },
    {
      "cell_type": "markdown",
      "metadata": {
        "id": "eEThxCYH7m2Y"
      },
      "source": [
        "#Besic Data"
      ]
    },
    {
      "cell_type": "markdown",
      "metadata": {
        "id": "qH-MzmOT7r0K"
      },
      "source": [
        "import pandas as pd # ข้อมูลลักษณะ ตาราง"
      ]
    },
    {
      "cell_type": "code",
      "metadata": {
        "id": "d8Ex44Z8KWXZ"
      },
      "source": [
        "import pandas as pd # ทำงานกับข้อมูลลักษณะ ตาราง"
      ],
      "execution_count": null,
      "outputs": []
    },
    {
      "cell_type": "code",
      "metadata": {
        "colab": {
          "base_uri": "https://localhost:8080/"
        },
        "id": "8HdfugUKPHZi",
        "outputId": "2b4a67fc-a62b-4697-d597-2e5e397c59e4"
      },
      "source": [
        "from google.colab import drive # เชื่อม google drive\n",
        "drive.mount('/content/drive')"
      ],
      "execution_count": null,
      "outputs": [
        {
          "output_type": "stream",
          "text": [
            "Mounted at /content/drive\n"
          ],
          "name": "stdout"
        }
      ]
    },
    {
      "cell_type": "code",
      "metadata": {
        "colab": {
          "base_uri": "https://localhost:8080/"
        },
        "id": "X8mNcuKfPcbI",
        "outputId": "de3311dc-d050-4458-ccbe-f83436fbc8f2"
      },
      "source": [
        "ls"
      ],
      "execution_count": null,
      "outputs": [
        {
          "output_type": "stream",
          "text": [
            "\u001b[0m\u001b[01;34mdrive\u001b[0m/  \u001b[01;34msample_data\u001b[0m/\n"
          ],
          "name": "stdout"
        }
      ]
    },
    {
      "cell_type": "code",
      "metadata": {
        "id": "l0SOpS5oQciH"
      },
      "source": [
        "import os # จัดการไฟล์และ path"
      ],
      "execution_count": null,
      "outputs": []
    },
    {
      "cell_type": "code",
      "metadata": {
        "id": "PQlw_sFKQkRE"
      },
      "source": [
        "path = '/content/drive/My Drive/DWDM2021_DATA'"
      ],
      "execution_count": null,
      "outputs": []
    },
    {
      "cell_type": "code",
      "metadata": {
        "colab": {
          "base_uri": "https://localhost:8080/",
          "height": 490
        },
        "id": "Pa0dc4_NQJwt",
        "outputId": "6eb57efe-462b-4cb5-eab8-41c6a276bb6a"
      },
      "source": [
        "data = pd.read_csv(os.path.join(path,'thailand_covid-19_testing_data.csv'))\n",
        "data"
      ],
      "execution_count": null,
      "outputs": [
        {
          "output_type": "execute_result",
          "data": {
            "text/html": [
              "<div>\n",
              "<style scoped>\n",
              "    .dataframe tbody tr th:only-of-type {\n",
              "        vertical-align: middle;\n",
              "    }\n",
              "\n",
              "    .dataframe tbody tr th {\n",
              "        vertical-align: top;\n",
              "    }\n",
              "\n",
              "    .dataframe thead th {\n",
              "        text-align: right;\n",
              "    }\n",
              "</style>\n",
              "<table border=\"1\" class=\"dataframe\">\n",
              "  <thead>\n",
              "    <tr style=\"text-align: right;\">\n",
              "      <th></th>\n",
              "      <th>Date</th>\n",
              "      <th>positive</th>\n",
              "      <th>Total Testing</th>\n",
              "      <th>Unnamed: 3</th>\n",
              "      <th>Unnamed: 4</th>\n",
              "      <th>Unnamed: 5</th>\n",
              "      <th>Unnamed: 6</th>\n",
              "      <th>Unnamed: 7</th>\n",
              "      <th>Unnamed: 8</th>\n",
              "      <th>Unnamed: 9</th>\n",
              "      <th>Unnamed: 10</th>\n",
              "      <th>Unnamed: 11</th>\n",
              "      <th>Unnamed: 12</th>\n",
              "      <th>Unnamed: 13</th>\n",
              "      <th>Unnamed: 14</th>\n",
              "      <th>Unnamed: 15</th>\n",
              "      <th>Unnamed: 16</th>\n",
              "      <th>Unnamed: 17</th>\n",
              "      <th>Unnamed: 18</th>\n",
              "      <th>Unnamed: 19</th>\n",
              "      <th>Unnamed: 20</th>\n",
              "      <th>Unnamed: 21</th>\n",
              "      <th>Unnamed: 22</th>\n",
              "      <th>Unnamed: 23</th>\n",
              "      <th>Unnamed: 24</th>\n",
              "      <th>Unnamed: 25</th>\n",
              "      <th>Unnamed: 26</th>\n",
              "      <th>Unnamed: 27</th>\n",
              "      <th>Unnamed: 28</th>\n",
              "      <th>Unnamed: 29</th>\n",
              "      <th>Unnamed: 30</th>\n",
              "      <th>Unnamed: 31</th>\n",
              "      <th>Unnamed: 32</th>\n",
              "      <th>Unnamed: 33</th>\n",
              "      <th>Unnamed: 34</th>\n",
              "      <th>Unnamed: 35</th>\n",
              "      <th>Unnamed: 36</th>\n",
              "      <th>Unnamed: 37</th>\n",
              "      <th>Unnamed: 38</th>\n",
              "      <th>Unnamed: 39</th>\n",
              "      <th>...</th>\n",
              "      <th>Unnamed: 82</th>\n",
              "      <th>Unnamed: 83</th>\n",
              "      <th>Unnamed: 84</th>\n",
              "      <th>Unnamed: 85</th>\n",
              "      <th>Unnamed: 86</th>\n",
              "      <th>Unnamed: 87</th>\n",
              "      <th>Unnamed: 88</th>\n",
              "      <th>Unnamed: 89</th>\n",
              "      <th>Unnamed: 90</th>\n",
              "      <th>Unnamed: 91</th>\n",
              "      <th>Unnamed: 92</th>\n",
              "      <th>Unnamed: 93</th>\n",
              "      <th>Unnamed: 94</th>\n",
              "      <th>Unnamed: 95</th>\n",
              "      <th>Unnamed: 96</th>\n",
              "      <th>Unnamed: 97</th>\n",
              "      <th>Unnamed: 98</th>\n",
              "      <th>Unnamed: 99</th>\n",
              "      <th>Unnamed: 100</th>\n",
              "      <th>Unnamed: 101</th>\n",
              "      <th>Unnamed: 102</th>\n",
              "      <th>Unnamed: 103</th>\n",
              "      <th>Unnamed: 104</th>\n",
              "      <th>Unnamed: 105</th>\n",
              "      <th>Unnamed: 106</th>\n",
              "      <th>Unnamed: 107</th>\n",
              "      <th>Unnamed: 108</th>\n",
              "      <th>Unnamed: 109</th>\n",
              "      <th>Unnamed: 110</th>\n",
              "      <th>Unnamed: 111</th>\n",
              "      <th>Unnamed: 112</th>\n",
              "      <th>Unnamed: 113</th>\n",
              "      <th>Unnamed: 114</th>\n",
              "      <th>Unnamed: 115</th>\n",
              "      <th>Unnamed: 116</th>\n",
              "      <th>Unnamed: 117</th>\n",
              "      <th>Unnamed: 118</th>\n",
              "      <th>Unnamed: 119</th>\n",
              "      <th>Unnamed: 120</th>\n",
              "      <th>Unnamed: 121</th>\n",
              "    </tr>\n",
              "  </thead>\n",
              "  <tbody>\n",
              "    <tr>\n",
              "      <th>0</th>\n",
              "      <td>Cannot specify date</td>\n",
              "      <td>2963</td>\n",
              "      <td>32131</td>\n",
              "      <td>NaN</td>\n",
              "      <td>NaN</td>\n",
              "      <td>NaN</td>\n",
              "      <td>NaN</td>\n",
              "      <td>NaN</td>\n",
              "      <td>NaN</td>\n",
              "      <td>NaN</td>\n",
              "      <td>NaN</td>\n",
              "      <td>NaN</td>\n",
              "      <td>NaN</td>\n",
              "      <td>NaN</td>\n",
              "      <td>NaN</td>\n",
              "      <td>NaN</td>\n",
              "      <td>NaN</td>\n",
              "      <td>NaN</td>\n",
              "      <td>NaN</td>\n",
              "      <td>NaN</td>\n",
              "      <td>NaN</td>\n",
              "      <td>NaN</td>\n",
              "      <td>NaN</td>\n",
              "      <td>NaN</td>\n",
              "      <td>NaN</td>\n",
              "      <td>NaN</td>\n",
              "      <td>NaN</td>\n",
              "      <td>NaN</td>\n",
              "      <td>NaN</td>\n",
              "      <td>NaN</td>\n",
              "      <td>NaN</td>\n",
              "      <td>NaN</td>\n",
              "      <td>NaN</td>\n",
              "      <td>NaN</td>\n",
              "      <td>NaN</td>\n",
              "      <td>NaN</td>\n",
              "      <td>NaN</td>\n",
              "      <td>NaN</td>\n",
              "      <td>NaN</td>\n",
              "      <td>NaN</td>\n",
              "      <td>...</td>\n",
              "      <td>NaN</td>\n",
              "      <td>NaN</td>\n",
              "      <td>NaN</td>\n",
              "      <td>NaN</td>\n",
              "      <td>NaN</td>\n",
              "      <td>NaN</td>\n",
              "      <td>NaN</td>\n",
              "      <td>NaN</td>\n",
              "      <td>NaN</td>\n",
              "      <td>NaN</td>\n",
              "      <td>NaN</td>\n",
              "      <td>NaN</td>\n",
              "      <td>NaN</td>\n",
              "      <td>NaN</td>\n",
              "      <td>NaN</td>\n",
              "      <td>NaN</td>\n",
              "      <td>NaN</td>\n",
              "      <td>NaN</td>\n",
              "      <td>NaN</td>\n",
              "      <td>NaN</td>\n",
              "      <td>NaN</td>\n",
              "      <td>NaN</td>\n",
              "      <td>NaN</td>\n",
              "      <td>NaN</td>\n",
              "      <td>NaN</td>\n",
              "      <td>NaN</td>\n",
              "      <td>NaN</td>\n",
              "      <td>NaN</td>\n",
              "      <td>NaN</td>\n",
              "      <td>NaN</td>\n",
              "      <td>NaN</td>\n",
              "      <td>NaN</td>\n",
              "      <td>NaN</td>\n",
              "      <td>NaN</td>\n",
              "      <td>NaN</td>\n",
              "      <td>NaN</td>\n",
              "      <td>NaN</td>\n",
              "      <td>NaN</td>\n",
              "      <td>NaN</td>\n",
              "      <td>NaN</td>\n",
              "    </tr>\n",
              "    <tr>\n",
              "      <th>1</th>\n",
              "      <td>1/1/2020</td>\n",
              "      <td>0</td>\n",
              "      <td>0</td>\n",
              "      <td>NaN</td>\n",
              "      <td>NaN</td>\n",
              "      <td>NaN</td>\n",
              "      <td>NaN</td>\n",
              "      <td>NaN</td>\n",
              "      <td>NaN</td>\n",
              "      <td>NaN</td>\n",
              "      <td>NaN</td>\n",
              "      <td>NaN</td>\n",
              "      <td>NaN</td>\n",
              "      <td>NaN</td>\n",
              "      <td>NaN</td>\n",
              "      <td>NaN</td>\n",
              "      <td>NaN</td>\n",
              "      <td>NaN</td>\n",
              "      <td>NaN</td>\n",
              "      <td>NaN</td>\n",
              "      <td>NaN</td>\n",
              "      <td>NaN</td>\n",
              "      <td>NaN</td>\n",
              "      <td>NaN</td>\n",
              "      <td>NaN</td>\n",
              "      <td>NaN</td>\n",
              "      <td>NaN</td>\n",
              "      <td>NaN</td>\n",
              "      <td>NaN</td>\n",
              "      <td>NaN</td>\n",
              "      <td>NaN</td>\n",
              "      <td>NaN</td>\n",
              "      <td>NaN</td>\n",
              "      <td>NaN</td>\n",
              "      <td>NaN</td>\n",
              "      <td>NaN</td>\n",
              "      <td>NaN</td>\n",
              "      <td>NaN</td>\n",
              "      <td>NaN</td>\n",
              "      <td>NaN</td>\n",
              "      <td>...</td>\n",
              "      <td>12</td>\n",
              "      <td>NaN</td>\n",
              "      <td>13</td>\n",
              "      <td>NaN</td>\n",
              "      <td>14</td>\n",
              "      <td>NaN</td>\n",
              "      <td>15</td>\n",
              "      <td>NaN</td>\n",
              "      <td>16</td>\n",
              "      <td>NaN</td>\n",
              "      <td>17</td>\n",
              "      <td>NaN</td>\n",
              "      <td>18</td>\n",
              "      <td>NaN</td>\n",
              "      <td>19</td>\n",
              "      <td>NaN</td>\n",
              "      <td>20</td>\n",
              "      <td>NaN</td>\n",
              "      <td>21</td>\n",
              "      <td>NaN</td>\n",
              "      <td>22</td>\n",
              "      <td>NaN</td>\n",
              "      <td>23</td>\n",
              "      <td>NaN</td>\n",
              "      <td>24</td>\n",
              "      <td>NaN</td>\n",
              "      <td>25</td>\n",
              "      <td>NaN</td>\n",
              "      <td>26</td>\n",
              "      <td>NaN</td>\n",
              "      <td>27</td>\n",
              "      <td>NaN</td>\n",
              "      <td>28</td>\n",
              "      <td>NaN</td>\n",
              "      <td>29</td>\n",
              "      <td>NaN</td>\n",
              "      <td>30</td>\n",
              "      <td>NaN</td>\n",
              "      <td>31</td>\n",
              "      <td>NaN</td>\n",
              "    </tr>\n",
              "    <tr>\n",
              "      <th>2</th>\n",
              "      <td>2/1/2020</td>\n",
              "      <td>0</td>\n",
              "      <td>0</td>\n",
              "      <td>NaN</td>\n",
              "      <td>NaN</td>\n",
              "      <td>NaN</td>\n",
              "      <td>NaN</td>\n",
              "      <td>NaN</td>\n",
              "      <td>NaN</td>\n",
              "      <td>NaN</td>\n",
              "      <td>NaN</td>\n",
              "      <td>NaN</td>\n",
              "      <td>NaN</td>\n",
              "      <td>NaN</td>\n",
              "      <td>NaN</td>\n",
              "      <td>NaN</td>\n",
              "      <td>NaN</td>\n",
              "      <td>NaN</td>\n",
              "      <td>NaN</td>\n",
              "      <td>NaN</td>\n",
              "      <td>NaN</td>\n",
              "      <td>NaN</td>\n",
              "      <td>NaN</td>\n",
              "      <td>NaN</td>\n",
              "      <td>NaN</td>\n",
              "      <td>NaN</td>\n",
              "      <td>NaN</td>\n",
              "      <td>NaN</td>\n",
              "      <td>NaN</td>\n",
              "      <td>NaN</td>\n",
              "      <td>NaN</td>\n",
              "      <td>NaN</td>\n",
              "      <td>NaN</td>\n",
              "      <td>NaN</td>\n",
              "      <td>NaN</td>\n",
              "      <td>NaN</td>\n",
              "      <td>NaN</td>\n",
              "      <td>NaN</td>\n",
              "      <td>NaN</td>\n",
              "      <td>NaN</td>\n",
              "      <td>...</td>\n",
              "      <td>Pos</td>\n",
              "      <td>Pos</td>\n",
              "      <td>Total</td>\n",
              "      <td>Pos</td>\n",
              "      <td>Total</td>\n",
              "      <td>Pos</td>\n",
              "      <td>Total</td>\n",
              "      <td>Pos</td>\n",
              "      <td>Total</td>\n",
              "      <td>Pos</td>\n",
              "      <td>Pos</td>\n",
              "      <td>Total</td>\n",
              "      <td>Pos</td>\n",
              "      <td>Total</td>\n",
              "      <td>Pos</td>\n",
              "      <td>Total</td>\n",
              "      <td>Pos</td>\n",
              "      <td>Total</td>\n",
              "      <td>Pos</td>\n",
              "      <td>Pos</td>\n",
              "      <td>Total</td>\n",
              "      <td>Pos</td>\n",
              "      <td>Total</td>\n",
              "      <td>Pos</td>\n",
              "      <td>Total</td>\n",
              "      <td>Pos</td>\n",
              "      <td>Total</td>\n",
              "      <td>Pos</td>\n",
              "      <td>Pos</td>\n",
              "      <td>Total</td>\n",
              "      <td>Pos</td>\n",
              "      <td>Total</td>\n",
              "      <td>Pos</td>\n",
              "      <td>Total</td>\n",
              "      <td>Pos</td>\n",
              "      <td>Total</td>\n",
              "      <td>Pos</td>\n",
              "      <td>Pos</td>\n",
              "      <td>Pos</td>\n",
              "      <td>Pos</td>\n",
              "    </tr>\n",
              "    <tr>\n",
              "      <th>3</th>\n",
              "      <td>3/1/2020</td>\n",
              "      <td>0</td>\n",
              "      <td>0</td>\n",
              "      <td>NaN</td>\n",
              "      <td>NaN</td>\n",
              "      <td>NaN</td>\n",
              "      <td>NaN</td>\n",
              "      <td>NaN</td>\n",
              "      <td>NaN</td>\n",
              "      <td>NaN</td>\n",
              "      <td>NaN</td>\n",
              "      <td>NaN</td>\n",
              "      <td>NaN</td>\n",
              "      <td>NaN</td>\n",
              "      <td>NaN</td>\n",
              "      <td>NaN</td>\n",
              "      <td>NaN</td>\n",
              "      <td>NaN</td>\n",
              "      <td>NaN</td>\n",
              "      <td>NaN</td>\n",
              "      <td>NaN</td>\n",
              "      <td>NaN</td>\n",
              "      <td>NaN</td>\n",
              "      <td>NaN</td>\n",
              "      <td>NaN</td>\n",
              "      <td>NaN</td>\n",
              "      <td>NaN</td>\n",
              "      <td>NaN</td>\n",
              "      <td>NaN</td>\n",
              "      <td>NaN</td>\n",
              "      <td>NaN</td>\n",
              "      <td>NaN</td>\n",
              "      <td>NaN</td>\n",
              "      <td>NaN</td>\n",
              "      <td>NaN</td>\n",
              "      <td>NaN</td>\n",
              "      <td>NaN</td>\n",
              "      <td>NaN</td>\n",
              "      <td>NaN</td>\n",
              "      <td>NaN</td>\n",
              "      <td>...</td>\n",
              "      <td>NaN</td>\n",
              "      <td>NaN</td>\n",
              "      <td>NaN</td>\n",
              "      <td>NaN</td>\n",
              "      <td>NaN</td>\n",
              "      <td>NaN</td>\n",
              "      <td>NaN</td>\n",
              "      <td>NaN</td>\n",
              "      <td>NaN</td>\n",
              "      <td>NaN</td>\n",
              "      <td>NaN</td>\n",
              "      <td>NaN</td>\n",
              "      <td>NaN</td>\n",
              "      <td>NaN</td>\n",
              "      <td>NaN</td>\n",
              "      <td>NaN</td>\n",
              "      <td>NaN</td>\n",
              "      <td>NaN</td>\n",
              "      <td>NaN</td>\n",
              "      <td>NaN</td>\n",
              "      <td>NaN</td>\n",
              "      <td>NaN</td>\n",
              "      <td>NaN</td>\n",
              "      <td>NaN</td>\n",
              "      <td>NaN</td>\n",
              "      <td>NaN</td>\n",
              "      <td>NaN</td>\n",
              "      <td>NaN</td>\n",
              "      <td>NaN</td>\n",
              "      <td>NaN</td>\n",
              "      <td>NaN</td>\n",
              "      <td>NaN</td>\n",
              "      <td>NaN</td>\n",
              "      <td>NaN</td>\n",
              "      <td>NaN</td>\n",
              "      <td>NaN</td>\n",
              "      <td>NaN</td>\n",
              "      <td>NaN</td>\n",
              "      <td>NaN</td>\n",
              "      <td>NaN</td>\n",
              "    </tr>\n",
              "    <tr>\n",
              "      <th>4</th>\n",
              "      <td>4/1/2020</td>\n",
              "      <td>0</td>\n",
              "      <td>2</td>\n",
              "      <td>NaN</td>\n",
              "      <td>NaN</td>\n",
              "      <td>NaN</td>\n",
              "      <td>NaN</td>\n",
              "      <td>NaN</td>\n",
              "      <td>NaN</td>\n",
              "      <td>NaN</td>\n",
              "      <td>NaN</td>\n",
              "      <td>NaN</td>\n",
              "      <td>NaN</td>\n",
              "      <td>NaN</td>\n",
              "      <td>NaN</td>\n",
              "      <td>NaN</td>\n",
              "      <td>NaN</td>\n",
              "      <td>NaN</td>\n",
              "      <td>NaN</td>\n",
              "      <td>NaN</td>\n",
              "      <td>NaN</td>\n",
              "      <td>NaN</td>\n",
              "      <td>NaN</td>\n",
              "      <td>NaN</td>\n",
              "      <td>NaN</td>\n",
              "      <td>NaN</td>\n",
              "      <td>NaN</td>\n",
              "      <td>NaN</td>\n",
              "      <td>NaN</td>\n",
              "      <td>NaN</td>\n",
              "      <td>NaN</td>\n",
              "      <td>NaN</td>\n",
              "      <td>NaN</td>\n",
              "      <td>NaN</td>\n",
              "      <td>NaN</td>\n",
              "      <td>NaN</td>\n",
              "      <td>NaN</td>\n",
              "      <td>NaN</td>\n",
              "      <td>NaN</td>\n",
              "      <td>NaN</td>\n",
              "      <td>...</td>\n",
              "      <td>NaN</td>\n",
              "      <td>NaN</td>\n",
              "      <td>NaN</td>\n",
              "      <td>NaN</td>\n",
              "      <td>NaN</td>\n",
              "      <td>NaN</td>\n",
              "      <td>NaN</td>\n",
              "      <td>NaN</td>\n",
              "      <td>NaN</td>\n",
              "      <td>NaN</td>\n",
              "      <td>NaN</td>\n",
              "      <td>NaN</td>\n",
              "      <td>NaN</td>\n",
              "      <td>NaN</td>\n",
              "      <td>NaN</td>\n",
              "      <td>NaN</td>\n",
              "      <td>NaN</td>\n",
              "      <td>NaN</td>\n",
              "      <td>NaN</td>\n",
              "      <td>NaN</td>\n",
              "      <td>NaN</td>\n",
              "      <td>NaN</td>\n",
              "      <td>NaN</td>\n",
              "      <td>NaN</td>\n",
              "      <td>NaN</td>\n",
              "      <td>NaN</td>\n",
              "      <td>NaN</td>\n",
              "      <td>NaN</td>\n",
              "      <td>NaN</td>\n",
              "      <td>NaN</td>\n",
              "      <td>NaN</td>\n",
              "      <td>NaN</td>\n",
              "      <td>NaN</td>\n",
              "      <td>NaN</td>\n",
              "      <td>NaN</td>\n",
              "      <td>NaN</td>\n",
              "      <td>NaN</td>\n",
              "      <td>NaN</td>\n",
              "      <td>NaN</td>\n",
              "      <td>NaN</td>\n",
              "    </tr>\n",
              "    <tr>\n",
              "      <th>...</th>\n",
              "      <td>...</td>\n",
              "      <td>...</td>\n",
              "      <td>...</td>\n",
              "      <td>...</td>\n",
              "      <td>...</td>\n",
              "      <td>...</td>\n",
              "      <td>...</td>\n",
              "      <td>...</td>\n",
              "      <td>...</td>\n",
              "      <td>...</td>\n",
              "      <td>...</td>\n",
              "      <td>...</td>\n",
              "      <td>...</td>\n",
              "      <td>...</td>\n",
              "      <td>...</td>\n",
              "      <td>...</td>\n",
              "      <td>...</td>\n",
              "      <td>...</td>\n",
              "      <td>...</td>\n",
              "      <td>...</td>\n",
              "      <td>...</td>\n",
              "      <td>...</td>\n",
              "      <td>...</td>\n",
              "      <td>...</td>\n",
              "      <td>...</td>\n",
              "      <td>...</td>\n",
              "      <td>...</td>\n",
              "      <td>...</td>\n",
              "      <td>...</td>\n",
              "      <td>...</td>\n",
              "      <td>...</td>\n",
              "      <td>...</td>\n",
              "      <td>...</td>\n",
              "      <td>...</td>\n",
              "      <td>...</td>\n",
              "      <td>...</td>\n",
              "      <td>...</td>\n",
              "      <td>...</td>\n",
              "      <td>...</td>\n",
              "      <td>...</td>\n",
              "      <td>...</td>\n",
              "      <td>...</td>\n",
              "      <td>...</td>\n",
              "      <td>...</td>\n",
              "      <td>...</td>\n",
              "      <td>...</td>\n",
              "      <td>...</td>\n",
              "      <td>...</td>\n",
              "      <td>...</td>\n",
              "      <td>...</td>\n",
              "      <td>...</td>\n",
              "      <td>...</td>\n",
              "      <td>...</td>\n",
              "      <td>...</td>\n",
              "      <td>...</td>\n",
              "      <td>...</td>\n",
              "      <td>...</td>\n",
              "      <td>...</td>\n",
              "      <td>...</td>\n",
              "      <td>...</td>\n",
              "      <td>...</td>\n",
              "      <td>...</td>\n",
              "      <td>...</td>\n",
              "      <td>...</td>\n",
              "      <td>...</td>\n",
              "      <td>...</td>\n",
              "      <td>...</td>\n",
              "      <td>...</td>\n",
              "      <td>...</td>\n",
              "      <td>...</td>\n",
              "      <td>...</td>\n",
              "      <td>...</td>\n",
              "      <td>...</td>\n",
              "      <td>...</td>\n",
              "      <td>...</td>\n",
              "      <td>...</td>\n",
              "      <td>...</td>\n",
              "      <td>...</td>\n",
              "      <td>...</td>\n",
              "      <td>...</td>\n",
              "      <td>...</td>\n",
              "    </tr>\n",
              "    <tr>\n",
              "      <th>567</th>\n",
              "      <td>20/7/2021</td>\n",
              "      <td>68403</td>\n",
              "      <td>10152</td>\n",
              "      <td>NaN</td>\n",
              "      <td>NaN</td>\n",
              "      <td>NaN</td>\n",
              "      <td>NaN</td>\n",
              "      <td>NaN</td>\n",
              "      <td>NaN</td>\n",
              "      <td>NaN</td>\n",
              "      <td>NaN</td>\n",
              "      <td>NaN</td>\n",
              "      <td>NaN</td>\n",
              "      <td>NaN</td>\n",
              "      <td>NaN</td>\n",
              "      <td>NaN</td>\n",
              "      <td>NaN</td>\n",
              "      <td>NaN</td>\n",
              "      <td>NaN</td>\n",
              "      <td>NaN</td>\n",
              "      <td>NaN</td>\n",
              "      <td>NaN</td>\n",
              "      <td>NaN</td>\n",
              "      <td>NaN</td>\n",
              "      <td>NaN</td>\n",
              "      <td>NaN</td>\n",
              "      <td>NaN</td>\n",
              "      <td>NaN</td>\n",
              "      <td>NaN</td>\n",
              "      <td>NaN</td>\n",
              "      <td>NaN</td>\n",
              "      <td>NaN</td>\n",
              "      <td>NaN</td>\n",
              "      <td>NaN</td>\n",
              "      <td>NaN</td>\n",
              "      <td>NaN</td>\n",
              "      <td>NaN</td>\n",
              "      <td>NaN</td>\n",
              "      <td>NaN</td>\n",
              "      <td>NaN</td>\n",
              "      <td>...</td>\n",
              "      <td>NaN</td>\n",
              "      <td>NaN</td>\n",
              "      <td>NaN</td>\n",
              "      <td>NaN</td>\n",
              "      <td>NaN</td>\n",
              "      <td>NaN</td>\n",
              "      <td>NaN</td>\n",
              "      <td>NaN</td>\n",
              "      <td>NaN</td>\n",
              "      <td>NaN</td>\n",
              "      <td>NaN</td>\n",
              "      <td>NaN</td>\n",
              "      <td>NaN</td>\n",
              "      <td>NaN</td>\n",
              "      <td>NaN</td>\n",
              "      <td>NaN</td>\n",
              "      <td>NaN</td>\n",
              "      <td>NaN</td>\n",
              "      <td>NaN</td>\n",
              "      <td>NaN</td>\n",
              "      <td>NaN</td>\n",
              "      <td>NaN</td>\n",
              "      <td>NaN</td>\n",
              "      <td>NaN</td>\n",
              "      <td>NaN</td>\n",
              "      <td>NaN</td>\n",
              "      <td>NaN</td>\n",
              "      <td>NaN</td>\n",
              "      <td>NaN</td>\n",
              "      <td>NaN</td>\n",
              "      <td>NaN</td>\n",
              "      <td>NaN</td>\n",
              "      <td>NaN</td>\n",
              "      <td>NaN</td>\n",
              "      <td>NaN</td>\n",
              "      <td>NaN</td>\n",
              "      <td>NaN</td>\n",
              "      <td>NaN</td>\n",
              "      <td>NaN</td>\n",
              "      <td>NaN</td>\n",
              "    </tr>\n",
              "    <tr>\n",
              "      <th>568</th>\n",
              "      <td>21/7/2021</td>\n",
              "      <td>82325</td>\n",
              "      <td>12210</td>\n",
              "      <td>NaN</td>\n",
              "      <td>NaN</td>\n",
              "      <td>NaN</td>\n",
              "      <td>NaN</td>\n",
              "      <td>NaN</td>\n",
              "      <td>NaN</td>\n",
              "      <td>NaN</td>\n",
              "      <td>NaN</td>\n",
              "      <td>NaN</td>\n",
              "      <td>NaN</td>\n",
              "      <td>NaN</td>\n",
              "      <td>NaN</td>\n",
              "      <td>NaN</td>\n",
              "      <td>NaN</td>\n",
              "      <td>NaN</td>\n",
              "      <td>NaN</td>\n",
              "      <td>NaN</td>\n",
              "      <td>NaN</td>\n",
              "      <td>NaN</td>\n",
              "      <td>NaN</td>\n",
              "      <td>NaN</td>\n",
              "      <td>NaN</td>\n",
              "      <td>NaN</td>\n",
              "      <td>NaN</td>\n",
              "      <td>NaN</td>\n",
              "      <td>NaN</td>\n",
              "      <td>NaN</td>\n",
              "      <td>NaN</td>\n",
              "      <td>NaN</td>\n",
              "      <td>NaN</td>\n",
              "      <td>NaN</td>\n",
              "      <td>NaN</td>\n",
              "      <td>NaN</td>\n",
              "      <td>NaN</td>\n",
              "      <td>NaN</td>\n",
              "      <td>NaN</td>\n",
              "      <td>NaN</td>\n",
              "      <td>...</td>\n",
              "      <td>NaN</td>\n",
              "      <td>NaN</td>\n",
              "      <td>NaN</td>\n",
              "      <td>NaN</td>\n",
              "      <td>NaN</td>\n",
              "      <td>NaN</td>\n",
              "      <td>NaN</td>\n",
              "      <td>NaN</td>\n",
              "      <td>NaN</td>\n",
              "      <td>NaN</td>\n",
              "      <td>NaN</td>\n",
              "      <td>NaN</td>\n",
              "      <td>NaN</td>\n",
              "      <td>NaN</td>\n",
              "      <td>NaN</td>\n",
              "      <td>NaN</td>\n",
              "      <td>NaN</td>\n",
              "      <td>NaN</td>\n",
              "      <td>NaN</td>\n",
              "      <td>NaN</td>\n",
              "      <td>NaN</td>\n",
              "      <td>NaN</td>\n",
              "      <td>NaN</td>\n",
              "      <td>NaN</td>\n",
              "      <td>NaN</td>\n",
              "      <td>NaN</td>\n",
              "      <td>NaN</td>\n",
              "      <td>NaN</td>\n",
              "      <td>NaN</td>\n",
              "      <td>NaN</td>\n",
              "      <td>NaN</td>\n",
              "      <td>NaN</td>\n",
              "      <td>NaN</td>\n",
              "      <td>NaN</td>\n",
              "      <td>NaN</td>\n",
              "      <td>NaN</td>\n",
              "      <td>NaN</td>\n",
              "      <td>NaN</td>\n",
              "      <td>NaN</td>\n",
              "      <td>NaN</td>\n",
              "    </tr>\n",
              "    <tr>\n",
              "      <th>569</th>\n",
              "      <td>22/7/2021</td>\n",
              "      <td>62846</td>\n",
              "      <td>10623</td>\n",
              "      <td>NaN</td>\n",
              "      <td>NaN</td>\n",
              "      <td>NaN</td>\n",
              "      <td>NaN</td>\n",
              "      <td>NaN</td>\n",
              "      <td>NaN</td>\n",
              "      <td>NaN</td>\n",
              "      <td>NaN</td>\n",
              "      <td>NaN</td>\n",
              "      <td>NaN</td>\n",
              "      <td>NaN</td>\n",
              "      <td>NaN</td>\n",
              "      <td>NaN</td>\n",
              "      <td>NaN</td>\n",
              "      <td>NaN</td>\n",
              "      <td>NaN</td>\n",
              "      <td>NaN</td>\n",
              "      <td>NaN</td>\n",
              "      <td>NaN</td>\n",
              "      <td>NaN</td>\n",
              "      <td>NaN</td>\n",
              "      <td>NaN</td>\n",
              "      <td>NaN</td>\n",
              "      <td>NaN</td>\n",
              "      <td>NaN</td>\n",
              "      <td>NaN</td>\n",
              "      <td>NaN</td>\n",
              "      <td>NaN</td>\n",
              "      <td>NaN</td>\n",
              "      <td>NaN</td>\n",
              "      <td>NaN</td>\n",
              "      <td>NaN</td>\n",
              "      <td>NaN</td>\n",
              "      <td>NaN</td>\n",
              "      <td>NaN</td>\n",
              "      <td>NaN</td>\n",
              "      <td>NaN</td>\n",
              "      <td>...</td>\n",
              "      <td>NaN</td>\n",
              "      <td>NaN</td>\n",
              "      <td>NaN</td>\n",
              "      <td>NaN</td>\n",
              "      <td>NaN</td>\n",
              "      <td>NaN</td>\n",
              "      <td>NaN</td>\n",
              "      <td>NaN</td>\n",
              "      <td>NaN</td>\n",
              "      <td>NaN</td>\n",
              "      <td>NaN</td>\n",
              "      <td>NaN</td>\n",
              "      <td>NaN</td>\n",
              "      <td>NaN</td>\n",
              "      <td>NaN</td>\n",
              "      <td>NaN</td>\n",
              "      <td>NaN</td>\n",
              "      <td>NaN</td>\n",
              "      <td>NaN</td>\n",
              "      <td>NaN</td>\n",
              "      <td>NaN</td>\n",
              "      <td>NaN</td>\n",
              "      <td>NaN</td>\n",
              "      <td>NaN</td>\n",
              "      <td>NaN</td>\n",
              "      <td>NaN</td>\n",
              "      <td>NaN</td>\n",
              "      <td>NaN</td>\n",
              "      <td>NaN</td>\n",
              "      <td>NaN</td>\n",
              "      <td>NaN</td>\n",
              "      <td>NaN</td>\n",
              "      <td>NaN</td>\n",
              "      <td>NaN</td>\n",
              "      <td>NaN</td>\n",
              "      <td>NaN</td>\n",
              "      <td>NaN</td>\n",
              "      <td>NaN</td>\n",
              "      <td>NaN</td>\n",
              "      <td>NaN</td>\n",
              "    </tr>\n",
              "    <tr>\n",
              "      <th>570</th>\n",
              "      <td>23/7/2021</td>\n",
              "      <td>58851</td>\n",
              "      <td>10200</td>\n",
              "      <td>NaN</td>\n",
              "      <td>NaN</td>\n",
              "      <td>NaN</td>\n",
              "      <td>NaN</td>\n",
              "      <td>NaN</td>\n",
              "      <td>NaN</td>\n",
              "      <td>NaN</td>\n",
              "      <td>NaN</td>\n",
              "      <td>NaN</td>\n",
              "      <td>NaN</td>\n",
              "      <td>NaN</td>\n",
              "      <td>NaN</td>\n",
              "      <td>NaN</td>\n",
              "      <td>NaN</td>\n",
              "      <td>NaN</td>\n",
              "      <td>NaN</td>\n",
              "      <td>NaN</td>\n",
              "      <td>NaN</td>\n",
              "      <td>NaN</td>\n",
              "      <td>NaN</td>\n",
              "      <td>NaN</td>\n",
              "      <td>NaN</td>\n",
              "      <td>NaN</td>\n",
              "      <td>NaN</td>\n",
              "      <td>NaN</td>\n",
              "      <td>NaN</td>\n",
              "      <td>NaN</td>\n",
              "      <td>NaN</td>\n",
              "      <td>NaN</td>\n",
              "      <td>NaN</td>\n",
              "      <td>NaN</td>\n",
              "      <td>NaN</td>\n",
              "      <td>NaN</td>\n",
              "      <td>NaN</td>\n",
              "      <td>NaN</td>\n",
              "      <td>NaN</td>\n",
              "      <td>NaN</td>\n",
              "      <td>...</td>\n",
              "      <td>NaN</td>\n",
              "      <td>NaN</td>\n",
              "      <td>NaN</td>\n",
              "      <td>NaN</td>\n",
              "      <td>NaN</td>\n",
              "      <td>NaN</td>\n",
              "      <td>NaN</td>\n",
              "      <td>NaN</td>\n",
              "      <td>NaN</td>\n",
              "      <td>NaN</td>\n",
              "      <td>NaN</td>\n",
              "      <td>NaN</td>\n",
              "      <td>NaN</td>\n",
              "      <td>NaN</td>\n",
              "      <td>NaN</td>\n",
              "      <td>NaN</td>\n",
              "      <td>NaN</td>\n",
              "      <td>NaN</td>\n",
              "      <td>NaN</td>\n",
              "      <td>NaN</td>\n",
              "      <td>NaN</td>\n",
              "      <td>NaN</td>\n",
              "      <td>NaN</td>\n",
              "      <td>NaN</td>\n",
              "      <td>NaN</td>\n",
              "      <td>NaN</td>\n",
              "      <td>NaN</td>\n",
              "      <td>NaN</td>\n",
              "      <td>NaN</td>\n",
              "      <td>NaN</td>\n",
              "      <td>NaN</td>\n",
              "      <td>NaN</td>\n",
              "      <td>NaN</td>\n",
              "      <td>NaN</td>\n",
              "      <td>NaN</td>\n",
              "      <td>NaN</td>\n",
              "      <td>NaN</td>\n",
              "      <td>NaN</td>\n",
              "      <td>NaN</td>\n",
              "      <td>NaN</td>\n",
              "    </tr>\n",
              "    <tr>\n",
              "      <th>571</th>\n",
              "      <td>24/7/2021</td>\n",
              "      <td>67283</td>\n",
              "      <td>13745</td>\n",
              "      <td>NaN</td>\n",
              "      <td>NaN</td>\n",
              "      <td>NaN</td>\n",
              "      <td>NaN</td>\n",
              "      <td>NaN</td>\n",
              "      <td>NaN</td>\n",
              "      <td>NaN</td>\n",
              "      <td>NaN</td>\n",
              "      <td>NaN</td>\n",
              "      <td>NaN</td>\n",
              "      <td>NaN</td>\n",
              "      <td>NaN</td>\n",
              "      <td>NaN</td>\n",
              "      <td>NaN</td>\n",
              "      <td>NaN</td>\n",
              "      <td>NaN</td>\n",
              "      <td>NaN</td>\n",
              "      <td>NaN</td>\n",
              "      <td>NaN</td>\n",
              "      <td>NaN</td>\n",
              "      <td>NaN</td>\n",
              "      <td>NaN</td>\n",
              "      <td>NaN</td>\n",
              "      <td>NaN</td>\n",
              "      <td>NaN</td>\n",
              "      <td>NaN</td>\n",
              "      <td>NaN</td>\n",
              "      <td>NaN</td>\n",
              "      <td>NaN</td>\n",
              "      <td>NaN</td>\n",
              "      <td>NaN</td>\n",
              "      <td>NaN</td>\n",
              "      <td>NaN</td>\n",
              "      <td>NaN</td>\n",
              "      <td>NaN</td>\n",
              "      <td>NaN</td>\n",
              "      <td>NaN</td>\n",
              "      <td>...</td>\n",
              "      <td>NaN</td>\n",
              "      <td>NaN</td>\n",
              "      <td>NaN</td>\n",
              "      <td>NaN</td>\n",
              "      <td>NaN</td>\n",
              "      <td>NaN</td>\n",
              "      <td>NaN</td>\n",
              "      <td>NaN</td>\n",
              "      <td>NaN</td>\n",
              "      <td>NaN</td>\n",
              "      <td>NaN</td>\n",
              "      <td>NaN</td>\n",
              "      <td>NaN</td>\n",
              "      <td>NaN</td>\n",
              "      <td>NaN</td>\n",
              "      <td>NaN</td>\n",
              "      <td>NaN</td>\n",
              "      <td>NaN</td>\n",
              "      <td>NaN</td>\n",
              "      <td>NaN</td>\n",
              "      <td>NaN</td>\n",
              "      <td>NaN</td>\n",
              "      <td>NaN</td>\n",
              "      <td>NaN</td>\n",
              "      <td>NaN</td>\n",
              "      <td>NaN</td>\n",
              "      <td>NaN</td>\n",
              "      <td>NaN</td>\n",
              "      <td>NaN</td>\n",
              "      <td>NaN</td>\n",
              "      <td>NaN</td>\n",
              "      <td>NaN</td>\n",
              "      <td>NaN</td>\n",
              "      <td>NaN</td>\n",
              "      <td>NaN</td>\n",
              "      <td>NaN</td>\n",
              "      <td>NaN</td>\n",
              "      <td>NaN</td>\n",
              "      <td>NaN</td>\n",
              "      <td>NaN</td>\n",
              "    </tr>\n",
              "  </tbody>\n",
              "</table>\n",
              "<p>572 rows × 122 columns</p>\n",
              "</div>"
            ],
            "text/plain": [
              "                    Date  positive  ...  Unnamed: 120  Unnamed: 121\n",
              "0    Cannot specify date      2963  ...           NaN           NaN\n",
              "1               1/1/2020         0  ...            31           NaN\n",
              "2               2/1/2020         0  ...           Pos           Pos\n",
              "3               3/1/2020         0  ...           NaN           NaN\n",
              "4               4/1/2020         0  ...           NaN           NaN\n",
              "..                   ...       ...  ...           ...           ...\n",
              "567            20/7/2021     68403  ...           NaN           NaN\n",
              "568            21/7/2021     82325  ...           NaN           NaN\n",
              "569            22/7/2021     62846  ...           NaN           NaN\n",
              "570            23/7/2021     58851  ...           NaN           NaN\n",
              "571            24/7/2021     67283  ...           NaN           NaN\n",
              "\n",
              "[572 rows x 122 columns]"
            ]
          },
          "metadata": {
            "tags": []
          },
          "execution_count": 10
        }
      ]
    },
    {
      "cell_type": "markdown",
      "metadata": {
        "id": "wX6X4cVKS8S2"
      },
      "source": [
        "*NaN = Not a Number (ช่องว่าง) "
      ]
    },
    {
      "cell_type": "code",
      "metadata": {
        "id": "ssNCInGpQ_o1",
        "colab": {
          "base_uri": "https://localhost:8080/",
          "height": 419
        },
        "outputId": "068d68ea-dfb0-4007-a8c8-d155f79dcf2f"
      },
      "source": [
        "data.iloc[:,:3] #ตัดเมทริกซ์ถึงที่สาม"
      ],
      "execution_count": null,
      "outputs": [
        {
          "output_type": "execute_result",
          "data": {
            "text/html": [
              "<div>\n",
              "<style scoped>\n",
              "    .dataframe tbody tr th:only-of-type {\n",
              "        vertical-align: middle;\n",
              "    }\n",
              "\n",
              "    .dataframe tbody tr th {\n",
              "        vertical-align: top;\n",
              "    }\n",
              "\n",
              "    .dataframe thead th {\n",
              "        text-align: right;\n",
              "    }\n",
              "</style>\n",
              "<table border=\"1\" class=\"dataframe\">\n",
              "  <thead>\n",
              "    <tr style=\"text-align: right;\">\n",
              "      <th></th>\n",
              "      <th>Date</th>\n",
              "      <th>positive</th>\n",
              "      <th>Total Testing</th>\n",
              "    </tr>\n",
              "  </thead>\n",
              "  <tbody>\n",
              "    <tr>\n",
              "      <th>0</th>\n",
              "      <td>Cannot specify date</td>\n",
              "      <td>2963</td>\n",
              "      <td>32131</td>\n",
              "    </tr>\n",
              "    <tr>\n",
              "      <th>1</th>\n",
              "      <td>1/1/2020</td>\n",
              "      <td>0</td>\n",
              "      <td>0</td>\n",
              "    </tr>\n",
              "    <tr>\n",
              "      <th>2</th>\n",
              "      <td>2/1/2020</td>\n",
              "      <td>0</td>\n",
              "      <td>0</td>\n",
              "    </tr>\n",
              "    <tr>\n",
              "      <th>3</th>\n",
              "      <td>3/1/2020</td>\n",
              "      <td>0</td>\n",
              "      <td>0</td>\n",
              "    </tr>\n",
              "    <tr>\n",
              "      <th>4</th>\n",
              "      <td>4/1/2020</td>\n",
              "      <td>0</td>\n",
              "      <td>2</td>\n",
              "    </tr>\n",
              "    <tr>\n",
              "      <th>...</th>\n",
              "      <td>...</td>\n",
              "      <td>...</td>\n",
              "      <td>...</td>\n",
              "    </tr>\n",
              "    <tr>\n",
              "      <th>567</th>\n",
              "      <td>20/7/2021</td>\n",
              "      <td>68403</td>\n",
              "      <td>10152</td>\n",
              "    </tr>\n",
              "    <tr>\n",
              "      <th>568</th>\n",
              "      <td>21/7/2021</td>\n",
              "      <td>82325</td>\n",
              "      <td>12210</td>\n",
              "    </tr>\n",
              "    <tr>\n",
              "      <th>569</th>\n",
              "      <td>22/7/2021</td>\n",
              "      <td>62846</td>\n",
              "      <td>10623</td>\n",
              "    </tr>\n",
              "    <tr>\n",
              "      <th>570</th>\n",
              "      <td>23/7/2021</td>\n",
              "      <td>58851</td>\n",
              "      <td>10200</td>\n",
              "    </tr>\n",
              "    <tr>\n",
              "      <th>571</th>\n",
              "      <td>24/7/2021</td>\n",
              "      <td>67283</td>\n",
              "      <td>13745</td>\n",
              "    </tr>\n",
              "  </tbody>\n",
              "</table>\n",
              "<p>572 rows × 3 columns</p>\n",
              "</div>"
            ],
            "text/plain": [
              "                    Date  positive  Total Testing\n",
              "0    Cannot specify date      2963          32131\n",
              "1               1/1/2020         0              0\n",
              "2               2/1/2020         0              0\n",
              "3               3/1/2020         0              0\n",
              "4               4/1/2020         0              2\n",
              "..                   ...       ...            ...\n",
              "567            20/7/2021     68403          10152\n",
              "568            21/7/2021     82325          12210\n",
              "569            22/7/2021     62846          10623\n",
              "570            23/7/2021     58851          10200\n",
              "571            24/7/2021     67283          13745\n",
              "\n",
              "[572 rows x 3 columns]"
            ]
          },
          "metadata": {
            "tags": []
          },
          "execution_count": 11
        }
      ]
    },
    {
      "cell_type": "code",
      "metadata": {
        "id": "pLYs5YHkTC8O"
      },
      "source": [
        "dataN = data.iloc[:,:3]"
      ],
      "execution_count": null,
      "outputs": []
    },
    {
      "cell_type": "code",
      "metadata": {
        "colab": {
          "base_uri": "https://localhost:8080/",
          "height": 419
        },
        "id": "Xrsjjq4tTE1X",
        "outputId": "d9aa5668-754d-4129-9abd-ada921d310f3"
      },
      "source": [
        "dataN"
      ],
      "execution_count": null,
      "outputs": [
        {
          "output_type": "execute_result",
          "data": {
            "text/html": [
              "<div>\n",
              "<style scoped>\n",
              "    .dataframe tbody tr th:only-of-type {\n",
              "        vertical-align: middle;\n",
              "    }\n",
              "\n",
              "    .dataframe tbody tr th {\n",
              "        vertical-align: top;\n",
              "    }\n",
              "\n",
              "    .dataframe thead th {\n",
              "        text-align: right;\n",
              "    }\n",
              "</style>\n",
              "<table border=\"1\" class=\"dataframe\">\n",
              "  <thead>\n",
              "    <tr style=\"text-align: right;\">\n",
              "      <th></th>\n",
              "      <th>Date</th>\n",
              "      <th>positive</th>\n",
              "      <th>Total Testing</th>\n",
              "    </tr>\n",
              "  </thead>\n",
              "  <tbody>\n",
              "    <tr>\n",
              "      <th>0</th>\n",
              "      <td>Cannot specify date</td>\n",
              "      <td>2963</td>\n",
              "      <td>32131</td>\n",
              "    </tr>\n",
              "    <tr>\n",
              "      <th>1</th>\n",
              "      <td>1/1/2020</td>\n",
              "      <td>0</td>\n",
              "      <td>0</td>\n",
              "    </tr>\n",
              "    <tr>\n",
              "      <th>2</th>\n",
              "      <td>2/1/2020</td>\n",
              "      <td>0</td>\n",
              "      <td>0</td>\n",
              "    </tr>\n",
              "    <tr>\n",
              "      <th>3</th>\n",
              "      <td>3/1/2020</td>\n",
              "      <td>0</td>\n",
              "      <td>0</td>\n",
              "    </tr>\n",
              "    <tr>\n",
              "      <th>4</th>\n",
              "      <td>4/1/2020</td>\n",
              "      <td>0</td>\n",
              "      <td>2</td>\n",
              "    </tr>\n",
              "    <tr>\n",
              "      <th>...</th>\n",
              "      <td>...</td>\n",
              "      <td>...</td>\n",
              "      <td>...</td>\n",
              "    </tr>\n",
              "    <tr>\n",
              "      <th>567</th>\n",
              "      <td>20/7/2021</td>\n",
              "      <td>68403</td>\n",
              "      <td>10152</td>\n",
              "    </tr>\n",
              "    <tr>\n",
              "      <th>568</th>\n",
              "      <td>21/7/2021</td>\n",
              "      <td>82325</td>\n",
              "      <td>12210</td>\n",
              "    </tr>\n",
              "    <tr>\n",
              "      <th>569</th>\n",
              "      <td>22/7/2021</td>\n",
              "      <td>62846</td>\n",
              "      <td>10623</td>\n",
              "    </tr>\n",
              "    <tr>\n",
              "      <th>570</th>\n",
              "      <td>23/7/2021</td>\n",
              "      <td>58851</td>\n",
              "      <td>10200</td>\n",
              "    </tr>\n",
              "    <tr>\n",
              "      <th>571</th>\n",
              "      <td>24/7/2021</td>\n",
              "      <td>67283</td>\n",
              "      <td>13745</td>\n",
              "    </tr>\n",
              "  </tbody>\n",
              "</table>\n",
              "<p>572 rows × 3 columns</p>\n",
              "</div>"
            ],
            "text/plain": [
              "                    Date  positive  Total Testing\n",
              "0    Cannot specify date      2963          32131\n",
              "1               1/1/2020         0              0\n",
              "2               2/1/2020         0              0\n",
              "3               3/1/2020         0              0\n",
              "4               4/1/2020         0              2\n",
              "..                   ...       ...            ...\n",
              "567            20/7/2021     68403          10152\n",
              "568            21/7/2021     82325          12210\n",
              "569            22/7/2021     62846          10623\n",
              "570            23/7/2021     58851          10200\n",
              "571            24/7/2021     67283          13745\n",
              "\n",
              "[572 rows x 3 columns]"
            ]
          },
          "metadata": {
            "tags": []
          },
          "execution_count": 13
        }
      ]
    },
    {
      "cell_type": "markdown",
      "metadata": {
        "id": "Be_q6_FYTHYx"
      },
      "source": [
        "### .head() .tail()"
      ]
    },
    {
      "cell_type": "code",
      "metadata": {
        "colab": {
          "base_uri": "https://localhost:8080/",
          "height": 204
        },
        "id": "Y3lBOYdyTI-z",
        "outputId": "4d3d76e2-8235-4914-a254-17f338b37405"
      },
      "source": [
        "dataN.head()  #ตรวจสอบดูหัวตาราง"
      ],
      "execution_count": null,
      "outputs": [
        {
          "output_type": "execute_result",
          "data": {
            "text/html": [
              "<div>\n",
              "<style scoped>\n",
              "    .dataframe tbody tr th:only-of-type {\n",
              "        vertical-align: middle;\n",
              "    }\n",
              "\n",
              "    .dataframe tbody tr th {\n",
              "        vertical-align: top;\n",
              "    }\n",
              "\n",
              "    .dataframe thead th {\n",
              "        text-align: right;\n",
              "    }\n",
              "</style>\n",
              "<table border=\"1\" class=\"dataframe\">\n",
              "  <thead>\n",
              "    <tr style=\"text-align: right;\">\n",
              "      <th></th>\n",
              "      <th>Date</th>\n",
              "      <th>positive</th>\n",
              "      <th>Total Testing</th>\n",
              "    </tr>\n",
              "  </thead>\n",
              "  <tbody>\n",
              "    <tr>\n",
              "      <th>0</th>\n",
              "      <td>Cannot specify date</td>\n",
              "      <td>2963</td>\n",
              "      <td>32131</td>\n",
              "    </tr>\n",
              "    <tr>\n",
              "      <th>1</th>\n",
              "      <td>1/1/2020</td>\n",
              "      <td>0</td>\n",
              "      <td>0</td>\n",
              "    </tr>\n",
              "    <tr>\n",
              "      <th>2</th>\n",
              "      <td>2/1/2020</td>\n",
              "      <td>0</td>\n",
              "      <td>0</td>\n",
              "    </tr>\n",
              "    <tr>\n",
              "      <th>3</th>\n",
              "      <td>3/1/2020</td>\n",
              "      <td>0</td>\n",
              "      <td>0</td>\n",
              "    </tr>\n",
              "    <tr>\n",
              "      <th>4</th>\n",
              "      <td>4/1/2020</td>\n",
              "      <td>0</td>\n",
              "      <td>2</td>\n",
              "    </tr>\n",
              "  </tbody>\n",
              "</table>\n",
              "</div>"
            ],
            "text/plain": [
              "                  Date  positive  Total Testing\n",
              "0  Cannot specify date      2963          32131\n",
              "1             1/1/2020         0              0\n",
              "2             2/1/2020         0              0\n",
              "3             3/1/2020         0              0\n",
              "4             4/1/2020         0              2"
            ]
          },
          "metadata": {
            "tags": []
          },
          "execution_count": 14
        }
      ]
    },
    {
      "cell_type": "code",
      "metadata": {
        "colab": {
          "base_uri": "https://localhost:8080/",
          "height": 204
        },
        "id": "2btLrNIpTKzI",
        "outputId": "0d2cb9d2-1ff7-4ac0-b8e3-163917e39a07"
      },
      "source": [
        "dataN.tail()  #ตรวจสอบดูท้ายตาราง"
      ],
      "execution_count": null,
      "outputs": [
        {
          "output_type": "execute_result",
          "data": {
            "text/html": [
              "<div>\n",
              "<style scoped>\n",
              "    .dataframe tbody tr th:only-of-type {\n",
              "        vertical-align: middle;\n",
              "    }\n",
              "\n",
              "    .dataframe tbody tr th {\n",
              "        vertical-align: top;\n",
              "    }\n",
              "\n",
              "    .dataframe thead th {\n",
              "        text-align: right;\n",
              "    }\n",
              "</style>\n",
              "<table border=\"1\" class=\"dataframe\">\n",
              "  <thead>\n",
              "    <tr style=\"text-align: right;\">\n",
              "      <th></th>\n",
              "      <th>Date</th>\n",
              "      <th>positive</th>\n",
              "      <th>Total Testing</th>\n",
              "    </tr>\n",
              "  </thead>\n",
              "  <tbody>\n",
              "    <tr>\n",
              "      <th>567</th>\n",
              "      <td>20/7/2021</td>\n",
              "      <td>68403</td>\n",
              "      <td>10152</td>\n",
              "    </tr>\n",
              "    <tr>\n",
              "      <th>568</th>\n",
              "      <td>21/7/2021</td>\n",
              "      <td>82325</td>\n",
              "      <td>12210</td>\n",
              "    </tr>\n",
              "    <tr>\n",
              "      <th>569</th>\n",
              "      <td>22/7/2021</td>\n",
              "      <td>62846</td>\n",
              "      <td>10623</td>\n",
              "    </tr>\n",
              "    <tr>\n",
              "      <th>570</th>\n",
              "      <td>23/7/2021</td>\n",
              "      <td>58851</td>\n",
              "      <td>10200</td>\n",
              "    </tr>\n",
              "    <tr>\n",
              "      <th>571</th>\n",
              "      <td>24/7/2021</td>\n",
              "      <td>67283</td>\n",
              "      <td>13745</td>\n",
              "    </tr>\n",
              "  </tbody>\n",
              "</table>\n",
              "</div>"
            ],
            "text/plain": [
              "          Date  positive  Total Testing\n",
              "567  20/7/2021     68403          10152\n",
              "568  21/7/2021     82325          12210\n",
              "569  22/7/2021     62846          10623\n",
              "570  23/7/2021     58851          10200\n",
              "571  24/7/2021     67283          13745"
            ]
          },
          "metadata": {
            "tags": []
          },
          "execution_count": 15
        }
      ]
    },
    {
      "cell_type": "code",
      "metadata": {
        "colab": {
          "base_uri": "https://localhost:8080/",
          "height": 359
        },
        "id": "WNKs8qaDTMqA",
        "outputId": "c7cca91e-5040-4102-ace7-430ae9c7705b"
      },
      "source": [
        "dataN.head(10) #ใส่ค่าdefault"
      ],
      "execution_count": null,
      "outputs": [
        {
          "output_type": "execute_result",
          "data": {
            "text/html": [
              "<div>\n",
              "<style scoped>\n",
              "    .dataframe tbody tr th:only-of-type {\n",
              "        vertical-align: middle;\n",
              "    }\n",
              "\n",
              "    .dataframe tbody tr th {\n",
              "        vertical-align: top;\n",
              "    }\n",
              "\n",
              "    .dataframe thead th {\n",
              "        text-align: right;\n",
              "    }\n",
              "</style>\n",
              "<table border=\"1\" class=\"dataframe\">\n",
              "  <thead>\n",
              "    <tr style=\"text-align: right;\">\n",
              "      <th></th>\n",
              "      <th>Date</th>\n",
              "      <th>positive</th>\n",
              "      <th>Total Testing</th>\n",
              "    </tr>\n",
              "  </thead>\n",
              "  <tbody>\n",
              "    <tr>\n",
              "      <th>0</th>\n",
              "      <td>Cannot specify date</td>\n",
              "      <td>2963</td>\n",
              "      <td>32131</td>\n",
              "    </tr>\n",
              "    <tr>\n",
              "      <th>1</th>\n",
              "      <td>1/1/2020</td>\n",
              "      <td>0</td>\n",
              "      <td>0</td>\n",
              "    </tr>\n",
              "    <tr>\n",
              "      <th>2</th>\n",
              "      <td>2/1/2020</td>\n",
              "      <td>0</td>\n",
              "      <td>0</td>\n",
              "    </tr>\n",
              "    <tr>\n",
              "      <th>3</th>\n",
              "      <td>3/1/2020</td>\n",
              "      <td>0</td>\n",
              "      <td>0</td>\n",
              "    </tr>\n",
              "    <tr>\n",
              "      <th>4</th>\n",
              "      <td>4/1/2020</td>\n",
              "      <td>0</td>\n",
              "      <td>2</td>\n",
              "    </tr>\n",
              "    <tr>\n",
              "      <th>5</th>\n",
              "      <td>5/1/2020</td>\n",
              "      <td>0</td>\n",
              "      <td>2</td>\n",
              "    </tr>\n",
              "    <tr>\n",
              "      <th>6</th>\n",
              "      <td>6/1/2020</td>\n",
              "      <td>0</td>\n",
              "      <td>5</td>\n",
              "    </tr>\n",
              "    <tr>\n",
              "      <th>7</th>\n",
              "      <td>7/1/2020</td>\n",
              "      <td>0</td>\n",
              "      <td>0</td>\n",
              "    </tr>\n",
              "    <tr>\n",
              "      <th>8</th>\n",
              "      <td>8/1/2020</td>\n",
              "      <td>1</td>\n",
              "      <td>1</td>\n",
              "    </tr>\n",
              "    <tr>\n",
              "      <th>9</th>\n",
              "      <td>9/1/2020</td>\n",
              "      <td>4</td>\n",
              "      <td>13</td>\n",
              "    </tr>\n",
              "  </tbody>\n",
              "</table>\n",
              "</div>"
            ],
            "text/plain": [
              "                  Date  positive  Total Testing\n",
              "0  Cannot specify date      2963          32131\n",
              "1             1/1/2020         0              0\n",
              "2             2/1/2020         0              0\n",
              "3             3/1/2020         0              0\n",
              "4             4/1/2020         0              2\n",
              "5             5/1/2020         0              2\n",
              "6             6/1/2020         0              5\n",
              "7             7/1/2020         0              0\n",
              "8             8/1/2020         1              1\n",
              "9             9/1/2020         4             13"
            ]
          },
          "metadata": {
            "tags": []
          },
          "execution_count": 16
        }
      ]
    },
    {
      "cell_type": "code",
      "metadata": {
        "colab": {
          "base_uri": "https://localhost:8080/",
          "height": 452
        },
        "id": "0UAte9wjTO2K",
        "outputId": "d010b281-0e96-4ddf-a79e-a1b51c39ce26"
      },
      "source": [
        "dataN.head(n=13)"
      ],
      "execution_count": null,
      "outputs": [
        {
          "output_type": "execute_result",
          "data": {
            "text/html": [
              "<div>\n",
              "<style scoped>\n",
              "    .dataframe tbody tr th:only-of-type {\n",
              "        vertical-align: middle;\n",
              "    }\n",
              "\n",
              "    .dataframe tbody tr th {\n",
              "        vertical-align: top;\n",
              "    }\n",
              "\n",
              "    .dataframe thead th {\n",
              "        text-align: right;\n",
              "    }\n",
              "</style>\n",
              "<table border=\"1\" class=\"dataframe\">\n",
              "  <thead>\n",
              "    <tr style=\"text-align: right;\">\n",
              "      <th></th>\n",
              "      <th>Date</th>\n",
              "      <th>positive</th>\n",
              "      <th>Total Testing</th>\n",
              "    </tr>\n",
              "  </thead>\n",
              "  <tbody>\n",
              "    <tr>\n",
              "      <th>0</th>\n",
              "      <td>Cannot specify date</td>\n",
              "      <td>2963</td>\n",
              "      <td>32131</td>\n",
              "    </tr>\n",
              "    <tr>\n",
              "      <th>1</th>\n",
              "      <td>1/1/2020</td>\n",
              "      <td>0</td>\n",
              "      <td>0</td>\n",
              "    </tr>\n",
              "    <tr>\n",
              "      <th>2</th>\n",
              "      <td>2/1/2020</td>\n",
              "      <td>0</td>\n",
              "      <td>0</td>\n",
              "    </tr>\n",
              "    <tr>\n",
              "      <th>3</th>\n",
              "      <td>3/1/2020</td>\n",
              "      <td>0</td>\n",
              "      <td>0</td>\n",
              "    </tr>\n",
              "    <tr>\n",
              "      <th>4</th>\n",
              "      <td>4/1/2020</td>\n",
              "      <td>0</td>\n",
              "      <td>2</td>\n",
              "    </tr>\n",
              "    <tr>\n",
              "      <th>5</th>\n",
              "      <td>5/1/2020</td>\n",
              "      <td>0</td>\n",
              "      <td>2</td>\n",
              "    </tr>\n",
              "    <tr>\n",
              "      <th>6</th>\n",
              "      <td>6/1/2020</td>\n",
              "      <td>0</td>\n",
              "      <td>5</td>\n",
              "    </tr>\n",
              "    <tr>\n",
              "      <th>7</th>\n",
              "      <td>7/1/2020</td>\n",
              "      <td>0</td>\n",
              "      <td>0</td>\n",
              "    </tr>\n",
              "    <tr>\n",
              "      <th>8</th>\n",
              "      <td>8/1/2020</td>\n",
              "      <td>1</td>\n",
              "      <td>1</td>\n",
              "    </tr>\n",
              "    <tr>\n",
              "      <th>9</th>\n",
              "      <td>9/1/2020</td>\n",
              "      <td>4</td>\n",
              "      <td>13</td>\n",
              "    </tr>\n",
              "    <tr>\n",
              "      <th>10</th>\n",
              "      <td>10/1/2020</td>\n",
              "      <td>0</td>\n",
              "      <td>18</td>\n",
              "    </tr>\n",
              "    <tr>\n",
              "      <th>11</th>\n",
              "      <td>11/1/2020</td>\n",
              "      <td>0</td>\n",
              "      <td>3</td>\n",
              "    </tr>\n",
              "    <tr>\n",
              "      <th>12</th>\n",
              "      <td>12/1/2020</td>\n",
              "      <td>2</td>\n",
              "      <td>6</td>\n",
              "    </tr>\n",
              "  </tbody>\n",
              "</table>\n",
              "</div>"
            ],
            "text/plain": [
              "                   Date  positive  Total Testing\n",
              "0   Cannot specify date      2963          32131\n",
              "1              1/1/2020         0              0\n",
              "2              2/1/2020         0              0\n",
              "3              3/1/2020         0              0\n",
              "4              4/1/2020         0              2\n",
              "5              5/1/2020         0              2\n",
              "6              6/1/2020         0              5\n",
              "7              7/1/2020         0              0\n",
              "8              8/1/2020         1              1\n",
              "9              9/1/2020         4             13\n",
              "10            10/1/2020         0             18\n",
              "11            11/1/2020         0              3\n",
              "12            12/1/2020         2              6"
            ]
          },
          "metadata": {
            "tags": []
          },
          "execution_count": 17
        }
      ]
    },
    {
      "cell_type": "code",
      "metadata": {
        "colab": {
          "base_uri": "https://localhost:8080/",
          "height": 669
        },
        "id": "HSjIvk2oTQVs",
        "outputId": "52afc26a-2e29-47b9-dfe6-7688a7c33e45"
      },
      "source": [
        "dataN.tail(20)"
      ],
      "execution_count": null,
      "outputs": [
        {
          "output_type": "execute_result",
          "data": {
            "text/html": [
              "<div>\n",
              "<style scoped>\n",
              "    .dataframe tbody tr th:only-of-type {\n",
              "        vertical-align: middle;\n",
              "    }\n",
              "\n",
              "    .dataframe tbody tr th {\n",
              "        vertical-align: top;\n",
              "    }\n",
              "\n",
              "    .dataframe thead th {\n",
              "        text-align: right;\n",
              "    }\n",
              "</style>\n",
              "<table border=\"1\" class=\"dataframe\">\n",
              "  <thead>\n",
              "    <tr style=\"text-align: right;\">\n",
              "      <th></th>\n",
              "      <th>Date</th>\n",
              "      <th>positive</th>\n",
              "      <th>Total Testing</th>\n",
              "    </tr>\n",
              "  </thead>\n",
              "  <tbody>\n",
              "    <tr>\n",
              "      <th>552</th>\n",
              "      <td>5/7/2021</td>\n",
              "      <td>4770</td>\n",
              "      <td>52017</td>\n",
              "    </tr>\n",
              "    <tr>\n",
              "      <th>553</th>\n",
              "      <td>6/7/2021</td>\n",
              "      <td>6066</td>\n",
              "      <td>70051</td>\n",
              "    </tr>\n",
              "    <tr>\n",
              "      <th>554</th>\n",
              "      <td>7/7/2021</td>\n",
              "      <td>6224</td>\n",
              "      <td>62695</td>\n",
              "    </tr>\n",
              "    <tr>\n",
              "      <th>555</th>\n",
              "      <td>8/7/2021</td>\n",
              "      <td>6624</td>\n",
              "      <td>66596</td>\n",
              "    </tr>\n",
              "    <tr>\n",
              "      <th>556</th>\n",
              "      <td>9/7/2021</td>\n",
              "      <td>6890</td>\n",
              "      <td>66267</td>\n",
              "    </tr>\n",
              "    <tr>\n",
              "      <th>557</th>\n",
              "      <td>10/7/2021</td>\n",
              "      <td>9045</td>\n",
              "      <td>74906</td>\n",
              "    </tr>\n",
              "    <tr>\n",
              "      <th>558</th>\n",
              "      <td>11/7/2021</td>\n",
              "      <td>8564</td>\n",
              "      <td>77848</td>\n",
              "    </tr>\n",
              "    <tr>\n",
              "      <th>559</th>\n",
              "      <td>12/7/2021</td>\n",
              "      <td>6391</td>\n",
              "      <td>56775</td>\n",
              "    </tr>\n",
              "    <tr>\n",
              "      <th>560</th>\n",
              "      <td>13/7/2021</td>\n",
              "      <td>7549</td>\n",
              "      <td>70798</td>\n",
              "    </tr>\n",
              "    <tr>\n",
              "      <th>561</th>\n",
              "      <td>14/7/2021</td>\n",
              "      <td>7877</td>\n",
              "      <td>65836</td>\n",
              "    </tr>\n",
              "    <tr>\n",
              "      <th>562</th>\n",
              "      <td>15/7/2021</td>\n",
              "      <td>8648</td>\n",
              "      <td>70403</td>\n",
              "    </tr>\n",
              "    <tr>\n",
              "      <th>563</th>\n",
              "      <td>16/7/2021</td>\n",
              "      <td>9627</td>\n",
              "      <td>73260</td>\n",
              "    </tr>\n",
              "    <tr>\n",
              "      <th>564</th>\n",
              "      <td>17/7/2021</td>\n",
              "      <td>9221</td>\n",
              "      <td>68384</td>\n",
              "    </tr>\n",
              "    <tr>\n",
              "      <th>565</th>\n",
              "      <td>18/7/2021</td>\n",
              "      <td>68326</td>\n",
              "      <td>12192</td>\n",
              "    </tr>\n",
              "    <tr>\n",
              "      <th>566</th>\n",
              "      <td>19/7/2021</td>\n",
              "      <td>64522</td>\n",
              "      <td>9466</td>\n",
              "    </tr>\n",
              "    <tr>\n",
              "      <th>567</th>\n",
              "      <td>20/7/2021</td>\n",
              "      <td>68403</td>\n",
              "      <td>10152</td>\n",
              "    </tr>\n",
              "    <tr>\n",
              "      <th>568</th>\n",
              "      <td>21/7/2021</td>\n",
              "      <td>82325</td>\n",
              "      <td>12210</td>\n",
              "    </tr>\n",
              "    <tr>\n",
              "      <th>569</th>\n",
              "      <td>22/7/2021</td>\n",
              "      <td>62846</td>\n",
              "      <td>10623</td>\n",
              "    </tr>\n",
              "    <tr>\n",
              "      <th>570</th>\n",
              "      <td>23/7/2021</td>\n",
              "      <td>58851</td>\n",
              "      <td>10200</td>\n",
              "    </tr>\n",
              "    <tr>\n",
              "      <th>571</th>\n",
              "      <td>24/7/2021</td>\n",
              "      <td>67283</td>\n",
              "      <td>13745</td>\n",
              "    </tr>\n",
              "  </tbody>\n",
              "</table>\n",
              "</div>"
            ],
            "text/plain": [
              "          Date  positive  Total Testing\n",
              "552   5/7/2021      4770          52017\n",
              "553   6/7/2021      6066          70051\n",
              "554   7/7/2021      6224          62695\n",
              "555   8/7/2021      6624          66596\n",
              "556   9/7/2021      6890          66267\n",
              "557  10/7/2021      9045          74906\n",
              "558  11/7/2021      8564          77848\n",
              "559  12/7/2021      6391          56775\n",
              "560  13/7/2021      7549          70798\n",
              "561  14/7/2021      7877          65836\n",
              "562  15/7/2021      8648          70403\n",
              "563  16/7/2021      9627          73260\n",
              "564  17/7/2021      9221          68384\n",
              "565  18/7/2021     68326          12192\n",
              "566  19/7/2021     64522           9466\n",
              "567  20/7/2021     68403          10152\n",
              "568  21/7/2021     82325          12210\n",
              "569  22/7/2021     62846          10623\n",
              "570  23/7/2021     58851          10200\n",
              "571  24/7/2021     67283          13745"
            ]
          },
          "metadata": {
            "tags": []
          },
          "execution_count": 18
        }
      ]
    },
    {
      "cell_type": "code",
      "metadata": {
        "colab": {
          "base_uri": "https://localhost:8080/",
          "height": 297
        },
        "id": "IldbvHPLTS5O",
        "outputId": "e1ce3142-e3b1-43ff-d73f-923ea4f207ab"
      },
      "source": [
        "dataN.describe()  #อธิบายหาค่าทางสถิติ"
      ],
      "execution_count": null,
      "outputs": [
        {
          "output_type": "execute_result",
          "data": {
            "text/html": [
              "<div>\n",
              "<style scoped>\n",
              "    .dataframe tbody tr th:only-of-type {\n",
              "        vertical-align: middle;\n",
              "    }\n",
              "\n",
              "    .dataframe tbody tr th {\n",
              "        vertical-align: top;\n",
              "    }\n",
              "\n",
              "    .dataframe thead th {\n",
              "        text-align: right;\n",
              "    }\n",
              "</style>\n",
              "<table border=\"1\" class=\"dataframe\">\n",
              "  <thead>\n",
              "    <tr style=\"text-align: right;\">\n",
              "      <th></th>\n",
              "      <th>positive</th>\n",
              "      <th>Total Testing</th>\n",
              "    </tr>\n",
              "  </thead>\n",
              "  <tbody>\n",
              "    <tr>\n",
              "      <th>count</th>\n",
              "      <td>572.000000</td>\n",
              "      <td>572.000000</td>\n",
              "    </tr>\n",
              "    <tr>\n",
              "      <th>mean</th>\n",
              "      <td>1521.506993</td>\n",
              "      <td>17116.451049</td>\n",
              "    </tr>\n",
              "    <tr>\n",
              "      <th>std</th>\n",
              "      <td>7562.214501</td>\n",
              "      <td>22202.577993</td>\n",
              "    </tr>\n",
              "    <tr>\n",
              "      <th>min</th>\n",
              "      <td>0.000000</td>\n",
              "      <td>0.000000</td>\n",
              "    </tr>\n",
              "    <tr>\n",
              "      <th>25%</th>\n",
              "      <td>6.000000</td>\n",
              "      <td>3599.500000</td>\n",
              "    </tr>\n",
              "    <tr>\n",
              "      <th>50%</th>\n",
              "      <td>29.000000</td>\n",
              "      <td>5778.500000</td>\n",
              "    </tr>\n",
              "    <tr>\n",
              "      <th>75%</th>\n",
              "      <td>235.250000</td>\n",
              "      <td>19707.000000</td>\n",
              "    </tr>\n",
              "    <tr>\n",
              "      <th>max</th>\n",
              "      <td>82325.000000</td>\n",
              "      <td>82290.000000</td>\n",
              "    </tr>\n",
              "  </tbody>\n",
              "</table>\n",
              "</div>"
            ],
            "text/plain": [
              "           positive  Total Testing\n",
              "count    572.000000     572.000000\n",
              "mean    1521.506993   17116.451049\n",
              "std     7562.214501   22202.577993\n",
              "min        0.000000       0.000000\n",
              "25%        6.000000    3599.500000\n",
              "50%       29.000000    5778.500000\n",
              "75%      235.250000   19707.000000\n",
              "max    82325.000000   82290.000000"
            ]
          },
          "metadata": {
            "tags": []
          },
          "execution_count": 19
        }
      ]
    },
    {
      "cell_type": "markdown",
      "metadata": {
        "id": "-_bXmO3WTY4j"
      },
      "source": [
        "## Boxplot\n",
        "![image.png](data:image/png;base64,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)"
      ]
    },
    {
      "cell_type": "markdown",
      "metadata": {
        "id": "1MyZgNxm8smI"
      },
      "source": [
        "ลิ้งค์อธิบายแต่ละค่า\n",
        "\n",
        "https://devjourneys.com/2020/12/24/pandas-%E0%B8%A7%E0%B8%B4%E0%B8%98%E0%B8%B5%E0%B9%83%E0%B8%8A%E0%B9%89-dataframe-describe/\n",
        "\n",
        "pacgade ที่ใช้ plot รูป\n",
        "\n",
        "\n",
        "เลือกใช้ตัวใดตัวนึงก็ได้ แต่ถ้าไฟล์มีมากให้ใช้ from"
      ]
    },
    {
      "cell_type": "markdown",
      "metadata": {
        "id": "VKQE7B-l87Gj"
      },
      "source": [
        "pacgade ที่ใช้ plot รูป\n",
        "\n",
        "\n",
        "```python\n",
        "from matplotlib import pyplot as plt\n",
        "import matplotlib.pyplot as plt\n",
        "```\n",
        "เลือกใช้ตัวใดตัวนึงก็ได้ แต่ถ้าไฟล์มีมากให้ใช้ from"
      ]
    },
    {
      "cell_type": "code",
      "metadata": {
        "id": "shapUA4JTcJb"
      },
      "source": [
        "from matplotlib import pyplot as plt # ใช้วาดกราฟ"
      ],
      "execution_count": null,
      "outputs": []
    },
    {
      "cell_type": "code",
      "metadata": {
        "colab": {
          "base_uri": "https://localhost:8080/"
        },
        "id": "_EmhOSMvTg9L",
        "outputId": "29524dc7-aad9-4afb-e1ec-f3f52025c9dc"
      },
      "source": [
        "dataN['positive'][1:] # '....' ใส่ชื่อคอรัมน์ที่ต้องการให้ plot"
      ],
      "execution_count": null,
      "outputs": [
        {
          "output_type": "execute_result",
          "data": {
            "text/plain": [
              "1          0\n",
              "2          0\n",
              "3          0\n",
              "4          0\n",
              "5          0\n",
              "       ...  \n",
              "567    68403\n",
              "568    82325\n",
              "569    62846\n",
              "570    58851\n",
              "571    67283\n",
              "Name: positive, Length: 571, dtype: int64"
            ]
          },
          "metadata": {
            "tags": []
          },
          "execution_count": 21
        }
      ]
    },
    {
      "cell_type": "code",
      "metadata": {
        "colab": {
          "base_uri": "https://localhost:8080/",
          "height": 401
        },
        "id": "j4cdhDjgTivZ",
        "outputId": "719b7d0b-2587-4c8c-8c1a-99eb8a074a09"
      },
      "source": [
        "plt.boxplot(dataN['positive'][1:])"
      ],
      "execution_count": null,
      "outputs": [
        {
          "output_type": "execute_result",
          "data": {
            "text/plain": [
              "{'boxes': [<matplotlib.lines.Line2D at 0x7f59c0010a10>],\n",
              " 'caps': [<matplotlib.lines.Line2D at 0x7f59c001ba90>,\n",
              "  <matplotlib.lines.Line2D at 0x7f59c001bfd0>],\n",
              " 'fliers': [<matplotlib.lines.Line2D at 0x7f59c0024b10>],\n",
              " 'means': [],\n",
              " 'medians': [<matplotlib.lines.Line2D at 0x7f59c0024590>],\n",
              " 'whiskers': [<matplotlib.lines.Line2D at 0x7f59c0010fd0>,\n",
              "  <matplotlib.lines.Line2D at 0x7f59c001b550>]}"
            ]
          },
          "metadata": {
            "tags": []
          },
          "execution_count": 22
        },
        {
          "output_type": "display_data",
          "data": {
            "image/png": "[encoded data removed]",
            "text/plain": [
              "<Figure size 432x288 with 1 Axes>"
            ]
          },
          "metadata": {
            "tags": [],
            "needs_background": "light"
          }
        }
      ]
    },
    {
      "cell_type": "code",
      "metadata": {
        "colab": {
          "base_uri": "https://localhost:8080/",
          "height": 401
        },
        "id": "Izn4f8D3TkeI",
        "outputId": "61edbdb3-4c47-4c09-d2de-696123ec14c5"
      },
      "source": [
        "plt.boxplot(dataN['Total Testing'][1:])"
      ],
      "execution_count": null,
      "outputs": [
        {
          "output_type": "execute_result",
          "data": {
            "text/plain": [
              "{'boxes': [<matplotlib.lines.Line2D at 0x7f59c00ae110>],\n",
              " 'caps': [<matplotlib.lines.Line2D at 0x7f59bfb52c90>,\n",
              "  <matplotlib.lines.Line2D at 0x7f59bfb5a210>],\n",
              " 'fliers': [<matplotlib.lines.Line2D at 0x7f59bfb5acd0>],\n",
              " 'means': [],\n",
              " 'medians': [<matplotlib.lines.Line2D at 0x7f59bfb5a790>],\n",
              " 'whiskers': [<matplotlib.lines.Line2D at 0x7f59bfb52210>,\n",
              "  <matplotlib.lines.Line2D at 0x7f59bfb52750>]}"
            ]
          },
          "metadata": {
            "tags": []
          },
          "execution_count": 23
        },
        {
          "output_type": "display_data",
          "data": {
            "image/png": "[encoded data removed]",
            "text/plain": [
              "<Figure size 432x288 with 1 Axes>"
            ]
          },
          "metadata": {
            "tags": [],
            "needs_background": "light"
          }
        }
      ]
    },
    {
      "cell_type": "code",
      "metadata": {
        "colab": {
          "base_uri": "https://localhost:8080/",
          "height": 265
        },
        "id": "32EBS0FZTmey",
        "outputId": "d119a450-c2b6-41e6-8203-b3d92ab755e6"
      },
      "source": [
        "ret = plt.boxplot(dataN['positive'][-54:]) #ดูข้อมูลย้อนไป 54 วัน"
      ],
      "execution_count": null,
      "outputs": [
        {
          "output_type": "display_data",
          "data": {
            "image/png": "[encoded data removed]",
            "text/plain": [
              "<Figure size 432x288 with 1 Axes>"
            ]
          },
          "metadata": {
            "tags": [],
            "needs_background": "light"
          }
        }
      ]
    },
    {
      "cell_type": "code",
      "metadata": {
        "colab": {
          "base_uri": "https://localhost:8080/",
          "height": 265
        },
        "id": "-kg5xhLcToI0",
        "outputId": "8d715bab-391c-43b9-bb00-80270c79e1ca"
      },
      "source": [
        "ret = plt.boxplot(dataN['Total Testing'][-54:])"
      ],
      "execution_count": null,
      "outputs": [
        {
          "output_type": "display_data",
          "data": {
            "image/png": "[encoded data removed]",
            "text/plain": [
              "<Figure size 432x288 with 1 Axes>"
            ]
          },
          "metadata": {
            "tags": [],
            "needs_background": "light"
          }
        }
      ]
    },
    {
      "cell_type": "markdown",
      "metadata": {
        "id": "8fek1dh9Tqnl"
      },
      "source": [
        "## Time Series Plot\n",
        "ใช้สำหรับข้อมูลที่ระบุเวลา อาจเป็น วันที่ หรือ การบอกเวลา"
      ]
    },
    {
      "cell_type": "code",
      "metadata": {
        "colab": {
          "base_uri": "https://localhost:8080/"
        },
        "id": "zlTreZzmTsux",
        "outputId": "9ce668e9-35fc-49bc-efe0-2c48afe103b3"
      },
      "source": [
        "len(dataN['positive'][1:]) #นับจำนวนข้อมูล หรือแถว"
      ],
      "execution_count": null,
      "outputs": [
        {
          "output_type": "execute_result",
          "data": {
            "text/plain": [
              "571"
            ]
          },
          "metadata": {
            "tags": []
          },
          "execution_count": 26
        }
      ]
    },
    {
      "cell_type": "code",
      "metadata": {
        "colab": {
          "base_uri": "https://localhost:8080/",
          "height": 282
        },
        "id": "Fe149w8oTuQl",
        "outputId": "20084f76-9435-4f0f-ac2f-f1eb76156405"
      },
      "source": [
        "plt.plot(range(len(dataN['positive'][1:])),dataN['positive'][1:])"
      ],
      "execution_count": null,
      "outputs": [
        {
          "output_type": "execute_result",
          "data": {
            "text/plain": [
              "[<matplotlib.lines.Line2D at 0x7f59bfa05150>]"
            ]
          },
          "metadata": {
            "tags": []
          },
          "execution_count": 27
        },
        {
          "output_type": "display_data",
          "data": {
            "image/png": "[encoded data removed]",
            "text/plain": [
              "<Figure size 432x288 with 1 Axes>"
            ]
          },
          "metadata": {
            "tags": [],
            "needs_background": "light"
          }
        }
      ]
    },
    {
      "cell_type": "code",
      "metadata": {
        "colab": {
          "base_uri": "https://localhost:8080/",
          "height": 282
        },
        "id": "a0Ytxgo0TwGv",
        "outputId": "194d1073-feff-4382-e392-04933aabca35"
      },
      "source": [
        "plt.plot(range(len(dataN['positive'][1:-7])),dataN['positive'][1:-7])"
      ],
      "execution_count": null,
      "outputs": [
        {
          "output_type": "execute_result",
          "data": {
            "text/plain": [
              "[<matplotlib.lines.Line2D at 0x7f59bf9f4890>]"
            ]
          },
          "metadata": {
            "tags": []
          },
          "execution_count": 28
        },
        {
          "output_type": "display_data",
          "data": {
            "image/png": "[encoded data removed]",
            "text/plain": [
              "<Figure size 432x288 with 1 Axes>"
            ]
          },
          "metadata": {
            "tags": [],
            "needs_background": "light"
          }
        }
      ]
    },
    {
      "cell_type": "markdown",
      "metadata": {
        "id": "zJ6jtk8r9hg3"
      },
      "source": [
        "จะเห็นว่าข้อมูลยังมีความผิดปกติอยู่ แสดงว่าข้อมูลอาจมีข้อผิดพลาดหลายแห่ง"
      ]
    },
    {
      "cell_type": "code",
      "metadata": {
        "colab": {
          "base_uri": "https://localhost:8080/",
          "height": 282
        },
        "id": "E1U41G27Tx10",
        "outputId": "1fee57a6-053a-49f4-d291-b44daef64542"
      },
      "source": [
        "plt.plot(range(len(dataN['Total Testing'][1:-7])),dataN['Total Testing'][1:-7])"
      ],
      "execution_count": null,
      "outputs": [
        {
          "output_type": "execute_result",
          "data": {
            "text/plain": [
              "[<matplotlib.lines.Line2D at 0x7f59bf960410>]"
            ]
          },
          "metadata": {
            "tags": []
          },
          "execution_count": 29
        },
        {
          "output_type": "display_data",
          "data": {
            "image/png": "[encoded data removed]",
            "text/plain": [
              "<Figure size 432x288 with 1 Axes>"
            ]
          },
          "metadata": {
            "tags": [],
            "needs_background": "light"
          }
        }
      ]
    },
    {
      "cell_type": "markdown",
      "metadata": {
        "id": "0uTy6l0_9ljA"
      },
      "source": [
        "จากกราฟจะเห็นว่าการจำกัดจำนวนการตรวจโควิดในแต่ล่ะช่วงสูงขึ้น เพราะมีคนติดเพิ่มขึ้นจำนวนมาก"
      ]
    },
    {
      "cell_type": "code",
      "metadata": {
        "colab": {
          "base_uri": "https://localhost:8080/",
          "height": 282
        },
        "id": "EH5XoBVoTzkV",
        "outputId": "82a55af2-b721-4aab-8928-62c678417828"
      },
      "source": [
        "plt.plot(range(len(dataN['positive'][1:-7])),dataN['positive'][1:-7],'r--')\n",
        "plt.plot(range(len(dataN['Total Testing'][1:-7])),dataN['Total Testing'][1:-7],'b--')"
      ],
      "execution_count": null,
      "outputs": [
        {
          "output_type": "execute_result",
          "data": {
            "text/plain": [
              "[<matplotlib.lines.Line2D at 0x7f59bf8f0850>]"
            ]
          },
          "metadata": {
            "tags": []
          },
          "execution_count": 30
        },
        {
          "output_type": "display_data",
          "data": {
            "image/png": "[encoded data removed]",
            "text/plain": [
              "<Figure size 432x288 with 1 Axes>"
            ]
          },
          "metadata": {
            "tags": [],
            "needs_background": "light"
          }
        }
      ]
    },
    {
      "cell_type": "code",
      "metadata": {
        "colab": {
          "base_uri": "https://localhost:8080/",
          "height": 282
        },
        "id": "iYwKcLh8T5l2",
        "outputId": "b885f2fc-e201-43c8-dd23-9cc677c3ad80"
      },
      "source": [
        "plt.plot(range(len(dataN['positive'][450:])),dataN['positive'][450:],'r--')\n",
        "plt.plot(range(len(dataN['Total Testing'][450:])),dataN['Total Testing'][450:],'b--')"
      ],
      "execution_count": null,
      "outputs": [
        {
          "output_type": "execute_result",
          "data": {
            "text/plain": [
              "[<matplotlib.lines.Line2D at 0x7f59bf859ed0>]"
            ]
          },
          "metadata": {
            "tags": []
          },
          "execution_count": 31
        },
        {
          "output_type": "display_data",
          "data": {
            "image/png": "[encoded data removed]",
            "text/plain": [
              "<Figure size 432x288 with 1 Axes>"
            ]
          },
          "metadata": {
            "tags": [],
            "needs_background": "light"
          }
        }
      ]
    }
  ]
}