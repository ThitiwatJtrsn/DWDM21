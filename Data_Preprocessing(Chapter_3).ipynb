{
  "nbformat": 4,
  "nbformat_minor": 0,
  "metadata": {
    "colab": {
      "name": "Data Preprocessing(Chapter 3).ipynb",
      "provenance": [],
      "include_colab_link": true
    },
    "kernelspec": {
      "name": "python3",
      "display_name": "Python 3"
    },
    "language_info": {
      "name": "python"
    }
  },
  "cells": [
    {
      "cell_type": "markdown",
      "metadata": {
        "id": "view-in-github",
        "colab_type": "text"
      },
      "source": [
        "<a href=\"https://colab.research.google.com/github/ThitiwatJtrsn/DWDM21/blob/main/Data_Preprocessing(Chapter_3).ipynb\" target=\"_parent\"><img src=\"https://colab.research.google.com/assets/colab-badge.svg\" alt=\"Open In Colab\"/></a>"
      ]
    },
    {
      "cell_type": "code",
      "metadata": {
        "id": "9kwPBUdG7GdM"
      },
      "source": [
        "import pandas as pd # ทำงานกับข้อมูลลักษณะ ตาราง"
      ],
      "execution_count": 1,
      "outputs": []
    },
    {
      "cell_type": "code",
      "metadata": {
        "colab": {
          "base_uri": "https://localhost:8080/"
        },
        "id": "QWxD7chv8K2J",
        "outputId": "6a49ba67-2e88-407f-8916-7063a3037167"
      },
      "source": [
        "from google.colab import drive # เชื่อม google drive\n",
        "drive.mount('/content/drive')"
      ],
      "execution_count": 3,
      "outputs": [
        {
          "output_type": "stream",
          "text": [
            "Drive already mounted at /content/drive; to attempt to forcibly remount, call drive.mount(\"/content/drive\", force_remount=True).\n"
          ],
          "name": "stdout"
        }
      ]
    },
    {
      "cell_type": "code",
      "metadata": {
        "id": "AI5PA1tc8XYX"
      },
      "source": [
        "import os # จัดการไฟล์และ path"
      ],
      "execution_count": 4,
      "outputs": []
    },
    {
      "cell_type": "code",
      "metadata": {
        "id": "75pKmMPs8cHQ"
      },
      "source": [
        "path = '/content/drive/My Drive/DWDM2021_DATA'"
      ],
      "execution_count": 5,
      "outputs": []
    },
    {
      "cell_type": "code",
      "metadata": {
        "colab": {
          "base_uri": "https://localhost:8080/",
          "height": 521
        },
        "id": "3QLss5RA8wc5",
        "outputId": "8f0fd18a-ff5e-46c9-fbd9-2602639941a8"
      },
      "source": [
        "data_cases = pd.read_csv(os.path.join(path,'confirmed-cases.csv'))\n",
        "data_cases"
      ],
      "execution_count": 6,
      "outputs": [
        {
          "output_type": "execute_result",
          "data": {
            "text/html": [
              "<div>\n",
              "<style scoped>\n",
              "    .dataframe tbody tr th:only-of-type {\n",
              "        vertical-align: middle;\n",
              "    }\n",
              "\n",
              "    .dataframe tbody tr th {\n",
              "        vertical-align: top;\n",
              "    }\n",
              "\n",
              "    .dataframe thead th {\n",
              "        text-align: right;\n",
              "    }\n",
              "</style>\n",
              "<table border=\"1\" class=\"dataframe\">\n",
              "  <thead>\n",
              "    <tr style=\"text-align: right;\">\n",
              "      <th></th>\n",
              "      <th>No.</th>\n",
              "      <th>announce_date</th>\n",
              "      <th>Notified date</th>\n",
              "      <th>sex</th>\n",
              "      <th>age</th>\n",
              "      <th>Unit</th>\n",
              "      <th>nationality</th>\n",
              "      <th>province_of_isolation</th>\n",
              "      <th>risk</th>\n",
              "      <th>province_of_onset</th>\n",
              "      <th>district_of_onset</th>\n",
              "    </tr>\n",
              "  </thead>\n",
              "  <tbody>\n",
              "    <tr>\n",
              "      <th>0</th>\n",
              "      <td>1.0</td>\n",
              "      <td>12/1/2020</td>\n",
              "      <td>NaN</td>\n",
              "      <td>หญิง</td>\n",
              "      <td>61.0</td>\n",
              "      <td>ปี</td>\n",
              "      <td>China</td>\n",
              "      <td>กรุงเทพมหานคร</td>\n",
              "      <td>คนต่างชาติเดินทางมาจากต่างประเทศ</td>\n",
              "      <td>กรุงเทพมหานคร</td>\n",
              "      <td>NaN</td>\n",
              "    </tr>\n",
              "    <tr>\n",
              "      <th>1</th>\n",
              "      <td>2.0</td>\n",
              "      <td>17/1/2020</td>\n",
              "      <td>NaN</td>\n",
              "      <td>หญิง</td>\n",
              "      <td>74.0</td>\n",
              "      <td>ปี</td>\n",
              "      <td>China</td>\n",
              "      <td>กรุงเทพมหานคร</td>\n",
              "      <td>คนต่างชาติเดินทางมาจากต่างประเทศ</td>\n",
              "      <td>กรุงเทพมหานคร</td>\n",
              "      <td>NaN</td>\n",
              "    </tr>\n",
              "    <tr>\n",
              "      <th>2</th>\n",
              "      <td>3.0</td>\n",
              "      <td>22/1/2020</td>\n",
              "      <td>NaN</td>\n",
              "      <td>หญิง</td>\n",
              "      <td>73.0</td>\n",
              "      <td>ปี</td>\n",
              "      <td>Thailand</td>\n",
              "      <td>นครปฐม</td>\n",
              "      <td>คนต่างชาติเดินทางมาจากต่างประเทศ</td>\n",
              "      <td>นครปฐม</td>\n",
              "      <td>เมือง</td>\n",
              "    </tr>\n",
              "    <tr>\n",
              "      <th>3</th>\n",
              "      <td>4.0</td>\n",
              "      <td>22/1/2020</td>\n",
              "      <td>NaN</td>\n",
              "      <td>ชาย</td>\n",
              "      <td>68.0</td>\n",
              "      <td>ปี</td>\n",
              "      <td>China</td>\n",
              "      <td>กรุงเทพมหานคร</td>\n",
              "      <td>คนต่างชาติเดินทางมาจากต่างประเทศ</td>\n",
              "      <td>กรุงเทพมหานคร</td>\n",
              "      <td>NaN</td>\n",
              "    </tr>\n",
              "    <tr>\n",
              "      <th>4</th>\n",
              "      <td>5.0</td>\n",
              "      <td>24/1/2020</td>\n",
              "      <td>NaN</td>\n",
              "      <td>หญิง</td>\n",
              "      <td>66.0</td>\n",
              "      <td>ปี</td>\n",
              "      <td>China</td>\n",
              "      <td>นนทบุรี</td>\n",
              "      <td>คนต่างชาติเดินทางมาจากต่างประเทศ</td>\n",
              "      <td>กรุงเทพมหานคร</td>\n",
              "      <td>NaN</td>\n",
              "    </tr>\n",
              "    <tr>\n",
              "      <th>...</th>\n",
              "      <td>...</td>\n",
              "      <td>...</td>\n",
              "      <td>...</td>\n",
              "      <td>...</td>\n",
              "      <td>...</td>\n",
              "      <td>...</td>\n",
              "      <td>...</td>\n",
              "      <td>...</td>\n",
              "      <td>...</td>\n",
              "      <td>...</td>\n",
              "      <td>...</td>\n",
              "    </tr>\n",
              "    <tr>\n",
              "      <th>543301</th>\n",
              "      <td>543302.0</td>\n",
              "      <td>28/7/2021</td>\n",
              "      <td>27/7/2021</td>\n",
              "      <td>ชาย</td>\n",
              "      <td>39.0</td>\n",
              "      <td>ปี</td>\n",
              "      <td>NaN</td>\n",
              "      <td>สุพรรณบุรี</td>\n",
              "      <td>ทัณฑสถาน/เรือนจำ</td>\n",
              "      <td>สุพรรณบุรี</td>\n",
              "      <td>NaN</td>\n",
              "    </tr>\n",
              "    <tr>\n",
              "      <th>543302</th>\n",
              "      <td>543303.0</td>\n",
              "      <td>28/7/2021</td>\n",
              "      <td>27/7/2021</td>\n",
              "      <td>ชาย</td>\n",
              "      <td>37.0</td>\n",
              "      <td>ปี</td>\n",
              "      <td>NaN</td>\n",
              "      <td>สุพรรณบุรี</td>\n",
              "      <td>ทัณฑสถาน/เรือนจำ</td>\n",
              "      <td>สุพรรณบุรี</td>\n",
              "      <td>NaN</td>\n",
              "    </tr>\n",
              "    <tr>\n",
              "      <th>543303</th>\n",
              "      <td>543304.0</td>\n",
              "      <td>28/7/2021</td>\n",
              "      <td>27/7/2021</td>\n",
              "      <td>ชาย</td>\n",
              "      <td>28.0</td>\n",
              "      <td>ปี</td>\n",
              "      <td>NaN</td>\n",
              "      <td>สุพรรณบุรี</td>\n",
              "      <td>ทัณฑสถาน/เรือนจำ</td>\n",
              "      <td>สุพรรณบุรี</td>\n",
              "      <td>NaN</td>\n",
              "    </tr>\n",
              "    <tr>\n",
              "      <th>543304</th>\n",
              "      <td>543305.0</td>\n",
              "      <td>28/7/2021</td>\n",
              "      <td>27/7/2021</td>\n",
              "      <td>ชาย</td>\n",
              "      <td>26.0</td>\n",
              "      <td>ปี</td>\n",
              "      <td>NaN</td>\n",
              "      <td>ปัตตานี</td>\n",
              "      <td>ทัณฑสถาน/เรือนจำ</td>\n",
              "      <td>ปัตตานี</td>\n",
              "      <td>NaN</td>\n",
              "    </tr>\n",
              "    <tr>\n",
              "      <th>543305</th>\n",
              "      <td>NaN</td>\n",
              "      <td>NaN</td>\n",
              "      <td>NaN</td>\n",
              "      <td>NaN</td>\n",
              "      <td>NaN</td>\n",
              "      <td>NaN</td>\n",
              "      <td>NaN</td>\n",
              "      <td>NaN</td>\n",
              "      <td>NaN</td>\n",
              "      <td>NaN</td>\n",
              "      <td>NaN</td>\n",
              "    </tr>\n",
              "  </tbody>\n",
              "</table>\n",
              "<p>543306 rows × 11 columns</p>\n",
              "</div>"
            ],
            "text/plain": [
              "             No. announce_date  ... province_of_onset district_of_onset\n",
              "0            1.0     12/1/2020  ...     กรุงเทพมหานคร               NaN\n",
              "1            2.0     17/1/2020  ...     กรุงเทพมหานคร               NaN\n",
              "2            3.0     22/1/2020  ...            นครปฐม             เมือง\n",
              "3            4.0     22/1/2020  ...     กรุงเทพมหานคร               NaN\n",
              "4            5.0     24/1/2020  ...     กรุงเทพมหานคร               NaN\n",
              "...          ...           ...  ...               ...               ...\n",
              "543301  543302.0     28/7/2021  ...        สุพรรณบุรี               NaN\n",
              "543302  543303.0     28/7/2021  ...        สุพรรณบุรี               NaN\n",
              "543303  543304.0     28/7/2021  ...        สุพรรณบุรี               NaN\n",
              "543304  543305.0     28/7/2021  ...           ปัตตานี               NaN\n",
              "543305       NaN           NaN  ...               NaN               NaN\n",
              "\n",
              "[543306 rows x 11 columns]"
            ]
          },
          "metadata": {
            "tags": []
          },
          "execution_count": 6
        }
      ]
    },
    {
      "cell_type": "markdown",
      "metadata": {
        "id": "oAjQcPOJBlqT"
      },
      "source": [
        "Meta Data (Data ที่ใช้อธิบาย Data)"
      ]
    },
    {
      "cell_type": "markdown",
      "metadata": {
        "id": "CWNUvwRKClAZ"
      },
      "source": [
        "ชี้ข้อมูลในตาราง"
      ]
    },
    {
      "cell_type": "markdown",
      "metadata": {
        "id": "bxlOKWkTCpWG"
      },
      "source": [
        "# ชี้แบบธรรมดา ใช้ [ชื่ออ column][index]"
      ]
    },
    {
      "cell_type": "code",
      "metadata": {
        "colab": {
          "base_uri": "https://localhost:8080/"
        },
        "id": "ZAbfLcV5C5tS",
        "outputId": "3a1655fb-4ea6-4ed3-f1d3-c2320731f070"
      },
      "source": [
        "data_cases['risk']"
      ],
      "execution_count": 7,
      "outputs": [
        {
          "output_type": "execute_result",
          "data": {
            "text/plain": [
              "0         คนต่างชาติเดินทางมาจากต่างประเทศ\n",
              "1         คนต่างชาติเดินทางมาจากต่างประเทศ\n",
              "2         คนต่างชาติเดินทางมาจากต่างประเทศ\n",
              "3         คนต่างชาติเดินทางมาจากต่างประเทศ\n",
              "4         คนต่างชาติเดินทางมาจากต่างประเทศ\n",
              "                        ...               \n",
              "543301                    ทัณฑสถาน/เรือนจำ\n",
              "543302                    ทัณฑสถาน/เรือนจำ\n",
              "543303                    ทัณฑสถาน/เรือนจำ\n",
              "543304                    ทัณฑสถาน/เรือนจำ\n",
              "543305                                 NaN\n",
              "Name: risk, Length: 543306, dtype: object"
            ]
          },
          "metadata": {
            "tags": []
          },
          "execution_count": 7
        }
      ]
    },
    {
      "cell_type": "code",
      "metadata": {
        "colab": {
          "base_uri": "https://localhost:8080/",
          "height": 35
        },
        "id": "e6_4ULnhDNZt",
        "outputId": "175c31ee-ccc9-4b64-ffd0-e8391295a856"
      },
      "source": [
        "data_cases['risk'][678]"
      ],
      "execution_count": 8,
      "outputs": [
        {
          "output_type": "execute_result",
          "data": {
            "application/vnd.google.colaboratory.intrinsic+json": {
              "type": "string"
            },
            "text/plain": [
              "'สัมผัสใกล้ชิดกับผู้ป่วยยืนยันรายก่อนหน้านี้'"
            ]
          },
          "metadata": {
            "tags": []
          },
          "execution_count": 8
        }
      ]
    },
    {
      "cell_type": "code",
      "metadata": {
        "colab": {
          "base_uri": "https://localhost:8080/"
        },
        "id": "dHuXwHXpDVT_",
        "outputId": "a2f907ef-e551-43b3-b9d7-e75a6a0f0bfa"
      },
      "source": [
        "data_cases.iloc[-10,4]"
      ],
      "execution_count": 9,
      "outputs": [
        {
          "output_type": "execute_result",
          "data": {
            "text/plain": [
              "47.0"
            ]
          },
          "metadata": {
            "tags": []
          },
          "execution_count": 9
        }
      ]
    },
    {
      "cell_type": "markdown",
      "metadata": {
        "id": "fD_hX8c5DqVo"
      },
      "source": [
        "# missing Values"
      ]
    },
    {
      "cell_type": "code",
      "metadata": {
        "colab": {
          "base_uri": "https://localhost:8080/",
          "height": 297
        },
        "id": "EmrTOh8TDy1o",
        "outputId": "6aba71d3-c8eb-409c-e22b-3801b39139e8"
      },
      "source": [
        "data_cases.describe()"
      ],
      "execution_count": 10,
      "outputs": [
        {
          "output_type": "execute_result",
          "data": {
            "text/html": [
              "<div>\n",
              "<style scoped>\n",
              "    .dataframe tbody tr th:only-of-type {\n",
              "        vertical-align: middle;\n",
              "    }\n",
              "\n",
              "    .dataframe tbody tr th {\n",
              "        vertical-align: top;\n",
              "    }\n",
              "\n",
              "    .dataframe thead th {\n",
              "        text-align: right;\n",
              "    }\n",
              "</style>\n",
              "<table border=\"1\" class=\"dataframe\">\n",
              "  <thead>\n",
              "    <tr style=\"text-align: right;\">\n",
              "      <th></th>\n",
              "      <th>No.</th>\n",
              "      <th>age</th>\n",
              "    </tr>\n",
              "  </thead>\n",
              "  <tbody>\n",
              "    <tr>\n",
              "      <th>count</th>\n",
              "      <td>543305.000000</td>\n",
              "      <td>491048.000000</td>\n",
              "    </tr>\n",
              "    <tr>\n",
              "      <th>mean</th>\n",
              "      <td>271653.000000</td>\n",
              "      <td>35.519252</td>\n",
              "    </tr>\n",
              "    <tr>\n",
              "      <th>std</th>\n",
              "      <td>156838.788338</td>\n",
              "      <td>16.197363</td>\n",
              "    </tr>\n",
              "    <tr>\n",
              "      <th>min</th>\n",
              "      <td>1.000000</td>\n",
              "      <td>1.000000</td>\n",
              "    </tr>\n",
              "    <tr>\n",
              "      <th>25%</th>\n",
              "      <td>135827.000000</td>\n",
              "      <td>25.000000</td>\n",
              "    </tr>\n",
              "    <tr>\n",
              "      <th>50%</th>\n",
              "      <td>271653.000000</td>\n",
              "      <td>34.000000</td>\n",
              "    </tr>\n",
              "    <tr>\n",
              "      <th>75%</th>\n",
              "      <td>407479.000000</td>\n",
              "      <td>46.000000</td>\n",
              "    </tr>\n",
              "    <tr>\n",
              "      <th>max</th>\n",
              "      <td>543305.000000</td>\n",
              "      <td>108.000000</td>\n",
              "    </tr>\n",
              "  </tbody>\n",
              "</table>\n",
              "</div>"
            ],
            "text/plain": [
              "                 No.            age\n",
              "count  543305.000000  491048.000000\n",
              "mean   271653.000000      35.519252\n",
              "std    156838.788338      16.197363\n",
              "min         1.000000       1.000000\n",
              "25%    135827.000000      25.000000\n",
              "50%    271653.000000      34.000000\n",
              "75%    407479.000000      46.000000\n",
              "max    543305.000000     108.000000"
            ]
          },
          "metadata": {
            "tags": []
          },
          "execution_count": 10
        }
      ]
    },
    {
      "cell_type": "code",
      "metadata": {
        "colab": {
          "base_uri": "https://localhost:8080/",
          "height": 401
        },
        "id": "Gi6Llm8hFFNR",
        "outputId": "b06bd581-7334-4429-fc6e-9eea6a0f9af2"
      },
      "source": [
        "from matplotlib import pyplot as plt #มันมีค่า missing เลยplot ไม่ได้\n",
        "plt.boxplot(data_cases['age'])"
      ],
      "execution_count": 11,
      "outputs": [
        {
          "output_type": "execute_result",
          "data": {
            "text/plain": [
              "{'boxes': [<matplotlib.lines.Line2D at 0x7f517d8d4d10>],\n",
              " 'caps': [<matplotlib.lines.Line2D at 0x7f517d8ebcd0>,\n",
              "  <matplotlib.lines.Line2D at 0x7f517d8f2250>],\n",
              " 'fliers': [<matplotlib.lines.Line2D at 0x7f517d8f2d10>],\n",
              " 'means': [],\n",
              " 'medians': [<matplotlib.lines.Line2D at 0x7f517d8f27d0>],\n",
              " 'whiskers': [<matplotlib.lines.Line2D at 0x7f517d8eb250>,\n",
              "  <matplotlib.lines.Line2D at 0x7f517d8eb790>]}"
            ]
          },
          "metadata": {
            "tags": []
          },
          "execution_count": 11
        },
        {
          "output_type": "display_data",
          "data": {
            "image/png": "[encoded data removed]",
            "text/plain": [
              "<Figure size 432x288 with 1 Axes>"
            ]
          },
          "metadata": {
            "tags": [],
            "needs_background": "light"
          }
        }
      ]
    },
    {
      "cell_type": "markdown",
      "metadata": {
        "id": "6hikhnVMFukp"
      },
      "source": [
        "#Missing Values\n",
        "\n",
        "\n",
        "\n",
        "\n",
        "*   NaN = Not a Number\n",
        "*   Null\n",
        "* NA = Not Available\n",
        "\n"
      ]
    },
    {
      "cell_type": "code",
      "metadata": {
        "colab": {
          "base_uri": "https://localhost:8080/",
          "height": 419
        },
        "id": "b83p6kEnF1Ao",
        "outputId": "cea39bc4-eb41-4223-b659-1d62bf69f67e"
      },
      "source": [
        "data_cases.isnull()"
      ],
      "execution_count": 12,
      "outputs": [
        {
          "output_type": "execute_result",
          "data": {
            "text/html": [
              "<div>\n",
              "<style scoped>\n",
              "    .dataframe tbody tr th:only-of-type {\n",
              "        vertical-align: middle;\n",
              "    }\n",
              "\n",
              "    .dataframe tbody tr th {\n",
              "        vertical-align: top;\n",
              "    }\n",
              "\n",
              "    .dataframe thead th {\n",
              "        text-align: right;\n",
              "    }\n",
              "</style>\n",
              "<table border=\"1\" class=\"dataframe\">\n",
              "  <thead>\n",
              "    <tr style=\"text-align: right;\">\n",
              "      <th></th>\n",
              "      <th>No.</th>\n",
              "      <th>announce_date</th>\n",
              "      <th>Notified date</th>\n",
              "      <th>sex</th>\n",
              "      <th>age</th>\n",
              "      <th>Unit</th>\n",
              "      <th>nationality</th>\n",
              "      <th>province_of_isolation</th>\n",
              "      <th>risk</th>\n",
              "      <th>province_of_onset</th>\n",
              "      <th>district_of_onset</th>\n",
              "    </tr>\n",
              "  </thead>\n",
              "  <tbody>\n",
              "    <tr>\n",
              "      <th>0</th>\n",
              "      <td>False</td>\n",
              "      <td>False</td>\n",
              "      <td>True</td>\n",
              "      <td>False</td>\n",
              "      <td>False</td>\n",
              "      <td>False</td>\n",
              "      <td>False</td>\n",
              "      <td>False</td>\n",
              "      <td>False</td>\n",
              "      <td>False</td>\n",
              "      <td>True</td>\n",
              "    </tr>\n",
              "    <tr>\n",
              "      <th>1</th>\n",
              "      <td>False</td>\n",
              "      <td>False</td>\n",
              "      <td>True</td>\n",
              "      <td>False</td>\n",
              "      <td>False</td>\n",
              "      <td>False</td>\n",
              "      <td>False</td>\n",
              "      <td>False</td>\n",
              "      <td>False</td>\n",
              "      <td>False</td>\n",
              "      <td>True</td>\n",
              "    </tr>\n",
              "    <tr>\n",
              "      <th>2</th>\n",
              "      <td>False</td>\n",
              "      <td>False</td>\n",
              "      <td>True</td>\n",
              "      <td>False</td>\n",
              "      <td>False</td>\n",
              "      <td>False</td>\n",
              "      <td>False</td>\n",
              "      <td>False</td>\n",
              "      <td>False</td>\n",
              "      <td>False</td>\n",
              "      <td>False</td>\n",
              "    </tr>\n",
              "    <tr>\n",
              "      <th>3</th>\n",
              "      <td>False</td>\n",
              "      <td>False</td>\n",
              "      <td>True</td>\n",
              "      <td>False</td>\n",
              "      <td>False</td>\n",
              "      <td>False</td>\n",
              "      <td>False</td>\n",
              "      <td>False</td>\n",
              "      <td>False</td>\n",
              "      <td>False</td>\n",
              "      <td>True</td>\n",
              "    </tr>\n",
              "    <tr>\n",
              "      <th>4</th>\n",
              "      <td>False</td>\n",
              "      <td>False</td>\n",
              "      <td>True</td>\n",
              "      <td>False</td>\n",
              "      <td>False</td>\n",
              "      <td>False</td>\n",
              "      <td>False</td>\n",
              "      <td>False</td>\n",
              "      <td>False</td>\n",
              "      <td>False</td>\n",
              "      <td>True</td>\n",
              "    </tr>\n",
              "    <tr>\n",
              "      <th>...</th>\n",
              "      <td>...</td>\n",
              "      <td>...</td>\n",
              "      <td>...</td>\n",
              "      <td>...</td>\n",
              "      <td>...</td>\n",
              "      <td>...</td>\n",
              "      <td>...</td>\n",
              "      <td>...</td>\n",
              "      <td>...</td>\n",
              "      <td>...</td>\n",
              "      <td>...</td>\n",
              "    </tr>\n",
              "    <tr>\n",
              "      <th>543301</th>\n",
              "      <td>False</td>\n",
              "      <td>False</td>\n",
              "      <td>False</td>\n",
              "      <td>False</td>\n",
              "      <td>False</td>\n",
              "      <td>False</td>\n",
              "      <td>True</td>\n",
              "      <td>False</td>\n",
              "      <td>False</td>\n",
              "      <td>False</td>\n",
              "      <td>True</td>\n",
              "    </tr>\n",
              "    <tr>\n",
              "      <th>543302</th>\n",
              "      <td>False</td>\n",
              "      <td>False</td>\n",
              "      <td>False</td>\n",
              "      <td>False</td>\n",
              "      <td>False</td>\n",
              "      <td>False</td>\n",
              "      <td>True</td>\n",
              "      <td>False</td>\n",
              "      <td>False</td>\n",
              "      <td>False</td>\n",
              "      <td>True</td>\n",
              "    </tr>\n",
              "    <tr>\n",
              "      <th>543303</th>\n",
              "      <td>False</td>\n",
              "      <td>False</td>\n",
              "      <td>False</td>\n",
              "      <td>False</td>\n",
              "      <td>False</td>\n",
              "      <td>False</td>\n",
              "      <td>True</td>\n",
              "      <td>False</td>\n",
              "      <td>False</td>\n",
              "      <td>False</td>\n",
              "      <td>True</td>\n",
              "    </tr>\n",
              "    <tr>\n",
              "      <th>543304</th>\n",
              "      <td>False</td>\n",
              "      <td>False</td>\n",
              "      <td>False</td>\n",
              "      <td>False</td>\n",
              "      <td>False</td>\n",
              "      <td>False</td>\n",
              "      <td>True</td>\n",
              "      <td>False</td>\n",
              "      <td>False</td>\n",
              "      <td>False</td>\n",
              "      <td>True</td>\n",
              "    </tr>\n",
              "    <tr>\n",
              "      <th>543305</th>\n",
              "      <td>True</td>\n",
              "      <td>True</td>\n",
              "      <td>True</td>\n",
              "      <td>True</td>\n",
              "      <td>True</td>\n",
              "      <td>True</td>\n",
              "      <td>True</td>\n",
              "      <td>True</td>\n",
              "      <td>True</td>\n",
              "      <td>True</td>\n",
              "      <td>True</td>\n",
              "    </tr>\n",
              "  </tbody>\n",
              "</table>\n",
              "<p>543306 rows × 11 columns</p>\n",
              "</div>"
            ],
            "text/plain": [
              "          No.  announce_date  ...  province_of_onset  district_of_onset\n",
              "0       False          False  ...              False               True\n",
              "1       False          False  ...              False               True\n",
              "2       False          False  ...              False              False\n",
              "3       False          False  ...              False               True\n",
              "4       False          False  ...              False               True\n",
              "...       ...            ...  ...                ...                ...\n",
              "543301  False          False  ...              False               True\n",
              "543302  False          False  ...              False               True\n",
              "543303  False          False  ...              False               True\n",
              "543304  False          False  ...              False               True\n",
              "543305   True           True  ...               True               True\n",
              "\n",
              "[543306 rows x 11 columns]"
            ]
          },
          "metadata": {
            "tags": []
          },
          "execution_count": 12
        }
      ]
    },
    {
      "cell_type": "code",
      "metadata": {
        "colab": {
          "base_uri": "https://localhost:8080/"
        },
        "id": "m1RCu7EUGcq6",
        "outputId": "550eaf31-22de-4288-c904-b3bc7085c262"
      },
      "source": [
        "data_cases.isnull().any() #สรุปข้อมูลเป็นรายคอลัม"
      ],
      "execution_count": 13,
      "outputs": [
        {
          "output_type": "execute_result",
          "data": {
            "text/plain": [
              "No.                      True\n",
              "announce_date            True\n",
              "Notified date            True\n",
              "sex                      True\n",
              "age                      True\n",
              "Unit                     True\n",
              "nationality              True\n",
              "province_of_isolation    True\n",
              "risk                     True\n",
              "province_of_onset        True\n",
              "district_of_onset        True\n",
              "dtype: bool"
            ]
          },
          "metadata": {
            "tags": []
          },
          "execution_count": 13
        }
      ]
    },
    {
      "cell_type": "markdown",
      "metadata": {
        "id": "REIXIreiGn4q"
      },
      "source": [
        "#Handlind Missing Value 1 (ลบค่า missing) "
      ]
    },
    {
      "cell_type": "code",
      "metadata": {
        "colab": {
          "base_uri": "https://localhost:8080/",
          "height": 401
        },
        "id": "zc8evaOQGnLV",
        "outputId": "da42c88b-c475-41a7-c79f-27b55d3443ea"
      },
      "source": [
        "plt.boxplot(data_cases['age'].dropna())"
      ],
      "execution_count": 14,
      "outputs": [
        {
          "output_type": "execute_result",
          "data": {
            "text/plain": [
              "{'boxes': [<matplotlib.lines.Line2D at 0x7f517d42ec90>],\n",
              " 'caps': [<matplotlib.lines.Line2D at 0x7f517d436d10>,\n",
              "  <matplotlib.lines.Line2D at 0x7f517d43c290>],\n",
              " 'fliers': [<matplotlib.lines.Line2D at 0x7f517d43cd50>],\n",
              " 'means': [],\n",
              " 'medians': [<matplotlib.lines.Line2D at 0x7f517d43c810>],\n",
              " 'whiskers': [<matplotlib.lines.Line2D at 0x7f517d436290>,\n",
              "  <matplotlib.lines.Line2D at 0x7f517d4367d0>]}"
            ]
          },
          "metadata": {
            "tags": []
          },
          "execution_count": 14
        },
        {
          "output_type": "display_data",
          "data": {
            "image/png": "[encoded data removed]",
            "text/plain": [
              "<Figure size 432x288 with 1 Axes>"
            ]
          },
          "metadata": {
            "tags": [],
            "needs_background": "light"
          }
        }
      ]
    },
    {
      "cell_type": "code",
      "metadata": {
        "colab": {
          "base_uri": "https://localhost:8080/",
          "height": 555
        },
        "id": "wi47fSv3IBjI",
        "outputId": "be9e47a3-ed4e-495a-a10a-6763e9f750dd"
      },
      "source": [
        "data_cases.dropna()"
      ],
      "execution_count": 15,
      "outputs": [
        {
          "output_type": "execute_result",
          "data": {
            "text/html": [
              "<div>\n",
              "<style scoped>\n",
              "    .dataframe tbody tr th:only-of-type {\n",
              "        vertical-align: middle;\n",
              "    }\n",
              "\n",
              "    .dataframe tbody tr th {\n",
              "        vertical-align: top;\n",
              "    }\n",
              "\n",
              "    .dataframe thead th {\n",
              "        text-align: right;\n",
              "    }\n",
              "</style>\n",
              "<table border=\"1\" class=\"dataframe\">\n",
              "  <thead>\n",
              "    <tr style=\"text-align: right;\">\n",
              "      <th></th>\n",
              "      <th>No.</th>\n",
              "      <th>announce_date</th>\n",
              "      <th>Notified date</th>\n",
              "      <th>sex</th>\n",
              "      <th>age</th>\n",
              "      <th>Unit</th>\n",
              "      <th>nationality</th>\n",
              "      <th>province_of_isolation</th>\n",
              "      <th>risk</th>\n",
              "      <th>province_of_onset</th>\n",
              "      <th>district_of_onset</th>\n",
              "    </tr>\n",
              "  </thead>\n",
              "  <tbody>\n",
              "    <tr>\n",
              "      <th>47</th>\n",
              "      <td>48.0</td>\n",
              "      <td>6/3/2020</td>\n",
              "      <td>4/3/2020</td>\n",
              "      <td>ชาย</td>\n",
              "      <td>43.0</td>\n",
              "      <td>ปี</td>\n",
              "      <td>United Kingdom</td>\n",
              "      <td>กรุงเทพมหานคร</td>\n",
              "      <td>คนต่างชาติเดินทางมาจากต่างประเทศ</td>\n",
              "      <td>กรุงเทพมหานคร</td>\n",
              "      <td>คลองตัน</td>\n",
              "    </tr>\n",
              "    <tr>\n",
              "      <th>124</th>\n",
              "      <td>125.0</td>\n",
              "      <td>6/3/2021</td>\n",
              "      <td>5/3/2021</td>\n",
              "      <td>หญิง</td>\n",
              "      <td>55.0</td>\n",
              "      <td>ปี</td>\n",
              "      <td>Thailand</td>\n",
              "      <td>ปทุมธานี</td>\n",
              "      <td>Cluster ตลาดพรพัฒน์</td>\n",
              "      <td>ปทุมธานี</td>\n",
              "      <td>ธัญบุรี</td>\n",
              "    </tr>\n",
              "    <tr>\n",
              "      <th>161</th>\n",
              "      <td>162.0</td>\n",
              "      <td>17/3/2020</td>\n",
              "      <td>21/3/2020</td>\n",
              "      <td>ชาย</td>\n",
              "      <td>14.0</td>\n",
              "      <td>ปี</td>\n",
              "      <td>Thailand</td>\n",
              "      <td>สุราษฎร์ธานี</td>\n",
              "      <td>สัมผัสใกล้ชิดกับผู้ป่วยยืนยันรายก่อนหน้านี้</td>\n",
              "      <td>สุราษฎร์ธานี</td>\n",
              "      <td>เมือง</td>\n",
              "    </tr>\n",
              "    <tr>\n",
              "      <th>181</th>\n",
              "      <td>182.0</td>\n",
              "      <td>18/3/2020</td>\n",
              "      <td>15/3/2020</td>\n",
              "      <td>ชาย</td>\n",
              "      <td>33.0</td>\n",
              "      <td>ปี</td>\n",
              "      <td>Thailand</td>\n",
              "      <td>ขอนแก่น</td>\n",
              "      <td>สนามมวย</td>\n",
              "      <td>ขอนแก่น</td>\n",
              "      <td>เมือง</td>\n",
              "    </tr>\n",
              "    <tr>\n",
              "      <th>186</th>\n",
              "      <td>187.0</td>\n",
              "      <td>18/3/2020</td>\n",
              "      <td>16/3/2020</td>\n",
              "      <td>ชาย</td>\n",
              "      <td>36.0</td>\n",
              "      <td>ปี</td>\n",
              "      <td>Thailand</td>\n",
              "      <td>ร้อยเอ็ด</td>\n",
              "      <td>สนามมวย</td>\n",
              "      <td>ร้อยเอ็ด</td>\n",
              "      <td>เชียงขวัญ</td>\n",
              "    </tr>\n",
              "    <tr>\n",
              "      <th>...</th>\n",
              "      <td>...</td>\n",
              "      <td>...</td>\n",
              "      <td>...</td>\n",
              "      <td>...</td>\n",
              "      <td>...</td>\n",
              "      <td>...</td>\n",
              "      <td>...</td>\n",
              "      <td>...</td>\n",
              "      <td>...</td>\n",
              "      <td>...</td>\n",
              "      <td>...</td>\n",
              "    </tr>\n",
              "    <tr>\n",
              "      <th>543098</th>\n",
              "      <td>543099.0</td>\n",
              "      <td>28/7/2021</td>\n",
              "      <td>27/7/2021</td>\n",
              "      <td>หญิง</td>\n",
              "      <td>63.0</td>\n",
              "      <td>ปี</td>\n",
              "      <td>Thailand</td>\n",
              "      <td>กรุงเทพมหานคร</td>\n",
              "      <td>สัมผัสใกล้ชิดกับผู้ป่วยยืนยันรายก่อนหน้านี้</td>\n",
              "      <td>นครปฐม</td>\n",
              "      <td>พุทธมณฑล</td>\n",
              "    </tr>\n",
              "    <tr>\n",
              "      <th>543099</th>\n",
              "      <td>543100.0</td>\n",
              "      <td>28/7/2021</td>\n",
              "      <td>27/7/2021</td>\n",
              "      <td>ชาย</td>\n",
              "      <td>67.0</td>\n",
              "      <td>ปี</td>\n",
              "      <td>Thailand</td>\n",
              "      <td>กรุงเทพมหานคร</td>\n",
              "      <td>สัมผัสใกล้ชิดกับผู้ป่วยยืนยันรายก่อนหน้านี้</td>\n",
              "      <td>กรุงเทพมหานคร</td>\n",
              "      <td>หนองแขม</td>\n",
              "    </tr>\n",
              "    <tr>\n",
              "      <th>543100</th>\n",
              "      <td>543101.0</td>\n",
              "      <td>28/7/2021</td>\n",
              "      <td>27/7/2021</td>\n",
              "      <td>หญิง</td>\n",
              "      <td>68.0</td>\n",
              "      <td>ปี</td>\n",
              "      <td>Thailand</td>\n",
              "      <td>กรุงเทพมหานคร</td>\n",
              "      <td>สัมผัสใกล้ชิดกับผู้ป่วยยืนยันรายก่อนหน้านี้</td>\n",
              "      <td>กรุงเทพมหานคร</td>\n",
              "      <td>ดุสิต</td>\n",
              "    </tr>\n",
              "    <tr>\n",
              "      <th>543101</th>\n",
              "      <td>543102.0</td>\n",
              "      <td>28/7/2021</td>\n",
              "      <td>27/7/2021</td>\n",
              "      <td>ชาย</td>\n",
              "      <td>73.0</td>\n",
              "      <td>ปี</td>\n",
              "      <td>Thailand</td>\n",
              "      <td>กรุงเทพมหานคร</td>\n",
              "      <td>สัมผัสใกล้ชิดกับผู้ป่วยยืนยันรายก่อนหน้านี้</td>\n",
              "      <td>กรุงเทพมหานคร</td>\n",
              "      <td>ราษฎร์บูรณะ</td>\n",
              "    </tr>\n",
              "    <tr>\n",
              "      <th>543102</th>\n",
              "      <td>543103.0</td>\n",
              "      <td>28/7/2021</td>\n",
              "      <td>27/7/2021</td>\n",
              "      <td>หญิง</td>\n",
              "      <td>106.0</td>\n",
              "      <td>ปี</td>\n",
              "      <td>Thailand</td>\n",
              "      <td>กรุงเทพมหานคร</td>\n",
              "      <td>สัมผัสใกล้ชิดกับผู้ป่วยยืนยันรายก่อนหน้านี้</td>\n",
              "      <td>กรุงเทพมหานคร</td>\n",
              "      <td>ประเวศ</td>\n",
              "    </tr>\n",
              "  </tbody>\n",
              "</table>\n",
              "<p>385643 rows × 11 columns</p>\n",
              "</div>"
            ],
            "text/plain": [
              "             No. announce_date  ... province_of_onset district_of_onset\n",
              "47          48.0      6/3/2020  ...     กรุงเทพมหานคร           คลองตัน\n",
              "124        125.0      6/3/2021  ...          ปทุมธานี           ธัญบุรี\n",
              "161        162.0     17/3/2020  ...      สุราษฎร์ธานี             เมือง\n",
              "181        182.0     18/3/2020  ...           ขอนแก่น             เมือง\n",
              "186        187.0     18/3/2020  ...          ร้อยเอ็ด         เชียงขวัญ\n",
              "...          ...           ...  ...               ...               ...\n",
              "543098  543099.0     28/7/2021  ...            นครปฐม          พุทธมณฑล\n",
              "543099  543100.0     28/7/2021  ...     กรุงเทพมหานคร           หนองแขม\n",
              "543100  543101.0     28/7/2021  ...     กรุงเทพมหานคร             ดุสิต\n",
              "543101  543102.0     28/7/2021  ...     กรุงเทพมหานคร       ราษฎร์บูรณะ\n",
              "543102  543103.0     28/7/2021  ...     กรุงเทพมหานคร            ประเวศ\n",
              "\n",
              "[385643 rows x 11 columns]"
            ]
          },
          "metadata": {
            "tags": []
          },
          "execution_count": 15
        }
      ]
    },
    {
      "cell_type": "code",
      "metadata": {
        "colab": {
          "base_uri": "https://localhost:8080/"
        },
        "id": "diduk4oNIXUN",
        "outputId": "9a789b7c-d491-47c8-ec48-cb993adc88d7"
      },
      "source": [
        "data_cases.dropna().shape"
      ],
      "execution_count": 16,
      "outputs": [
        {
          "output_type": "execute_result",
          "data": {
            "text/plain": [
              "(385643, 11)"
            ]
          },
          "metadata": {
            "tags": []
          },
          "execution_count": 16
        }
      ]
    },
    {
      "cell_type": "code",
      "metadata": {
        "colab": {
          "base_uri": "https://localhost:8080/"
        },
        "id": "md3d_yNPId3d",
        "outputId": "6dec9fb8-772c-4c95-9a31-749f5b3450d3"
      },
      "source": [
        "data_cases.dropna().shape[0]"
      ],
      "execution_count": 17,
      "outputs": [
        {
          "output_type": "execute_result",
          "data": {
            "text/plain": [
              "385643"
            ]
          },
          "metadata": {
            "tags": []
          },
          "execution_count": 17
        }
      ]
    },
    {
      "cell_type": "code",
      "metadata": {
        "id": "NeGVY_GPKNbZ"
      },
      "source": [
        ""
      ],
      "execution_count": 17,
      "outputs": []
    },
    {
      "cell_type": "markdown",
      "metadata": {
        "id": "SfAYxRUJIiR9"
      },
      "source": [
        "###Quiz 3 หาว่า การทำ dropna() ทำให้ข้อมูลหายไปกี่ %\n",
        "\n",
        "\n",
        "\n",
        "\n",
        "```\n",
        "size before drop = 1000\n",
        "size after drop = 10\n",
        "we loss 99% of data\n",
        "```\n",
        "\n",
        "\n",
        "\n",
        "\n",
        "\n"
      ]
    },
    {
      "cell_type": "code",
      "metadata": {
        "colab": {
          "base_uri": "https://localhost:8080/"
        },
        "id": "H6p0MKePKdHH",
        "outputId": "bb0a14f9-959f-4961-fa2a-0250b1530a79"
      },
      "source": [
        "after = data_cases.shape[0] - data_cases.dropna().shape[0]\n",
        "after"
      ],
      "execution_count": 18,
      "outputs": [
        {
          "output_type": "execute_result",
          "data": {
            "text/plain": [
              "157663"
            ]
          },
          "metadata": {
            "tags": []
          },
          "execution_count": 18
        }
      ]
    },
    {
      "cell_type": "code",
      "metadata": {
        "colab": {
          "base_uri": "https://localhost:8080/"
        },
        "id": "nz93GCaXNIN1",
        "outputId": "f75fa592-264c-4a40-d032-87624ede73ef"
      },
      "source": [
        "data_af = (after/data_cases.shape[0])*100\n",
        "data_af"
      ],
      "execution_count": 19,
      "outputs": [
        {
          "output_type": "execute_result",
          "data": {
            "text/plain": [
              "29.019189922437818"
            ]
          },
          "metadata": {
            "tags": []
          },
          "execution_count": 19
        }
      ]
    },
    {
      "cell_type": "markdown",
      "metadata": {
        "id": "rYz0WtbzRLCc"
      },
      "source": [
        "เฉลย"
      ]
    },
    {
      "cell_type": "code",
      "metadata": {
        "colab": {
          "base_uri": "https://localhost:8080/"
        },
        "id": "q2iBbT6sRMiF",
        "outputId": "0231e55d-63dc-49c1-b678-f39f310103f4"
      },
      "source": [
        "removed = data_cases.shape[0] - data_cases.dropna().shape[0]\n",
        "\n",
        "print(f'size before drop = {data_cases.shape[0]}')\n",
        "print(f'size after drop = {data_cases.dropna().shape[0]}')\n",
        "print(f'we lost {100*(removed/data_cases.shape[0])}% of data')"
      ],
      "execution_count": 20,
      "outputs": [
        {
          "output_type": "stream",
          "text": [
            "size before drop = 543306\n",
            "size after drop = 385643\n",
            "we lost 29.019189922437818% of data\n"
          ],
          "name": "stdout"
        }
      ]
    },
    {
      "cell_type": "markdown",
      "metadata": {
        "id": "5YGFozxhRp6d"
      },
      "source": [
        "## Handling Missing Value 1.5 (ลบค่า missing เฉพาะใน column ที่เราสนใจ)"
      ]
    },
    {
      "cell_type": "code",
      "metadata": {
        "id": "rCJcyS3KRskR"
      },
      "source": [
        "data_cases_nomissingAge = data_cases.dropna(subset=['age'])"
      ],
      "execution_count": 21,
      "outputs": []
    },
    {
      "cell_type": "code",
      "metadata": {
        "colab": {
          "base_uri": "https://localhost:8080/",
          "height": 401
        },
        "id": "YG4Xs4VKRu-V",
        "outputId": "3a3f5549-fb15-40d3-da98-f30ee2ac8ef4"
      },
      "source": [
        "plt.boxplot(data_cases_nomissingAge['age'])"
      ],
      "execution_count": 22,
      "outputs": [
        {
          "output_type": "execute_result",
          "data": {
            "text/plain": [
              "{'boxes': [<matplotlib.lines.Line2D at 0x7f517d138250>],\n",
              " 'caps': [<matplotlib.lines.Line2D at 0x7f517d0bf2d0>,\n",
              "  <matplotlib.lines.Line2D at 0x7f517d0bf810>],\n",
              " 'fliers': [<matplotlib.lines.Line2D at 0x7f517d0c7310>],\n",
              " 'means': [],\n",
              " 'medians': [<matplotlib.lines.Line2D at 0x7f517d0bfd90>],\n",
              " 'whiskers': [<matplotlib.lines.Line2D at 0x7f517d138810>,\n",
              "  <matplotlib.lines.Line2D at 0x7f517d138d50>]}"
            ]
          },
          "metadata": {
            "tags": []
          },
          "execution_count": 22
        },
        {
          "output_type": "display_data",
          "data": {
            "image/png": "[encoded data removed]",
            "text/plain": [
              "<Figure size 432x288 with 1 Axes>"
            ]
          },
          "metadata": {
            "tags": [],
            "needs_background": "light"
          }
        }
      ]
    },
    {
      "cell_type": "markdown",
      "metadata": {
        "id": "H4KwCkdvRQDP"
      },
      "source": [
        "#Quiz3.1 หาว่าการทำ dropna() แบบเลือก drop เฉพาะ column ที่เราสนใจ (age) ทำให้ข้อมูลหายไปกี่ %"
      ]
    },
    {
      "cell_type": "code",
      "metadata": {
        "id": "NcN-TlYxRVyn",
        "colab": {
          "base_uri": "https://localhost:8080/"
        },
        "outputId": "03fef5a0-0340-4fa6-a919-f5100e465fc8"
      },
      "source": [
        "removed = data_cases.shape[0] - data_cases_nomissingAge.shape[0]\n",
        "\n",
        "print(f'size before drop = {data_cases.shape[0]}')\n",
        "print(f'size after drop = {data_cases_nomissingAge.shape[0]}')\n",
        "print(f'we lost {100*(removed/data_cases.shape[0])}% of data')"
      ],
      "execution_count": 23,
      "outputs": [
        {
          "output_type": "stream",
          "text": [
            "size before drop = 543306\n",
            "size after drop = 491048\n",
            "we lost 9.618520686316735% of data\n"
          ],
          "name": "stdout"
        }
      ]
    },
    {
      "cell_type": "markdown",
      "metadata": {
        "id": "ap4x3yyoPI4e"
      },
      "source": [
        "#Handling Misiing Value 2 (แทนค่าด้วย class ใหม่ (unknown))"
      ]
    },
    {
      "cell_type": "code",
      "metadata": {
        "id": "fcvJW7K_PKuO",
        "colab": {
          "base_uri": "https://localhost:8080/",
          "height": 521
        },
        "outputId": "ca3c94d6-8cde-4bbc-96ad-808ec3a46b59"
      },
      "source": [
        "data_cases"
      ],
      "execution_count": 24,
      "outputs": [
        {
          "output_type": "execute_result",
          "data": {
            "text/html": [
              "<div>\n",
              "<style scoped>\n",
              "    .dataframe tbody tr th:only-of-type {\n",
              "        vertical-align: middle;\n",
              "    }\n",
              "\n",
              "    .dataframe tbody tr th {\n",
              "        vertical-align: top;\n",
              "    }\n",
              "\n",
              "    .dataframe thead th {\n",
              "        text-align: right;\n",
              "    }\n",
              "</style>\n",
              "<table border=\"1\" class=\"dataframe\">\n",
              "  <thead>\n",
              "    <tr style=\"text-align: right;\">\n",
              "      <th></th>\n",
              "      <th>No.</th>\n",
              "      <th>announce_date</th>\n",
              "      <th>Notified date</th>\n",
              "      <th>sex</th>\n",
              "      <th>age</th>\n",
              "      <th>Unit</th>\n",
              "      <th>nationality</th>\n",
              "      <th>province_of_isolation</th>\n",
              "      <th>risk</th>\n",
              "      <th>province_of_onset</th>\n",
              "      <th>district_of_onset</th>\n",
              "    </tr>\n",
              "  </thead>\n",
              "  <tbody>\n",
              "    <tr>\n",
              "      <th>0</th>\n",
              "      <td>1.0</td>\n",
              "      <td>12/1/2020</td>\n",
              "      <td>NaN</td>\n",
              "      <td>หญิง</td>\n",
              "      <td>61.0</td>\n",
              "      <td>ปี</td>\n",
              "      <td>China</td>\n",
              "      <td>กรุงเทพมหานคร</td>\n",
              "      <td>คนต่างชาติเดินทางมาจากต่างประเทศ</td>\n",
              "      <td>กรุงเทพมหานคร</td>\n",
              "      <td>NaN</td>\n",
              "    </tr>\n",
              "    <tr>\n",
              "      <th>1</th>\n",
              "      <td>2.0</td>\n",
              "      <td>17/1/2020</td>\n",
              "      <td>NaN</td>\n",
              "      <td>หญิง</td>\n",
              "      <td>74.0</td>\n",
              "      <td>ปี</td>\n",
              "      <td>China</td>\n",
              "      <td>กรุงเทพมหานคร</td>\n",
              "      <td>คนต่างชาติเดินทางมาจากต่างประเทศ</td>\n",
              "      <td>กรุงเทพมหานคร</td>\n",
              "      <td>NaN</td>\n",
              "    </tr>\n",
              "    <tr>\n",
              "      <th>2</th>\n",
              "      <td>3.0</td>\n",
              "      <td>22/1/2020</td>\n",
              "      <td>NaN</td>\n",
              "      <td>หญิง</td>\n",
              "      <td>73.0</td>\n",
              "      <td>ปี</td>\n",
              "      <td>Thailand</td>\n",
              "      <td>นครปฐม</td>\n",
              "      <td>คนต่างชาติเดินทางมาจากต่างประเทศ</td>\n",
              "      <td>นครปฐม</td>\n",
              "      <td>เมือง</td>\n",
              "    </tr>\n",
              "    <tr>\n",
              "      <th>3</th>\n",
              "      <td>4.0</td>\n",
              "      <td>22/1/2020</td>\n",
              "      <td>NaN</td>\n",
              "      <td>ชาย</td>\n",
              "      <td>68.0</td>\n",
              "      <td>ปี</td>\n",
              "      <td>China</td>\n",
              "      <td>กรุงเทพมหานคร</td>\n",
              "      <td>คนต่างชาติเดินทางมาจากต่างประเทศ</td>\n",
              "      <td>กรุงเทพมหานคร</td>\n",
              "      <td>NaN</td>\n",
              "    </tr>\n",
              "    <tr>\n",
              "      <th>4</th>\n",
              "      <td>5.0</td>\n",
              "      <td>24/1/2020</td>\n",
              "      <td>NaN</td>\n",
              "      <td>หญิง</td>\n",
              "      <td>66.0</td>\n",
              "      <td>ปี</td>\n",
              "      <td>China</td>\n",
              "      <td>นนทบุรี</td>\n",
              "      <td>คนต่างชาติเดินทางมาจากต่างประเทศ</td>\n",
              "      <td>กรุงเทพมหานคร</td>\n",
              "      <td>NaN</td>\n",
              "    </tr>\n",
              "    <tr>\n",
              "      <th>...</th>\n",
              "      <td>...</td>\n",
              "      <td>...</td>\n",
              "      <td>...</td>\n",
              "      <td>...</td>\n",
              "      <td>...</td>\n",
              "      <td>...</td>\n",
              "      <td>...</td>\n",
              "      <td>...</td>\n",
              "      <td>...</td>\n",
              "      <td>...</td>\n",
              "      <td>...</td>\n",
              "    </tr>\n",
              "    <tr>\n",
              "      <th>543301</th>\n",
              "      <td>543302.0</td>\n",
              "      <td>28/7/2021</td>\n",
              "      <td>27/7/2021</td>\n",
              "      <td>ชาย</td>\n",
              "      <td>39.0</td>\n",
              "      <td>ปี</td>\n",
              "      <td>NaN</td>\n",
              "      <td>สุพรรณบุรี</td>\n",
              "      <td>ทัณฑสถาน/เรือนจำ</td>\n",
              "      <td>สุพรรณบุรี</td>\n",
              "      <td>NaN</td>\n",
              "    </tr>\n",
              "    <tr>\n",
              "      <th>543302</th>\n",
              "      <td>543303.0</td>\n",
              "      <td>28/7/2021</td>\n",
              "      <td>27/7/2021</td>\n",
              "      <td>ชาย</td>\n",
              "      <td>37.0</td>\n",
              "      <td>ปี</td>\n",
              "      <td>NaN</td>\n",
              "      <td>สุพรรณบุรี</td>\n",
              "      <td>ทัณฑสถาน/เรือนจำ</td>\n",
              "      <td>สุพรรณบุรี</td>\n",
              "      <td>NaN</td>\n",
              "    </tr>\n",
              "    <tr>\n",
              "      <th>543303</th>\n",
              "      <td>543304.0</td>\n",
              "      <td>28/7/2021</td>\n",
              "      <td>27/7/2021</td>\n",
              "      <td>ชาย</td>\n",
              "      <td>28.0</td>\n",
              "      <td>ปี</td>\n",
              "      <td>NaN</td>\n",
              "      <td>สุพรรณบุรี</td>\n",
              "      <td>ทัณฑสถาน/เรือนจำ</td>\n",
              "      <td>สุพรรณบุรี</td>\n",
              "      <td>NaN</td>\n",
              "    </tr>\n",
              "    <tr>\n",
              "      <th>543304</th>\n",
              "      <td>543305.0</td>\n",
              "      <td>28/7/2021</td>\n",
              "      <td>27/7/2021</td>\n",
              "      <td>ชาย</td>\n",
              "      <td>26.0</td>\n",
              "      <td>ปี</td>\n",
              "      <td>NaN</td>\n",
              "      <td>ปัตตานี</td>\n",
              "      <td>ทัณฑสถาน/เรือนจำ</td>\n",
              "      <td>ปัตตานี</td>\n",
              "      <td>NaN</td>\n",
              "    </tr>\n",
              "    <tr>\n",
              "      <th>543305</th>\n",
              "      <td>NaN</td>\n",
              "      <td>NaN</td>\n",
              "      <td>NaN</td>\n",
              "      <td>NaN</td>\n",
              "      <td>NaN</td>\n",
              "      <td>NaN</td>\n",
              "      <td>NaN</td>\n",
              "      <td>NaN</td>\n",
              "      <td>NaN</td>\n",
              "      <td>NaN</td>\n",
              "      <td>NaN</td>\n",
              "    </tr>\n",
              "  </tbody>\n",
              "</table>\n",
              "<p>543306 rows × 11 columns</p>\n",
              "</div>"
            ],
            "text/plain": [
              "             No. announce_date  ... province_of_onset district_of_onset\n",
              "0            1.0     12/1/2020  ...     กรุงเทพมหานคร               NaN\n",
              "1            2.0     17/1/2020  ...     กรุงเทพมหานคร               NaN\n",
              "2            3.0     22/1/2020  ...            นครปฐม             เมือง\n",
              "3            4.0     22/1/2020  ...     กรุงเทพมหานคร               NaN\n",
              "4            5.0     24/1/2020  ...     กรุงเทพมหานคร               NaN\n",
              "...          ...           ...  ...               ...               ...\n",
              "543301  543302.0     28/7/2021  ...        สุพรรณบุรี               NaN\n",
              "543302  543303.0     28/7/2021  ...        สุพรรณบุรี               NaN\n",
              "543303  543304.0     28/7/2021  ...        สุพรรณบุรี               NaN\n",
              "543304  543305.0     28/7/2021  ...           ปัตตานี               NaN\n",
              "543305       NaN           NaN  ...               NaN               NaN\n",
              "\n",
              "[543306 rows x 11 columns]"
            ]
          },
          "metadata": {
            "tags": []
          },
          "execution_count": 24
        }
      ]
    },
    {
      "cell_type": "code",
      "metadata": {
        "id": "6X2bzBJOPNlZ"
      },
      "source": [
        "data_cases[['risk']] = data_cases[['risk']].fillna('ไม่มีข้อมูล') #fillna เป็นการเติมค่า"
      ],
      "execution_count": 25,
      "outputs": []
    },
    {
      "cell_type": "code",
      "metadata": {
        "id": "4JhHw9mzPPmu",
        "colab": {
          "base_uri": "https://localhost:8080/"
        },
        "outputId": "6f0de472-b3fa-4e7c-e865-09bcfd82c7f4"
      },
      "source": [
        "set(data_cases['risk']) #set เหมือน set ทางคณิตศาสตร์"
      ],
      "execution_count": 26,
      "outputs": [
        {
          "output_type": "execute_result",
          "data": {
            "text/plain": [
              "{'2.สัมผัสผู้ติดเชื้อ',\n",
              " 'ACF รองเมือง',\n",
              " 'ACF สนามกีฬาธูปะเตมีย์',\n",
              " 'ACF สนามกีฬาไทย-ญี่ปุ่น',\n",
              " 'ACF สีลม',\n",
              " 'ACF เคหะหลักสี่',\n",
              " 'Cluster Icon siam',\n",
              " \"Cluster Memory 90's กรุงเทพมหานคร\",\n",
              " 'Cluster New Jazz กรุงเทพมหานคร',\n",
              " 'Cluster The Lounge Salaya',\n",
              " 'Cluster กรุงเทพมหานคร. คลองเตย',\n",
              " 'Cluster คลองเตย',\n",
              " 'Cluster งานมอเตอร์ โชว์',\n",
              " 'Cluster จนท. สนามบินสุวรรณภูมิ',\n",
              " 'Cluster จันทบุรี',\n",
              " 'Cluster จันทบุรี (ชาวกินี )',\n",
              " 'Cluster จันทบุรี (ชาวกินี)',\n",
              " 'Cluster ชลบุรี',\n",
              " 'Cluster ชลบุรี บริษัทไดกิ้น',\n",
              " 'Cluster ชลบุรี โรงเบียร์ 90',\n",
              " 'Cluster ตราด',\n",
              " 'Cluster ตราด ',\n",
              " 'Cluster ตลาดนนทบุรี',\n",
              " 'Cluster ตลาดบางพลี',\n",
              " 'Cluster ตลาดบางแค',\n",
              " 'Cluster ตลาดบางแค/คลองขวาง',\n",
              " 'Cluster ตลาดพรพัฒน์',\n",
              " 'Cluster ตลาดสี่มุมเมือง',\n",
              " 'Cluster ทัณฑสถานหญิงกลาง',\n",
              " 'Cluster ทัณฑสถานโรงพยาบาลราชทัณฑ์',\n",
              " 'Cluster ทันฑสถานบำบัดพิเศษกลาง',\n",
              " 'Cluster บริษัทศรีสวัสดิ์',\n",
              " 'Cluster บางแค',\n",
              " 'Cluster บ่อนพัทยา/ชลบุรี',\n",
              " 'Cluster บ่อนเทพารักษ์',\n",
              " 'Cluster บ่อนไก่อ่างทอง',\n",
              " 'Cluster ปากช่อง',\n",
              " 'Cluster ผับ Thonglor',\n",
              " 'Cluster มหาสารคาม',\n",
              " 'Cluster ระยอง',\n",
              " 'Cluster ระยอง วิริยะประกันภัย',\n",
              " 'Cluster สถานบันเทิงย่านทองหล่อ',\n",
              " 'Cluster สมุทรปราการ (โรงงาน บริษัทเมทัล โปรดักส์)',\n",
              " 'Cluster สมุทรปราการ GRP Hightech',\n",
              " 'Cluster สมุทรปราการ ตลาดเคหะบางพลี',\n",
              " 'Cluster สมุทรสาคร',\n",
              " 'Cluster ห้างแสงทอง (สายล่าง)',\n",
              " 'Cluster เครือคัสเซ่อร์พีคโฮลดิ้ง (CPG,CPH)',\n",
              " 'Cluster เรือนจำกลางคลองเปรม',\n",
              " 'Cluster เรือนจำพิเศษกรุงเทพ',\n",
              " 'Cluster เรือนจำพิเศษธนบุรี',\n",
              " 'Cluster เรือนจำพิเศษมีนบุรี',\n",
              " 'Cluster โรงงาน  Big Star',\n",
              " 'Cluster โรงงาน Big Star',\n",
              " 'Cluster โรงงาน QPP ประจวบฯ',\n",
              " 'Cluster โรงงาน standard can',\n",
              " 'Cluster โรงงานทำขนม บางขุนเทียน',\n",
              " 'Refer in',\n",
              " 'SHUI',\n",
              " 'Sandbox',\n",
              " 'State Quarantine',\n",
              " 'cluster ชลบุรี\\n(อยู่ระหว่างการสอบสวน)',\n",
              " 'การค้นหาผู้ป่วยเชิงรุกและค้นหาผู้ติดเชื้อในชุมชน',\n",
              " 'คนต่างชาติเดินทางมาจากต่างประเทศ',\n",
              " 'คนไทยมาจากพื้นที่เสี่ยง',\n",
              " 'คนไทยเดินทางกลับจากต่างประเทศ',\n",
              " 'คนไทยเดินทางมาจากต่างประเทศ',\n",
              " 'ค้นหาเชิงรุก',\n",
              " 'ตรวจก่อนทำหัตถการ',\n",
              " 'ตรวจสุขภาพแรงงานต่างด้าว',\n",
              " 'ตลาด',\n",
              " 'ทัณฑสถาน/เรือนจำ',\n",
              " 'บุคลากรด้านการแพทย์และสาธารณสุข',\n",
              " 'ปอดอักเสบ (Pneumonia)',\n",
              " 'ปอดอักเสบ Pneumonia',\n",
              " 'ผับหัวหิน',\n",
              " 'ผู้ติดเชื้อในประเทศ',\n",
              " 'ผู้ที่เดินทางมาจากต่างประเทศ และเข้า AOQ',\n",
              " 'ผู้ที่เดินทางมาจากต่างประเทศ และเข้า ASQ/ALQ',\n",
              " 'ผู้ที่เดินทางมาจากต่างประเทศ และเข้า HQ/AHQ',\n",
              " 'ผู้ที่เดินทางมาจากต่างประเทศ และเข้า OQ',\n",
              " 'ผู้ป่วย PUI',\n",
              " 'ผู้ป่วย กรุงเทพมหานคร',\n",
              " 'ผู้เดินทางมาจากพื้นที่เสี่ยง กรุงเทพมหานคร.',\n",
              " 'พิธีกรรมทางศาสนา',\n",
              " 'มาจากพื้นที่เสียง จ.ปทุมธานี',\n",
              " 'มาจากพื้นที่เสี่ยง',\n",
              " 'มาจากพื้นที่เสี่ยง จ.ปทุมธานี',\n",
              " 'รอประสาน',\n",
              " 'ระบุไม่ได้',\n",
              " 'ระหว่างการสอบสวนโรค',\n",
              " 'ระหว่างสอบสวน',\n",
              " 'รับจ้างขนของที่ตลาดท่ายาง',\n",
              " 'ร้านอาหาร',\n",
              " 'ศูนย์กักกัน ผู้ต้องกัก',\n",
              " 'สถานที่ทำงาน',\n",
              " 'สถานบันเทิง',\n",
              " 'สน.วัดพระยาไกร',\n",
              " 'สนามมวย',\n",
              " 'สัมผัสผู้ติดเชื้อยืนยัน\\nอยู่ระหว่างสอบสวน',\n",
              " 'สัมผัสผู้ติดเชื้อยืนยัน อยู่ระหว่างสอบสวน',\n",
              " 'สัมผัสผู้ป่วยที่ติดโควิด',\n",
              " 'สัมผัสผู้ป่วยยืนยัน',\n",
              " 'สัมผัสผู้ป่วยยืนยัน \\n อยู่ระหว่างสอบสวน',\n",
              " 'สัมผัสผู้ป่วยยืนยัน (ยังไม่สามารถระบุได้)',\n",
              " 'สัมผัสผู้ป่วยยืนยัน ภายในครอบครัว/ชุมชน/เพื่อน',\n",
              " 'สัมผัสผู้ป่วยยืนยัน อยุ๋ระหว่างสอบสวน',\n",
              " 'สัมผัสผู้ป่วยยืนยัน อยู่ระหว่างสอบสวน',\n",
              " 'สัมผัสผู้ป่วยยืนยันเพื่อนร่วมงาน',\n",
              " 'สัมผัสผู้เดินทางจากต่างประเทศ',\n",
              " 'สัมผัสสามีสะอาด เขตบ้าน (รพ.มหาชัย 2)',\n",
              " 'สัมผัสใกล้ชิดกับผู้ป่วยยืนยันรายก่อนหน้านี้',\n",
              " 'สัมผัสใกล้ชิดผู้ป่วยยันยันก่อนหน้า',\n",
              " 'สัมผัสใกล้ชิดผู้ป่วยยืนยันก่อนหน้า',\n",
              " 'สัมผัสในสถานพยาบาล',\n",
              " 'อยุ่ระหว่างสอบสวน',\n",
              " 'อยู่ระหว่างการสอบสวน',\n",
              " 'อยู่ระหว่างการสอบสวน\\n',\n",
              " 'อยู่ระหว่างสอบสวน',\n",
              " 'อยู่ระหว่างสอบสวนโรค',\n",
              " 'อาชีพเสี่ยง เช่น ทำงานในสถานที่แออัด หรือทำงานใกล้ชิดสัมผัสชาวต่างชาติ เป็นต้น',\n",
              " 'อาศัย/เดินทางไปในพื้นที่ที่มีการระบาด',\n",
              " 'อื่น',\n",
              " 'อื่นๆ',\n",
              " 'เดินทางมาจากพื้นที่จังหวัดเสี่ยง',\n",
              " 'เดินทางมาจากพื้นที่มีการระบาดของโรค',\n",
              " 'เดินทางมาจากพื้นที่เสี่ยง จ.กรุงเทพฯ จอมทอง',\n",
              " 'เดินทางมาจากพื้นที่เสี่ยงที่มีการระบาดของโรค',\n",
              " 'แรงงานต่างด้าวตรวจก่อนขึ้นทะเบียน',\n",
              " 'ไปยัง/มาจาก พื้นที่ระบาดกรุงเทพมหานครมหานคร',\n",
              " 'ไปยังพื้นที่ที่มีการระบาด',\n",
              " 'ไปสถานที่ชุมชน เช่น ตลาดนัด สถานที่ท่องเที่ยว',\n",
              " 'ไปสถานที่เสี่ยง เช่น ตลาด สถานที่ชุมชน',\n",
              " 'ไปสถานที่แออัด เช่น งานแฟร์ คอนเสิร์ต',\n",
              " 'ไปเที่ยวสถานบันเทิงในอุบลที่พบการระบาดของโรค Ubar',\n",
              " 'ไปแหล่งชุมชน/สถานที่คนหนาแน่น',\n",
              " 'ไม่มีข้อมูล'}"
            ]
          },
          "metadata": {
            "tags": []
          },
          "execution_count": 26
        }
      ]
    },
    {
      "cell_type": "markdown",
      "metadata": {
        "id": "4w5AnUf7PXw7"
      },
      "source": [
        "#Handling Misiing Value 3 (แทนค่าด้วย class ใหม่ (ค่าที่เหมาะสม))"
      ]
    },
    {
      "cell_type": "code",
      "metadata": {
        "id": "eMyBSAJ2Pe6Q",
        "colab": {
          "base_uri": "https://localhost:8080/"
        },
        "outputId": "a60479d1-178d-403d-c34a-f800364171f2"
      },
      "source": [
        "set(data_cases['Unit']) #คิดค่าที่เหมาะสมว่าอันไหนไม่กรอกให้แทนเป็นปี"
      ],
      "execution_count": 27,
      "outputs": [
        {
          "output_type": "execute_result",
          "data": {
            "text/plain": [
              "{' วัน', ' เดือน', nan, 'ปี', 'วัน', 'เดือน'}"
            ]
          },
          "metadata": {
            "tags": []
          },
          "execution_count": 27
        }
      ]
    },
    {
      "cell_type": "code",
      "metadata": {
        "id": "nGBxzsrmPhOJ"
      },
      "source": [
        "data_cases[['Unit']] = data_cases[['Unit']].fillna('ปี?') #เติมค่าลงไปเป็น ปี?"
      ],
      "execution_count": 28,
      "outputs": []
    },
    {
      "cell_type": "code",
      "metadata": {
        "id": "RMvsIiydPjZe",
        "colab": {
          "base_uri": "https://localhost:8080/"
        },
        "outputId": "8d953f28-3b5d-4b5a-915c-64ccc823b3d8"
      },
      "source": [
        "data_cases.isnull().any() #มาดูว่าเราจำกัดไปถึงไหนแล้ว"
      ],
      "execution_count": 29,
      "outputs": [
        {
          "output_type": "execute_result",
          "data": {
            "text/plain": [
              "No.                       True\n",
              "announce_date             True\n",
              "Notified date             True\n",
              "sex                       True\n",
              "age                       True\n",
              "Unit                     False\n",
              "nationality               True\n",
              "province_of_isolation     True\n",
              "risk                     False\n",
              "province_of_onset         True\n",
              "district_of_onset         True\n",
              "dtype: bool"
            ]
          },
          "metadata": {
            "tags": []
          },
          "execution_count": 29
        }
      ]
    },
    {
      "cell_type": "markdown",
      "metadata": {
        "id": "9gpWUYxmVRTG"
      },
      "source": [
        "## Handling Missing Value 4 (แทนด้วย ค่ากลาง)"
      ]
    },
    {
      "cell_type": "markdown",
      "metadata": {
        "id": "P5xaGaY9VTvj"
      },
      "source": [
        "ถ้าเป็น numeric ใช้ mean"
      ]
    },
    {
      "cell_type": "code",
      "metadata": {
        "id": "UyvzaSQqVVSf",
        "outputId": "170d3a7b-3bc2-4bec-baa3-fb0b95f366d5",
        "colab": {
          "base_uri": "https://localhost:8080/"
        }
      },
      "source": [
        "data_cases[['age']].mean()"
      ],
      "execution_count": 30,
      "outputs": [
        {
          "output_type": "execute_result",
          "data": {
            "text/plain": [
              "age    35.519252\n",
              "dtype: float64"
            ]
          },
          "metadata": {
            "tags": []
          },
          "execution_count": 30
        }
      ]
    },
    {
      "cell_type": "code",
      "metadata": {
        "id": "KQFRO4ZcVXvV",
        "outputId": "c4942619-2045-4481-fc32-a2c6f11c5c6a",
        "colab": {
          "base_uri": "https://localhost:8080/"
        }
      },
      "source": [
        "data_cases[['age']].dropna().mean()"
      ],
      "execution_count": 31,
      "outputs": [
        {
          "output_type": "execute_result",
          "data": {
            "text/plain": [
              "age    35.519252\n",
              "dtype: float64"
            ]
          },
          "metadata": {
            "tags": []
          },
          "execution_count": 31
        }
      ]
    },
    {
      "cell_type": "code",
      "metadata": {
        "id": "9h8IMef6VbaC"
      },
      "source": [
        "# หา mean\n",
        "avg_age = data_cases[['age']].mean()\n",
        "# เติม mean ลงไปแทนค่า missing\n",
        "data_cases[['age']] = data_cases[['age']].fillna(avg_age)"
      ],
      "execution_count": 32,
      "outputs": []
    },
    {
      "cell_type": "code",
      "metadata": {
        "id": "ksaP47aaVdKN",
        "outputId": "0d65ff68-7917-4e42-d5a5-657ca9127535",
        "colab": {
          "base_uri": "https://localhost:8080/"
        }
      },
      "source": [
        "data_cases.isnull().any()"
      ],
      "execution_count": 33,
      "outputs": [
        {
          "output_type": "execute_result",
          "data": {
            "text/plain": [
              "No.                       True\n",
              "announce_date             True\n",
              "Notified date             True\n",
              "sex                       True\n",
              "age                      False\n",
              "Unit                     False\n",
              "nationality               True\n",
              "province_of_isolation     True\n",
              "risk                     False\n",
              "province_of_onset         True\n",
              "district_of_onset         True\n",
              "dtype: bool"
            ]
          },
          "metadata": {
            "tags": []
          },
          "execution_count": 33
        }
      ]
    },
    {
      "cell_type": "code",
      "metadata": {
        "id": "AvMiaA2OVgks",
        "outputId": "33b315c9-2543-4530-e504-a483f02d4a89",
        "colab": {
          "base_uri": "https://localhost:8080/"
        }
      },
      "source": [
        "data_cases[['age']].mean()"
      ],
      "execution_count": 34,
      "outputs": [
        {
          "output_type": "execute_result",
          "data": {
            "text/plain": [
              "age    35.519252\n",
              "dtype: float64"
            ]
          },
          "metadata": {
            "tags": []
          },
          "execution_count": 34
        }
      ]
    },
    {
      "cell_type": "markdown",
      "metadata": {
        "id": "WX-YG0VNVqho"
      },
      "source": [
        "ถ้าเป็น norminal (ตัวหนังสือ) จะใช้ mode "
      ]
    },
    {
      "cell_type": "code",
      "metadata": {
        "id": "mg_3Cw_NVsAk",
        "outputId": "0558777f-5267-47b6-d5a9-84414616c7c8",
        "colab": {
          "base_uri": "https://localhost:8080/",
          "height": 80
        }
      },
      "source": [
        "data_cases[['nationality']].mode()"
      ],
      "execution_count": 37,
      "outputs": [
        {
          "output_type": "execute_result",
          "data": {
            "text/html": [
              "<div>\n",
              "<style scoped>\n",
              "    .dataframe tbody tr th:only-of-type {\n",
              "        vertical-align: middle;\n",
              "    }\n",
              "\n",
              "    .dataframe tbody tr th {\n",
              "        vertical-align: top;\n",
              "    }\n",
              "\n",
              "    .dataframe thead th {\n",
              "        text-align: right;\n",
              "    }\n",
              "</style>\n",
              "<table border=\"1\" class=\"dataframe\">\n",
              "  <thead>\n",
              "    <tr style=\"text-align: right;\">\n",
              "      <th></th>\n",
              "      <th>nationality</th>\n",
              "    </tr>\n",
              "  </thead>\n",
              "  <tbody>\n",
              "    <tr>\n",
              "      <th>0</th>\n",
              "      <td>Thailand</td>\n",
              "    </tr>\n",
              "  </tbody>\n",
              "</table>\n",
              "</div>"
            ],
            "text/plain": [
              "  nationality\n",
              "0    Thailand"
            ]
          },
          "metadata": {
            "tags": []
          },
          "execution_count": 37
        }
      ]
    },
    {
      "cell_type": "code",
      "metadata": {
        "id": "OTDGL5NQVuO0",
        "outputId": "e15abc7d-1c32-49eb-eb86-4d647eff8678",
        "colab": {
          "base_uri": "https://localhost:8080/",
          "height": 35
        }
      },
      "source": [
        "data_cases[['nationality']].mode().iloc[0,0]"
      ],
      "execution_count": 38,
      "outputs": [
        {
          "output_type": "execute_result",
          "data": {
            "application/vnd.google.colaboratory.intrinsic+json": {
              "type": "string"
            },
            "text/plain": [
              "'Thailand'"
            ]
          },
          "metadata": {
            "tags": []
          },
          "execution_count": 38
        }
      ]
    },
    {
      "cell_type": "code",
      "metadata": {
        "id": "18xTDdf5Vwj7",
        "outputId": "9ee599b4-e332-4d7a-f1ee-54e51efdb879",
        "colab": {
          "base_uri": "https://localhost:8080/"
        }
      },
      "source": [
        "data_cases['nationality'].mode()"
      ],
      "execution_count": 39,
      "outputs": [
        {
          "output_type": "execute_result",
          "data": {
            "text/plain": [
              "0    Thailand\n",
              "dtype: object"
            ]
          },
          "metadata": {
            "tags": []
          },
          "execution_count": 39
        }
      ]
    },
    {
      "cell_type": "code",
      "metadata": {
        "id": "IwzO2xeWVzWN"
      },
      "source": [
        "# หา mode\n",
        "mode_nation = data_cases[['nationality']].mode().iloc[0,0]\n",
        "# เติม mean ลงไปแทนค่า missing\n",
        "data_cases[['nationality']] = data_cases[['nationality']].fillna(mode_nation)"
      ],
      "execution_count": 40,
      "outputs": []
    },
    {
      "cell_type": "code",
      "metadata": {
        "id": "kp_POcsKV1lS",
        "outputId": "00cb4b66-80f0-4d6c-bceb-5757a9c6e595",
        "colab": {
          "base_uri": "https://localhost:8080/"
        }
      },
      "source": [
        "data_cases.isnull().any()"
      ],
      "execution_count": 41,
      "outputs": [
        {
          "output_type": "execute_result",
          "data": {
            "text/plain": [
              "No.                       True\n",
              "announce_date             True\n",
              "Notified date             True\n",
              "sex                       True\n",
              "age                      False\n",
              "Unit                     False\n",
              "nationality              False\n",
              "province_of_isolation     True\n",
              "risk                     False\n",
              "province_of_onset         True\n",
              "district_of_onset         True\n",
              "dtype: bool"
            ]
          },
          "metadata": {
            "tags": []
          },
          "execution_count": 41
        }
      ]
    },
    {
      "cell_type": "markdown",
      "metadata": {
        "id": "fagswyXxV4_W"
      },
      "source": [
        "ถ้าเป็น ordinal ใช้ median"
      ]
    },
    {
      "cell_type": "markdown",
      "metadata": {
        "id": "hrc1_IxKV7gw"
      },
      "source": [
        "# เติมด้วยค่าของ column ใกล้เคียง (เดี๋ยวย้อนกลับมา)"
      ]
    },
    {
      "cell_type": "code",
      "metadata": {
        "id": "7VNTlMiMV9N1",
        "outputId": "e39bfc56-dd4d-4c98-c0c3-c841276c54bb",
        "colab": {
          "base_uri": "https://localhost:8080/",
          "height": 703
        }
      },
      "source": [
        "data_cases.head(20)"
      ],
      "execution_count": 42,
      "outputs": [
        {
          "output_type": "execute_result",
          "data": {
            "text/html": [
              "<div>\n",
              "<style scoped>\n",
              "    .dataframe tbody tr th:only-of-type {\n",
              "        vertical-align: middle;\n",
              "    }\n",
              "\n",
              "    .dataframe tbody tr th {\n",
              "        vertical-align: top;\n",
              "    }\n",
              "\n",
              "    .dataframe thead th {\n",
              "        text-align: right;\n",
              "    }\n",
              "</style>\n",
              "<table border=\"1\" class=\"dataframe\">\n",
              "  <thead>\n",
              "    <tr style=\"text-align: right;\">\n",
              "      <th></th>\n",
              "      <th>No.</th>\n",
              "      <th>announce_date</th>\n",
              "      <th>Notified date</th>\n",
              "      <th>sex</th>\n",
              "      <th>age</th>\n",
              "      <th>Unit</th>\n",
              "      <th>nationality</th>\n",
              "      <th>province_of_isolation</th>\n",
              "      <th>risk</th>\n",
              "      <th>province_of_onset</th>\n",
              "      <th>district_of_onset</th>\n",
              "    </tr>\n",
              "  </thead>\n",
              "  <tbody>\n",
              "    <tr>\n",
              "      <th>0</th>\n",
              "      <td>1.0</td>\n",
              "      <td>12/1/2020</td>\n",
              "      <td>NaN</td>\n",
              "      <td>หญิง</td>\n",
              "      <td>61.0</td>\n",
              "      <td>ปี</td>\n",
              "      <td>China</td>\n",
              "      <td>กรุงเทพมหานคร</td>\n",
              "      <td>คนต่างชาติเดินทางมาจากต่างประเทศ</td>\n",
              "      <td>กรุงเทพมหานคร</td>\n",
              "      <td>NaN</td>\n",
              "    </tr>\n",
              "    <tr>\n",
              "      <th>1</th>\n",
              "      <td>2.0</td>\n",
              "      <td>17/1/2020</td>\n",
              "      <td>NaN</td>\n",
              "      <td>หญิง</td>\n",
              "      <td>74.0</td>\n",
              "      <td>ปี</td>\n",
              "      <td>China</td>\n",
              "      <td>กรุงเทพมหานคร</td>\n",
              "      <td>คนต่างชาติเดินทางมาจากต่างประเทศ</td>\n",
              "      <td>กรุงเทพมหานคร</td>\n",
              "      <td>NaN</td>\n",
              "    </tr>\n",
              "    <tr>\n",
              "      <th>2</th>\n",
              "      <td>3.0</td>\n",
              "      <td>22/1/2020</td>\n",
              "      <td>NaN</td>\n",
              "      <td>หญิง</td>\n",
              "      <td>73.0</td>\n",
              "      <td>ปี</td>\n",
              "      <td>Thailand</td>\n",
              "      <td>นครปฐม</td>\n",
              "      <td>คนต่างชาติเดินทางมาจากต่างประเทศ</td>\n",
              "      <td>นครปฐม</td>\n",
              "      <td>เมือง</td>\n",
              "    </tr>\n",
              "    <tr>\n",
              "      <th>3</th>\n",
              "      <td>4.0</td>\n",
              "      <td>22/1/2020</td>\n",
              "      <td>NaN</td>\n",
              "      <td>ชาย</td>\n",
              "      <td>68.0</td>\n",
              "      <td>ปี</td>\n",
              "      <td>China</td>\n",
              "      <td>กรุงเทพมหานคร</td>\n",
              "      <td>คนต่างชาติเดินทางมาจากต่างประเทศ</td>\n",
              "      <td>กรุงเทพมหานคร</td>\n",
              "      <td>NaN</td>\n",
              "    </tr>\n",
              "    <tr>\n",
              "      <th>4</th>\n",
              "      <td>5.0</td>\n",
              "      <td>24/1/2020</td>\n",
              "      <td>NaN</td>\n",
              "      <td>หญิง</td>\n",
              "      <td>66.0</td>\n",
              "      <td>ปี</td>\n",
              "      <td>China</td>\n",
              "      <td>นนทบุรี</td>\n",
              "      <td>คนต่างชาติเดินทางมาจากต่างประเทศ</td>\n",
              "      <td>กรุงเทพมหานคร</td>\n",
              "      <td>NaN</td>\n",
              "    </tr>\n",
              "    <tr>\n",
              "      <th>5</th>\n",
              "      <td>6.0</td>\n",
              "      <td>25/1/2020</td>\n",
              "      <td>NaN</td>\n",
              "      <td>หญิง</td>\n",
              "      <td>33.0</td>\n",
              "      <td>ปี</td>\n",
              "      <td>China</td>\n",
              "      <td>กรุงเทพมหานคร</td>\n",
              "      <td>คนต่างชาติเดินทางมาจากต่างประเทศ</td>\n",
              "      <td>กรุงเทพมหานคร</td>\n",
              "      <td>NaN</td>\n",
              "    </tr>\n",
              "    <tr>\n",
              "      <th>6</th>\n",
              "      <td>7.0</td>\n",
              "      <td>26/1/2020</td>\n",
              "      <td>NaN</td>\n",
              "      <td>หญิง</td>\n",
              "      <td>57.0</td>\n",
              "      <td>ปี</td>\n",
              "      <td>China</td>\n",
              "      <td>กรุงเทพมหานคร</td>\n",
              "      <td>คนต่างชาติเดินทางมาจากต่างประเทศ</td>\n",
              "      <td>กรุงเทพมหานคร</td>\n",
              "      <td>NaN</td>\n",
              "    </tr>\n",
              "    <tr>\n",
              "      <th>7</th>\n",
              "      <td>8.0</td>\n",
              "      <td>26/1/2020</td>\n",
              "      <td>NaN</td>\n",
              "      <td>หญิง</td>\n",
              "      <td>73.0</td>\n",
              "      <td>ปี</td>\n",
              "      <td>China</td>\n",
              "      <td>ประจวบคีรีขันธ์</td>\n",
              "      <td>คนต่างชาติเดินทางมาจากต่างประเทศ</td>\n",
              "      <td>ประจวบคีรีขันธ์</td>\n",
              "      <td>หัวหิน</td>\n",
              "    </tr>\n",
              "    <tr>\n",
              "      <th>8</th>\n",
              "      <td>9.0</td>\n",
              "      <td>28/1/2020</td>\n",
              "      <td>NaN</td>\n",
              "      <td>ชาย</td>\n",
              "      <td>63.0</td>\n",
              "      <td>ปี</td>\n",
              "      <td>China</td>\n",
              "      <td>กรุงเทพมหานคร</td>\n",
              "      <td>คนต่างชาติเดินทางมาจากต่างประเทศ</td>\n",
              "      <td>กรุงเทพมหานคร</td>\n",
              "      <td>NaN</td>\n",
              "    </tr>\n",
              "    <tr>\n",
              "      <th>9</th>\n",
              "      <td>10.0</td>\n",
              "      <td>28/1/2020</td>\n",
              "      <td>NaN</td>\n",
              "      <td>หญิง</td>\n",
              "      <td>28.0</td>\n",
              "      <td>ปี</td>\n",
              "      <td>China</td>\n",
              "      <td>นนทบุรี</td>\n",
              "      <td>คนต่างชาติเดินทางมาจากต่างประเทศ</td>\n",
              "      <td>นนทบุรี</td>\n",
              "      <td>NaN</td>\n",
              "    </tr>\n",
              "    <tr>\n",
              "      <th>10</th>\n",
              "      <td>11.0</td>\n",
              "      <td>28/1/2020</td>\n",
              "      <td>NaN</td>\n",
              "      <td>ชาย</td>\n",
              "      <td>33.0</td>\n",
              "      <td>ปี</td>\n",
              "      <td>China</td>\n",
              "      <td>กรุงเทพมหานคร</td>\n",
              "      <td>สัมผัสใกล้ชิดกับผู้ป่วยยืนยันรายก่อนหน้านี้</td>\n",
              "      <td>กรุงเทพมหานคร</td>\n",
              "      <td>NaN</td>\n",
              "    </tr>\n",
              "    <tr>\n",
              "      <th>11</th>\n",
              "      <td>12.0</td>\n",
              "      <td>28/1/2020</td>\n",
              "      <td>NaN</td>\n",
              "      <td>ชาย</td>\n",
              "      <td>61.0</td>\n",
              "      <td>ปี</td>\n",
              "      <td>China</td>\n",
              "      <td>กรุงเทพมหานคร</td>\n",
              "      <td>สัมผัสใกล้ชิดกับผู้ป่วยยืนยันรายก่อนหน้านี้</td>\n",
              "      <td>กรุงเทพมหานคร</td>\n",
              "      <td>NaN</td>\n",
              "    </tr>\n",
              "    <tr>\n",
              "      <th>12</th>\n",
              "      <td>13.0</td>\n",
              "      <td>28/1/2020</td>\n",
              "      <td>NaN</td>\n",
              "      <td>ชาย</td>\n",
              "      <td>6.0</td>\n",
              "      <td>ปี</td>\n",
              "      <td>China</td>\n",
              "      <td>กรุงเทพมหานคร</td>\n",
              "      <td>สัมผัสใกล้ชิดกับผู้ป่วยยืนยันรายก่อนหน้านี้</td>\n",
              "      <td>กรุงเทพมหานคร</td>\n",
              "      <td>NaN</td>\n",
              "    </tr>\n",
              "    <tr>\n",
              "      <th>13</th>\n",
              "      <td>14.0</td>\n",
              "      <td>28/1/2020</td>\n",
              "      <td>NaN</td>\n",
              "      <td>หญิง</td>\n",
              "      <td>32.0</td>\n",
              "      <td>ปี</td>\n",
              "      <td>China</td>\n",
              "      <td>ภูเก็ต</td>\n",
              "      <td>คนต่างชาติเดินทางมาจากต่างประเทศ</td>\n",
              "      <td>ภูเก็ต</td>\n",
              "      <td>เมือง</td>\n",
              "    </tr>\n",
              "    <tr>\n",
              "      <th>14</th>\n",
              "      <td>15.0</td>\n",
              "      <td>31/1/2020</td>\n",
              "      <td>NaN</td>\n",
              "      <td>ชาย</td>\n",
              "      <td>56.0</td>\n",
              "      <td>ปี</td>\n",
              "      <td>China</td>\n",
              "      <td>กรุงเทพมหานคร</td>\n",
              "      <td>คนต่างชาติเดินทางมาจากต่างประเทศ</td>\n",
              "      <td>กรุงเทพมหานคร</td>\n",
              "      <td>NaN</td>\n",
              "    </tr>\n",
              "    <tr>\n",
              "      <th>15</th>\n",
              "      <td>16.0</td>\n",
              "      <td>31/1/2020</td>\n",
              "      <td>NaN</td>\n",
              "      <td>ชาย</td>\n",
              "      <td>50.0</td>\n",
              "      <td>ปี</td>\n",
              "      <td>Thailand</td>\n",
              "      <td>กรุงเทพมหานคร</td>\n",
              "      <td>อาชีพเสี่ยง เช่น ทำงานในสถานที่แออัด หรือทำงาน...</td>\n",
              "      <td>กรุงเทพมหานคร</td>\n",
              "      <td>NaN</td>\n",
              "    </tr>\n",
              "    <tr>\n",
              "      <th>16</th>\n",
              "      <td>17.0</td>\n",
              "      <td>31/1/2020</td>\n",
              "      <td>NaN</td>\n",
              "      <td>ชาย</td>\n",
              "      <td>28.0</td>\n",
              "      <td>ปี</td>\n",
              "      <td>China</td>\n",
              "      <td>เชียงใหม่</td>\n",
              "      <td>คนต่างชาติเดินทางมาจากต่างประเทศ</td>\n",
              "      <td>เชียงใหม่</td>\n",
              "      <td>หางดง</td>\n",
              "    </tr>\n",
              "    <tr>\n",
              "      <th>17</th>\n",
              "      <td>18.0</td>\n",
              "      <td>31/1/2020</td>\n",
              "      <td>NaN</td>\n",
              "      <td>ชาย</td>\n",
              "      <td>30.0</td>\n",
              "      <td>ปี</td>\n",
              "      <td>China</td>\n",
              "      <td>กรุงเทพมหานคร</td>\n",
              "      <td>คนต่างชาติเดินทางมาจากต่างประเทศ</td>\n",
              "      <td>กรุงเทพมหานคร</td>\n",
              "      <td>NaN</td>\n",
              "    </tr>\n",
              "    <tr>\n",
              "      <th>18</th>\n",
              "      <td>19.0</td>\n",
              "      <td>31/1/2020</td>\n",
              "      <td>NaN</td>\n",
              "      <td>ชาย</td>\n",
              "      <td>33.0</td>\n",
              "      <td>ปี</td>\n",
              "      <td>China</td>\n",
              "      <td>กรุงเทพมหานคร</td>\n",
              "      <td>คนต่างชาติเดินทางมาจากต่างประเทศ</td>\n",
              "      <td>กรุงเทพมหานคร</td>\n",
              "      <td>NaN</td>\n",
              "    </tr>\n",
              "    <tr>\n",
              "      <th>19</th>\n",
              "      <td>20.0</td>\n",
              "      <td>4/2/2020</td>\n",
              "      <td>NaN</td>\n",
              "      <td>หญิง</td>\n",
              "      <td>43.0</td>\n",
              "      <td>ปี</td>\n",
              "      <td>Thailand</td>\n",
              "      <td>กรุงเทพมหานคร</td>\n",
              "      <td>คนไทยเดินทางกลับจากต่างประเทศ</td>\n",
              "      <td>กรุงเทพมหานคร</td>\n",
              "      <td>NaN</td>\n",
              "    </tr>\n",
              "  </tbody>\n",
              "</table>\n",
              "</div>"
            ],
            "text/plain": [
              "     No. announce_date  ... province_of_onset district_of_onset\n",
              "0    1.0     12/1/2020  ...     กรุงเทพมหานคร               NaN\n",
              "1    2.0     17/1/2020  ...     กรุงเทพมหานคร               NaN\n",
              "2    3.0     22/1/2020  ...            นครปฐม             เมือง\n",
              "3    4.0     22/1/2020  ...     กรุงเทพมหานคร               NaN\n",
              "4    5.0     24/1/2020  ...     กรุงเทพมหานคร               NaN\n",
              "5    6.0     25/1/2020  ...     กรุงเทพมหานคร               NaN\n",
              "6    7.0     26/1/2020  ...     กรุงเทพมหานคร               NaN\n",
              "7    8.0     26/1/2020  ...   ประจวบคีรีขันธ์            หัวหิน\n",
              "8    9.0     28/1/2020  ...     กรุงเทพมหานคร               NaN\n",
              "9   10.0     28/1/2020  ...           นนทบุรี               NaN\n",
              "10  11.0     28/1/2020  ...     กรุงเทพมหานคร               NaN\n",
              "11  12.0     28/1/2020  ...     กรุงเทพมหานคร               NaN\n",
              "12  13.0     28/1/2020  ...     กรุงเทพมหานคร               NaN\n",
              "13  14.0     28/1/2020  ...            ภูเก็ต             เมือง\n",
              "14  15.0     31/1/2020  ...     กรุงเทพมหานคร               NaN\n",
              "15  16.0     31/1/2020  ...     กรุงเทพมหานคร               NaN\n",
              "16  17.0     31/1/2020  ...         เชียงใหม่             หางดง\n",
              "17  18.0     31/1/2020  ...     กรุงเทพมหานคร               NaN\n",
              "18  19.0     31/1/2020  ...     กรุงเทพมหานคร               NaN\n",
              "19  20.0      4/2/2020  ...     กรุงเทพมหานคร               NaN\n",
              "\n",
              "[20 rows x 11 columns]"
            ]
          },
          "metadata": {
            "tags": []
          },
          "execution_count": 42
        }
      ]
    },
    {
      "cell_type": "markdown",
      "metadata": {
        "id": "n-YZ3A8qWBg1"
      },
      "source": [
        "## Handling Missing Value 5 (แทนด้วย ค่ากลางของ samples ใน class เดียวกัน)"
      ]
    },
    {
      "cell_type": "code",
      "metadata": {
        "id": "cIZnqwfQaWg7",
        "outputId": "0873bac0-28be-4725-fe7b-71a37a4cbb5f",
        "colab": {
          "base_uri": "https://localhost:8080/",
          "height": 521
        }
      },
      "source": [
        "data_cases2 = pd.read_csv(os.path.join(path,'confirmed-cases.csv'))\n",
        "data_cases2"
      ],
      "execution_count": 43,
      "outputs": [
        {
          "output_type": "execute_result",
          "data": {
            "text/html": [
              "<div>\n",
              "<style scoped>\n",
              "    .dataframe tbody tr th:only-of-type {\n",
              "        vertical-align: middle;\n",
              "    }\n",
              "\n",
              "    .dataframe tbody tr th {\n",
              "        vertical-align: top;\n",
              "    }\n",
              "\n",
              "    .dataframe thead th {\n",
              "        text-align: right;\n",
              "    }\n",
              "</style>\n",
              "<table border=\"1\" class=\"dataframe\">\n",
              "  <thead>\n",
              "    <tr style=\"text-align: right;\">\n",
              "      <th></th>\n",
              "      <th>No.</th>\n",
              "      <th>announce_date</th>\n",
              "      <th>Notified date</th>\n",
              "      <th>sex</th>\n",
              "      <th>age</th>\n",
              "      <th>Unit</th>\n",
              "      <th>nationality</th>\n",
              "      <th>province_of_isolation</th>\n",
              "      <th>risk</th>\n",
              "      <th>province_of_onset</th>\n",
              "      <th>district_of_onset</th>\n",
              "    </tr>\n",
              "  </thead>\n",
              "  <tbody>\n",
              "    <tr>\n",
              "      <th>0</th>\n",
              "      <td>1.0</td>\n",
              "      <td>12/1/2020</td>\n",
              "      <td>NaN</td>\n",
              "      <td>หญิง</td>\n",
              "      <td>61.0</td>\n",
              "      <td>ปี</td>\n",
              "      <td>China</td>\n",
              "      <td>กรุงเทพมหานคร</td>\n",
              "      <td>คนต่างชาติเดินทางมาจากต่างประเทศ</td>\n",
              "      <td>กรุงเทพมหานคร</td>\n",
              "      <td>NaN</td>\n",
              "    </tr>\n",
              "    <tr>\n",
              "      <th>1</th>\n",
              "      <td>2.0</td>\n",
              "      <td>17/1/2020</td>\n",
              "      <td>NaN</td>\n",
              "      <td>หญิง</td>\n",
              "      <td>74.0</td>\n",
              "      <td>ปี</td>\n",
              "      <td>China</td>\n",
              "      <td>กรุงเทพมหานคร</td>\n",
              "      <td>คนต่างชาติเดินทางมาจากต่างประเทศ</td>\n",
              "      <td>กรุงเทพมหานคร</td>\n",
              "      <td>NaN</td>\n",
              "    </tr>\n",
              "    <tr>\n",
              "      <th>2</th>\n",
              "      <td>3.0</td>\n",
              "      <td>22/1/2020</td>\n",
              "      <td>NaN</td>\n",
              "      <td>หญิง</td>\n",
              "      <td>73.0</td>\n",
              "      <td>ปี</td>\n",
              "      <td>Thailand</td>\n",
              "      <td>นครปฐม</td>\n",
              "      <td>คนต่างชาติเดินทางมาจากต่างประเทศ</td>\n",
              "      <td>นครปฐม</td>\n",
              "      <td>เมือง</td>\n",
              "    </tr>\n",
              "    <tr>\n",
              "      <th>3</th>\n",
              "      <td>4.0</td>\n",
              "      <td>22/1/2020</td>\n",
              "      <td>NaN</td>\n",
              "      <td>ชาย</td>\n",
              "      <td>68.0</td>\n",
              "      <td>ปี</td>\n",
              "      <td>China</td>\n",
              "      <td>กรุงเทพมหานคร</td>\n",
              "      <td>คนต่างชาติเดินทางมาจากต่างประเทศ</td>\n",
              "      <td>กรุงเทพมหานคร</td>\n",
              "      <td>NaN</td>\n",
              "    </tr>\n",
              "    <tr>\n",
              "      <th>4</th>\n",
              "      <td>5.0</td>\n",
              "      <td>24/1/2020</td>\n",
              "      <td>NaN</td>\n",
              "      <td>หญิง</td>\n",
              "      <td>66.0</td>\n",
              "      <td>ปี</td>\n",
              "      <td>China</td>\n",
              "      <td>นนทบุรี</td>\n",
              "      <td>คนต่างชาติเดินทางมาจากต่างประเทศ</td>\n",
              "      <td>กรุงเทพมหานคร</td>\n",
              "      <td>NaN</td>\n",
              "    </tr>\n",
              "    <tr>\n",
              "      <th>...</th>\n",
              "      <td>...</td>\n",
              "      <td>...</td>\n",
              "      <td>...</td>\n",
              "      <td>...</td>\n",
              "      <td>...</td>\n",
              "      <td>...</td>\n",
              "      <td>...</td>\n",
              "      <td>...</td>\n",
              "      <td>...</td>\n",
              "      <td>...</td>\n",
              "      <td>...</td>\n",
              "    </tr>\n",
              "    <tr>\n",
              "      <th>543301</th>\n",
              "      <td>543302.0</td>\n",
              "      <td>28/7/2021</td>\n",
              "      <td>27/7/2021</td>\n",
              "      <td>ชาย</td>\n",
              "      <td>39.0</td>\n",
              "      <td>ปี</td>\n",
              "      <td>NaN</td>\n",
              "      <td>สุพรรณบุรี</td>\n",
              "      <td>ทัณฑสถาน/เรือนจำ</td>\n",
              "      <td>สุพรรณบุรี</td>\n",
              "      <td>NaN</td>\n",
              "    </tr>\n",
              "    <tr>\n",
              "      <th>543302</th>\n",
              "      <td>543303.0</td>\n",
              "      <td>28/7/2021</td>\n",
              "      <td>27/7/2021</td>\n",
              "      <td>ชาย</td>\n",
              "      <td>37.0</td>\n",
              "      <td>ปี</td>\n",
              "      <td>NaN</td>\n",
              "      <td>สุพรรณบุรี</td>\n",
              "      <td>ทัณฑสถาน/เรือนจำ</td>\n",
              "      <td>สุพรรณบุรี</td>\n",
              "      <td>NaN</td>\n",
              "    </tr>\n",
              "    <tr>\n",
              "      <th>543303</th>\n",
              "      <td>543304.0</td>\n",
              "      <td>28/7/2021</td>\n",
              "      <td>27/7/2021</td>\n",
              "      <td>ชาย</td>\n",
              "      <td>28.0</td>\n",
              "      <td>ปี</td>\n",
              "      <td>NaN</td>\n",
              "      <td>สุพรรณบุรี</td>\n",
              "      <td>ทัณฑสถาน/เรือนจำ</td>\n",
              "      <td>สุพรรณบุรี</td>\n",
              "      <td>NaN</td>\n",
              "    </tr>\n",
              "    <tr>\n",
              "      <th>543304</th>\n",
              "      <td>543305.0</td>\n",
              "      <td>28/7/2021</td>\n",
              "      <td>27/7/2021</td>\n",
              "      <td>ชาย</td>\n",
              "      <td>26.0</td>\n",
              "      <td>ปี</td>\n",
              "      <td>NaN</td>\n",
              "      <td>ปัตตานี</td>\n",
              "      <td>ทัณฑสถาน/เรือนจำ</td>\n",
              "      <td>ปัตตานี</td>\n",
              "      <td>NaN</td>\n",
              "    </tr>\n",
              "    <tr>\n",
              "      <th>543305</th>\n",
              "      <td>NaN</td>\n",
              "      <td>NaN</td>\n",
              "      <td>NaN</td>\n",
              "      <td>NaN</td>\n",
              "      <td>NaN</td>\n",
              "      <td>NaN</td>\n",
              "      <td>NaN</td>\n",
              "      <td>NaN</td>\n",
              "      <td>NaN</td>\n",
              "      <td>NaN</td>\n",
              "      <td>NaN</td>\n",
              "    </tr>\n",
              "  </tbody>\n",
              "</table>\n",
              "<p>543306 rows × 11 columns</p>\n",
              "</div>"
            ],
            "text/plain": [
              "             No. announce_date  ... province_of_onset district_of_onset\n",
              "0            1.0     12/1/2020  ...     กรุงเทพมหานคร               NaN\n",
              "1            2.0     17/1/2020  ...     กรุงเทพมหานคร               NaN\n",
              "2            3.0     22/1/2020  ...            นครปฐม             เมือง\n",
              "3            4.0     22/1/2020  ...     กรุงเทพมหานคร               NaN\n",
              "4            5.0     24/1/2020  ...     กรุงเทพมหานคร               NaN\n",
              "...          ...           ...  ...               ...               ...\n",
              "543301  543302.0     28/7/2021  ...        สุพรรณบุรี               NaN\n",
              "543302  543303.0     28/7/2021  ...        สุพรรณบุรี               NaN\n",
              "543303  543304.0     28/7/2021  ...        สุพรรณบุรี               NaN\n",
              "543304  543305.0     28/7/2021  ...           ปัตตานี               NaN\n",
              "543305       NaN           NaN  ...               NaN               NaN\n",
              "\n",
              "[543306 rows x 11 columns]"
            ]
          },
          "metadata": {
            "tags": []
          },
          "execution_count": 43
        }
      ]
    },
    {
      "cell_type": "markdown",
      "metadata": {
        "id": "KHpZ1xVvabV8"
      },
      "source": [
        "# Select data by values [PD]"
      ]
    },
    {
      "cell_type": "markdown",
      "metadata": {
        "id": "yj7K-GQgaeJA"
      },
      "source": [
        "การเลือก record สามารถเลือกโดยใช้ ```list ของ boolean```(ความยาวของ list เท่ากับ จำนวน record)\n",
        "\n",
        "``` ชื่อตาราง[list ของ boolean] ```"
      ]
    },
    {
      "cell_type": "markdown",
      "metadata": {
        "id": "oiaIBwl5ahvg"
      },
      "source": [
        "#### สร้าง list ของ boolean"
      ]
    },
    {
      "cell_type": "code",
      "metadata": {
        "id": "AHfpH8VNalQ3",
        "outputId": "e712c6d4-791b-45e9-bc04-82bedbb5fcb5",
        "colab": {
          "base_uri": "https://localhost:8080/"
        }
      },
      "source": [
        "data_cases2['risk'] == 'ทัณฑสถาน/เรือนจำ'"
      ],
      "execution_count": 44,
      "outputs": [
        {
          "output_type": "execute_result",
          "data": {
            "text/plain": [
              "0         False\n",
              "1         False\n",
              "2         False\n",
              "3         False\n",
              "4         False\n",
              "          ...  \n",
              "543301     True\n",
              "543302     True\n",
              "543303     True\n",
              "543304     True\n",
              "543305    False\n",
              "Name: risk, Length: 543306, dtype: bool"
            ]
          },
          "metadata": {
            "tags": []
          },
          "execution_count": 44
        }
      ]
    },
    {
      "cell_type": "markdown",
      "metadata": {
        "id": "374PBonTapco"
      },
      "source": [
        "#### นำ list ของ boolean มาเลือกค่าในตาราง"
      ]
    },
    {
      "cell_type": "code",
      "metadata": {
        "id": "zfOvZHSuasYM",
        "outputId": "b74871ae-b5eb-423e-dcbf-993d9023dd4e",
        "colab": {
          "base_uri": "https://localhost:8080/",
          "height": 419
        }
      },
      "source": [
        "data_cases2[data_cases2['risk'] == 'ทัณฑสถาน/เรือนจำ']"
      ],
      "execution_count": 45,
      "outputs": [
        {
          "output_type": "execute_result",
          "data": {
            "text/html": [
              "<div>\n",
              "<style scoped>\n",
              "    .dataframe tbody tr th:only-of-type {\n",
              "        vertical-align: middle;\n",
              "    }\n",
              "\n",
              "    .dataframe tbody tr th {\n",
              "        vertical-align: top;\n",
              "    }\n",
              "\n",
              "    .dataframe thead th {\n",
              "        text-align: right;\n",
              "    }\n",
              "</style>\n",
              "<table border=\"1\" class=\"dataframe\">\n",
              "  <thead>\n",
              "    <tr style=\"text-align: right;\">\n",
              "      <th></th>\n",
              "      <th>No.</th>\n",
              "      <th>announce_date</th>\n",
              "      <th>Notified date</th>\n",
              "      <th>sex</th>\n",
              "      <th>age</th>\n",
              "      <th>Unit</th>\n",
              "      <th>nationality</th>\n",
              "      <th>province_of_isolation</th>\n",
              "      <th>risk</th>\n",
              "      <th>province_of_onset</th>\n",
              "      <th>district_of_onset</th>\n",
              "    </tr>\n",
              "  </thead>\n",
              "  <tbody>\n",
              "    <tr>\n",
              "      <th>100018</th>\n",
              "      <td>100019.0</td>\n",
              "      <td>16/5/2021</td>\n",
              "      <td>15/5/2021</td>\n",
              "      <td>หญิง</td>\n",
              "      <td>26.0</td>\n",
              "      <td>ปี</td>\n",
              "      <td>Thailand</td>\n",
              "      <td>ฉะเชิงเทรา</td>\n",
              "      <td>ทัณฑสถาน/เรือนจำ</td>\n",
              "      <td>ฉะเชิงเทรา</td>\n",
              "      <td>เมืองฉะเชิงเทรา‎</td>\n",
              "    </tr>\n",
              "    <tr>\n",
              "      <th>100019</th>\n",
              "      <td>100020.0</td>\n",
              "      <td>16/5/2021</td>\n",
              "      <td>15/5/2021</td>\n",
              "      <td>หญิง</td>\n",
              "      <td>41.0</td>\n",
              "      <td>ปี</td>\n",
              "      <td>Thailand</td>\n",
              "      <td>ฉะเชิงเทรา</td>\n",
              "      <td>ทัณฑสถาน/เรือนจำ</td>\n",
              "      <td>ฉะเชิงเทรา</td>\n",
              "      <td>เมืองฉะเชิงเทรา‎</td>\n",
              "    </tr>\n",
              "    <tr>\n",
              "      <th>101468</th>\n",
              "      <td>101469.0</td>\n",
              "      <td>17/5/2021</td>\n",
              "      <td>16/5/2021</td>\n",
              "      <td>NaN</td>\n",
              "      <td>NaN</td>\n",
              "      <td>NaN</td>\n",
              "      <td>NaN</td>\n",
              "      <td>เชียงใหม่</td>\n",
              "      <td>ทัณฑสถาน/เรือนจำ</td>\n",
              "      <td>NaN</td>\n",
              "      <td>NaN</td>\n",
              "    </tr>\n",
              "    <tr>\n",
              "      <th>101469</th>\n",
              "      <td>101470.0</td>\n",
              "      <td>17/5/2021</td>\n",
              "      <td>16/5/2021</td>\n",
              "      <td>NaN</td>\n",
              "      <td>NaN</td>\n",
              "      <td>NaN</td>\n",
              "      <td>NaN</td>\n",
              "      <td>เชียงใหม่</td>\n",
              "      <td>ทัณฑสถาน/เรือนจำ</td>\n",
              "      <td>NaN</td>\n",
              "      <td>NaN</td>\n",
              "    </tr>\n",
              "    <tr>\n",
              "      <th>101470</th>\n",
              "      <td>101471.0</td>\n",
              "      <td>17/5/2021</td>\n",
              "      <td>16/5/2021</td>\n",
              "      <td>NaN</td>\n",
              "      <td>NaN</td>\n",
              "      <td>NaN</td>\n",
              "      <td>NaN</td>\n",
              "      <td>เชียงใหม่</td>\n",
              "      <td>ทัณฑสถาน/เรือนจำ</td>\n",
              "      <td>NaN</td>\n",
              "      <td>NaN</td>\n",
              "    </tr>\n",
              "    <tr>\n",
              "      <th>...</th>\n",
              "      <td>...</td>\n",
              "      <td>...</td>\n",
              "      <td>...</td>\n",
              "      <td>...</td>\n",
              "      <td>...</td>\n",
              "      <td>...</td>\n",
              "      <td>...</td>\n",
              "      <td>...</td>\n",
              "      <td>...</td>\n",
              "      <td>...</td>\n",
              "      <td>...</td>\n",
              "    </tr>\n",
              "    <tr>\n",
              "      <th>543300</th>\n",
              "      <td>543301.0</td>\n",
              "      <td>28/7/2021</td>\n",
              "      <td>27/7/2021</td>\n",
              "      <td>ชาย</td>\n",
              "      <td>38.0</td>\n",
              "      <td>ปี</td>\n",
              "      <td>NaN</td>\n",
              "      <td>สุพรรณบุรี</td>\n",
              "      <td>ทัณฑสถาน/เรือนจำ</td>\n",
              "      <td>สุพรรณบุรี</td>\n",
              "      <td>NaN</td>\n",
              "    </tr>\n",
              "    <tr>\n",
              "      <th>543301</th>\n",
              "      <td>543302.0</td>\n",
              "      <td>28/7/2021</td>\n",
              "      <td>27/7/2021</td>\n",
              "      <td>ชาย</td>\n",
              "      <td>39.0</td>\n",
              "      <td>ปี</td>\n",
              "      <td>NaN</td>\n",
              "      <td>สุพรรณบุรี</td>\n",
              "      <td>ทัณฑสถาน/เรือนจำ</td>\n",
              "      <td>สุพรรณบุรี</td>\n",
              "      <td>NaN</td>\n",
              "    </tr>\n",
              "    <tr>\n",
              "      <th>543302</th>\n",
              "      <td>543303.0</td>\n",
              "      <td>28/7/2021</td>\n",
              "      <td>27/7/2021</td>\n",
              "      <td>ชาย</td>\n",
              "      <td>37.0</td>\n",
              "      <td>ปี</td>\n",
              "      <td>NaN</td>\n",
              "      <td>สุพรรณบุรี</td>\n",
              "      <td>ทัณฑสถาน/เรือนจำ</td>\n",
              "      <td>สุพรรณบุรี</td>\n",
              "      <td>NaN</td>\n",
              "    </tr>\n",
              "    <tr>\n",
              "      <th>543303</th>\n",
              "      <td>543304.0</td>\n",
              "      <td>28/7/2021</td>\n",
              "      <td>27/7/2021</td>\n",
              "      <td>ชาย</td>\n",
              "      <td>28.0</td>\n",
              "      <td>ปี</td>\n",
              "      <td>NaN</td>\n",
              "      <td>สุพรรณบุรี</td>\n",
              "      <td>ทัณฑสถาน/เรือนจำ</td>\n",
              "      <td>สุพรรณบุรี</td>\n",
              "      <td>NaN</td>\n",
              "    </tr>\n",
              "    <tr>\n",
              "      <th>543304</th>\n",
              "      <td>543305.0</td>\n",
              "      <td>28/7/2021</td>\n",
              "      <td>27/7/2021</td>\n",
              "      <td>ชาย</td>\n",
              "      <td>26.0</td>\n",
              "      <td>ปี</td>\n",
              "      <td>NaN</td>\n",
              "      <td>ปัตตานี</td>\n",
              "      <td>ทัณฑสถาน/เรือนจำ</td>\n",
              "      <td>ปัตตานี</td>\n",
              "      <td>NaN</td>\n",
              "    </tr>\n",
              "  </tbody>\n",
              "</table>\n",
              "<p>41778 rows × 11 columns</p>\n",
              "</div>"
            ],
            "text/plain": [
              "             No. announce_date  ... province_of_onset district_of_onset\n",
              "100018  100019.0     16/5/2021  ...        ฉะเชิงเทรา  เมืองฉะเชิงเทรา‎\n",
              "100019  100020.0     16/5/2021  ...        ฉะเชิงเทรา  เมืองฉะเชิงเทรา‎\n",
              "101468  101469.0     17/5/2021  ...               NaN               NaN\n",
              "101469  101470.0     17/5/2021  ...               NaN               NaN\n",
              "101470  101471.0     17/5/2021  ...               NaN               NaN\n",
              "...          ...           ...  ...               ...               ...\n",
              "543300  543301.0     28/7/2021  ...        สุพรรณบุรี               NaN\n",
              "543301  543302.0     28/7/2021  ...        สุพรรณบุรี               NaN\n",
              "543302  543303.0     28/7/2021  ...        สุพรรณบุรี               NaN\n",
              "543303  543304.0     28/7/2021  ...        สุพรรณบุรี               NaN\n",
              "543304  543305.0     28/7/2021  ...           ปัตตานี               NaN\n",
              "\n",
              "[41778 rows x 11 columns]"
            ]
          },
          "metadata": {
            "tags": []
          },
          "execution_count": 45
        }
      ]
    },
    {
      "cell_type": "markdown",
      "metadata": {
        "id": "L1Xlvz_8axDG"
      },
      "source": [
        "สร้าง list ของ boolean"
      ]
    },
    {
      "cell_type": "code",
      "metadata": {
        "id": "iuZWJTwzazOR",
        "outputId": "677b46d8-cff0-4d92-e8ec-82b67a2700dc",
        "colab": {
          "base_uri": "https://localhost:8080/"
        }
      },
      "source": [
        "data_cases2['age'] > 70"
      ],
      "execution_count": 46,
      "outputs": [
        {
          "output_type": "execute_result",
          "data": {
            "text/plain": [
              "0         False\n",
              "1          True\n",
              "2          True\n",
              "3         False\n",
              "4         False\n",
              "          ...  \n",
              "543301    False\n",
              "543302    False\n",
              "543303    False\n",
              "543304    False\n",
              "543305    False\n",
              "Name: age, Length: 543306, dtype: bool"
            ]
          },
          "metadata": {
            "tags": []
          },
          "execution_count": 46
        }
      ]
    },
    {
      "cell_type": "markdown",
      "metadata": {
        "id": "vqOn0Wvca2y2"
      },
      "source": [
        "เลือก"
      ]
    },
    {
      "cell_type": "code",
      "metadata": {
        "id": "mBGQc2Dua5Uh",
        "outputId": "18b2408d-2776-499f-b6cd-9613b885bdd9",
        "colab": {
          "base_uri": "https://localhost:8080/",
          "height": 538
        }
      },
      "source": [
        "data_cases2[data_cases2['age'] > 70]"
      ],
      "execution_count": 47,
      "outputs": [
        {
          "output_type": "execute_result",
          "data": {
            "text/html": [
              "<div>\n",
              "<style scoped>\n",
              "    .dataframe tbody tr th:only-of-type {\n",
              "        vertical-align: middle;\n",
              "    }\n",
              "\n",
              "    .dataframe tbody tr th {\n",
              "        vertical-align: top;\n",
              "    }\n",
              "\n",
              "    .dataframe thead th {\n",
              "        text-align: right;\n",
              "    }\n",
              "</style>\n",
              "<table border=\"1\" class=\"dataframe\">\n",
              "  <thead>\n",
              "    <tr style=\"text-align: right;\">\n",
              "      <th></th>\n",
              "      <th>No.</th>\n",
              "      <th>announce_date</th>\n",
              "      <th>Notified date</th>\n",
              "      <th>sex</th>\n",
              "      <th>age</th>\n",
              "      <th>Unit</th>\n",
              "      <th>nationality</th>\n",
              "      <th>province_of_isolation</th>\n",
              "      <th>risk</th>\n",
              "      <th>province_of_onset</th>\n",
              "      <th>district_of_onset</th>\n",
              "    </tr>\n",
              "  </thead>\n",
              "  <tbody>\n",
              "    <tr>\n",
              "      <th>1</th>\n",
              "      <td>2.0</td>\n",
              "      <td>17/1/2020</td>\n",
              "      <td>NaN</td>\n",
              "      <td>หญิง</td>\n",
              "      <td>74.0</td>\n",
              "      <td>ปี</td>\n",
              "      <td>China</td>\n",
              "      <td>กรุงเทพมหานคร</td>\n",
              "      <td>คนต่างชาติเดินทางมาจากต่างประเทศ</td>\n",
              "      <td>กรุงเทพมหานคร</td>\n",
              "      <td>NaN</td>\n",
              "    </tr>\n",
              "    <tr>\n",
              "      <th>2</th>\n",
              "      <td>3.0</td>\n",
              "      <td>22/1/2020</td>\n",
              "      <td>NaN</td>\n",
              "      <td>หญิง</td>\n",
              "      <td>73.0</td>\n",
              "      <td>ปี</td>\n",
              "      <td>Thailand</td>\n",
              "      <td>นครปฐม</td>\n",
              "      <td>คนต่างชาติเดินทางมาจากต่างประเทศ</td>\n",
              "      <td>นครปฐม</td>\n",
              "      <td>เมือง</td>\n",
              "    </tr>\n",
              "    <tr>\n",
              "      <th>7</th>\n",
              "      <td>8.0</td>\n",
              "      <td>26/1/2020</td>\n",
              "      <td>NaN</td>\n",
              "      <td>หญิง</td>\n",
              "      <td>73.0</td>\n",
              "      <td>ปี</td>\n",
              "      <td>China</td>\n",
              "      <td>ประจวบคีรีขันธ์</td>\n",
              "      <td>คนต่างชาติเดินทางมาจากต่างประเทศ</td>\n",
              "      <td>ประจวบคีรีขันธ์</td>\n",
              "      <td>หัวหิน</td>\n",
              "    </tr>\n",
              "    <tr>\n",
              "      <th>82</th>\n",
              "      <td>83.0</td>\n",
              "      <td>15/3/2020</td>\n",
              "      <td>NaN</td>\n",
              "      <td>ชาย</td>\n",
              "      <td>76.0</td>\n",
              "      <td>ปี</td>\n",
              "      <td>Thailand</td>\n",
              "      <td>กรุงเทพมหานคร</td>\n",
              "      <td>สนามมวย</td>\n",
              "      <td>กรุงเทพมหานคร</td>\n",
              "      <td>NaN</td>\n",
              "    </tr>\n",
              "    <tr>\n",
              "      <th>119</th>\n",
              "      <td>120.0</td>\n",
              "      <td>16/3/2020</td>\n",
              "      <td>NaN</td>\n",
              "      <td>ชาย</td>\n",
              "      <td>73.0</td>\n",
              "      <td>ปี</td>\n",
              "      <td>Thailand</td>\n",
              "      <td>กรุงเทพมหานคร</td>\n",
              "      <td>สนามมวย</td>\n",
              "      <td>ฉะเชิงเทรา</td>\n",
              "      <td>NaN</td>\n",
              "    </tr>\n",
              "    <tr>\n",
              "      <th>...</th>\n",
              "      <td>...</td>\n",
              "      <td>...</td>\n",
              "      <td>...</td>\n",
              "      <td>...</td>\n",
              "      <td>...</td>\n",
              "      <td>...</td>\n",
              "      <td>...</td>\n",
              "      <td>...</td>\n",
              "      <td>...</td>\n",
              "      <td>...</td>\n",
              "      <td>...</td>\n",
              "    </tr>\n",
              "    <tr>\n",
              "      <th>543095</th>\n",
              "      <td>543096.0</td>\n",
              "      <td>28/7/2021</td>\n",
              "      <td>27/7/2021</td>\n",
              "      <td>หญิง</td>\n",
              "      <td>74.0</td>\n",
              "      <td>ปี</td>\n",
              "      <td>Thailand</td>\n",
              "      <td>กรุงเทพมหานคร</td>\n",
              "      <td>สัมผัสใกล้ชิดกับผู้ป่วยยืนยันรายก่อนหน้านี้</td>\n",
              "      <td>กรุงเทพมหานคร</td>\n",
              "      <td>จอมทอง</td>\n",
              "    </tr>\n",
              "    <tr>\n",
              "      <th>543101</th>\n",
              "      <td>543102.0</td>\n",
              "      <td>28/7/2021</td>\n",
              "      <td>27/7/2021</td>\n",
              "      <td>ชาย</td>\n",
              "      <td>73.0</td>\n",
              "      <td>ปี</td>\n",
              "      <td>Thailand</td>\n",
              "      <td>กรุงเทพมหานคร</td>\n",
              "      <td>สัมผัสใกล้ชิดกับผู้ป่วยยืนยันรายก่อนหน้านี้</td>\n",
              "      <td>กรุงเทพมหานคร</td>\n",
              "      <td>ราษฎร์บูรณะ</td>\n",
              "    </tr>\n",
              "    <tr>\n",
              "      <th>543102</th>\n",
              "      <td>543103.0</td>\n",
              "      <td>28/7/2021</td>\n",
              "      <td>27/7/2021</td>\n",
              "      <td>หญิง</td>\n",
              "      <td>106.0</td>\n",
              "      <td>ปี</td>\n",
              "      <td>Thailand</td>\n",
              "      <td>กรุงเทพมหานคร</td>\n",
              "      <td>สัมผัสใกล้ชิดกับผู้ป่วยยืนยันรายก่อนหน้านี้</td>\n",
              "      <td>กรุงเทพมหานคร</td>\n",
              "      <td>ประเวศ</td>\n",
              "    </tr>\n",
              "    <tr>\n",
              "      <th>543270</th>\n",
              "      <td>543271.0</td>\n",
              "      <td>28/7/2021</td>\n",
              "      <td>27/7/2021</td>\n",
              "      <td>ชาย</td>\n",
              "      <td>78.0</td>\n",
              "      <td>ปี</td>\n",
              "      <td>NaN</td>\n",
              "      <td>สุพรรณบุรี</td>\n",
              "      <td>ทัณฑสถาน/เรือนจำ</td>\n",
              "      <td>สุพรรณบุรี</td>\n",
              "      <td>NaN</td>\n",
              "    </tr>\n",
              "    <tr>\n",
              "      <th>543272</th>\n",
              "      <td>543273.0</td>\n",
              "      <td>28/7/2021</td>\n",
              "      <td>27/7/2021</td>\n",
              "      <td>ชาย</td>\n",
              "      <td>72.0</td>\n",
              "      <td>ปี</td>\n",
              "      <td>NaN</td>\n",
              "      <td>สุพรรณบุรี</td>\n",
              "      <td>ทัณฑสถาน/เรือนจำ</td>\n",
              "      <td>สุพรรณบุรี</td>\n",
              "      <td>NaN</td>\n",
              "    </tr>\n",
              "  </tbody>\n",
              "</table>\n",
              "<p>12344 rows × 11 columns</p>\n",
              "</div>"
            ],
            "text/plain": [
              "             No. announce_date  ... province_of_onset district_of_onset\n",
              "1            2.0     17/1/2020  ...     กรุงเทพมหานคร               NaN\n",
              "2            3.0     22/1/2020  ...            นครปฐม             เมือง\n",
              "7            8.0     26/1/2020  ...   ประจวบคีรีขันธ์            หัวหิน\n",
              "82          83.0     15/3/2020  ...     กรุงเทพมหานคร               NaN\n",
              "119        120.0     16/3/2020  ...        ฉะเชิงเทรา               NaN\n",
              "...          ...           ...  ...               ...               ...\n",
              "543095  543096.0     28/7/2021  ...     กรุงเทพมหานคร            จอมทอง\n",
              "543101  543102.0     28/7/2021  ...     กรุงเทพมหานคร       ราษฎร์บูรณะ\n",
              "543102  543103.0     28/7/2021  ...     กรุงเทพมหานคร            ประเวศ\n",
              "543270  543271.0     28/7/2021  ...        สุพรรณบุรี               NaN\n",
              "543272  543273.0     28/7/2021  ...        สุพรรณบุรี               NaN\n",
              "\n",
              "[12344 rows x 11 columns]"
            ]
          },
          "metadata": {
            "tags": []
          },
          "execution_count": 47
        }
      ]
    },
    {
      "cell_type": "code",
      "metadata": {
        "id": "XN_HU5A7a9pV"
      },
      "source": [
        "blist_age70up = data_cases2['age'] > 70"
      ],
      "execution_count": 48,
      "outputs": []
    },
    {
      "cell_type": "code",
      "metadata": {
        "id": "4sGqIEqgbAdl",
        "outputId": "44572642-2b4f-4469-cd69-aee9c5dc0e5f",
        "colab": {
          "base_uri": "https://localhost:8080/"
        }
      },
      "source": [
        "blist_female = data_cases2['sex'] == 'หญิง'\n",
        "blist_female"
      ],
      "execution_count": 49,
      "outputs": [
        {
          "output_type": "execute_result",
          "data": {
            "text/plain": [
              "0          True\n",
              "1          True\n",
              "2          True\n",
              "3         False\n",
              "4          True\n",
              "          ...  \n",
              "543301    False\n",
              "543302    False\n",
              "543303    False\n",
              "543304    False\n",
              "543305    False\n",
              "Name: sex, Length: 543306, dtype: bool"
            ]
          },
          "metadata": {
            "tags": []
          },
          "execution_count": 49
        }
      ]
    },
    {
      "cell_type": "markdown",
      "metadata": {
        "id": "1VMum792bLYF"
      },
      "source": [
        "เราใช้ & (and) และ | (or) ในการรวม list ของ boolean"
      ]
    },
    {
      "cell_type": "code",
      "metadata": {
        "id": "aGKQ1wQ7bP0X",
        "outputId": "f8056b8f-5cb8-4e84-f177-5faa452f97db",
        "colab": {
          "base_uri": "https://localhost:8080/"
        }
      },
      "source": [
        "blist_age70up & blist_female"
      ],
      "execution_count": 51,
      "outputs": [
        {
          "output_type": "execute_result",
          "data": {
            "text/plain": [
              "0         False\n",
              "1          True\n",
              "2          True\n",
              "3         False\n",
              "4         False\n",
              "          ...  \n",
              "543301    False\n",
              "543302    False\n",
              "543303    False\n",
              "543304    False\n",
              "543305    False\n",
              "Length: 543306, dtype: bool"
            ]
          },
          "metadata": {
            "tags": []
          },
          "execution_count": 51
        }
      ]
    },
    {
      "cell_type": "code",
      "metadata": {
        "id": "lFdarbqtbUZO",
        "outputId": "bf7ab274-9535-4224-fab1-5fdeb2da0fa6",
        "colab": {
          "base_uri": "https://localhost:8080/",
          "height": 606
        }
      },
      "source": [
        "data_cases2[blist_age70up & blist_female]"
      ],
      "execution_count": 52,
      "outputs": [
        {
          "output_type": "execute_result",
          "data": {
            "text/html": [
              "<div>\n",
              "<style scoped>\n",
              "    .dataframe tbody tr th:only-of-type {\n",
              "        vertical-align: middle;\n",
              "    }\n",
              "\n",
              "    .dataframe tbody tr th {\n",
              "        vertical-align: top;\n",
              "    }\n",
              "\n",
              "    .dataframe thead th {\n",
              "        text-align: right;\n",
              "    }\n",
              "</style>\n",
              "<table border=\"1\" class=\"dataframe\">\n",
              "  <thead>\n",
              "    <tr style=\"text-align: right;\">\n",
              "      <th></th>\n",
              "      <th>No.</th>\n",
              "      <th>announce_date</th>\n",
              "      <th>Notified date</th>\n",
              "      <th>sex</th>\n",
              "      <th>age</th>\n",
              "      <th>Unit</th>\n",
              "      <th>nationality</th>\n",
              "      <th>province_of_isolation</th>\n",
              "      <th>risk</th>\n",
              "      <th>province_of_onset</th>\n",
              "      <th>district_of_onset</th>\n",
              "    </tr>\n",
              "  </thead>\n",
              "  <tbody>\n",
              "    <tr>\n",
              "      <th>1</th>\n",
              "      <td>2.0</td>\n",
              "      <td>17/1/2020</td>\n",
              "      <td>NaN</td>\n",
              "      <td>หญิง</td>\n",
              "      <td>74.0</td>\n",
              "      <td>ปี</td>\n",
              "      <td>China</td>\n",
              "      <td>กรุงเทพมหานคร</td>\n",
              "      <td>คนต่างชาติเดินทางมาจากต่างประเทศ</td>\n",
              "      <td>กรุงเทพมหานคร</td>\n",
              "      <td>NaN</td>\n",
              "    </tr>\n",
              "    <tr>\n",
              "      <th>2</th>\n",
              "      <td>3.0</td>\n",
              "      <td>22/1/2020</td>\n",
              "      <td>NaN</td>\n",
              "      <td>หญิง</td>\n",
              "      <td>73.0</td>\n",
              "      <td>ปี</td>\n",
              "      <td>Thailand</td>\n",
              "      <td>นครปฐม</td>\n",
              "      <td>คนต่างชาติเดินทางมาจากต่างประเทศ</td>\n",
              "      <td>นครปฐม</td>\n",
              "      <td>เมือง</td>\n",
              "    </tr>\n",
              "    <tr>\n",
              "      <th>7</th>\n",
              "      <td>8.0</td>\n",
              "      <td>26/1/2020</td>\n",
              "      <td>NaN</td>\n",
              "      <td>หญิง</td>\n",
              "      <td>73.0</td>\n",
              "      <td>ปี</td>\n",
              "      <td>China</td>\n",
              "      <td>ประจวบคีรีขันธ์</td>\n",
              "      <td>คนต่างชาติเดินทางมาจากต่างประเทศ</td>\n",
              "      <td>ประจวบคีรีขันธ์</td>\n",
              "      <td>หัวหิน</td>\n",
              "    </tr>\n",
              "    <tr>\n",
              "      <th>476</th>\n",
              "      <td>477.0</td>\n",
              "      <td>22/3/2020</td>\n",
              "      <td>21/3/2020</td>\n",
              "      <td>หญิง</td>\n",
              "      <td>72.0</td>\n",
              "      <td>ปี</td>\n",
              "      <td>Thailand</td>\n",
              "      <td>กรุงเทพมหานคร</td>\n",
              "      <td>สัมผัสใกล้ชิดกับผู้ป่วยยืนยันรายก่อนหน้านี้</td>\n",
              "      <td>กรุงเทพมหานคร</td>\n",
              "      <td>ภาษีเจริญ</td>\n",
              "    </tr>\n",
              "    <tr>\n",
              "      <th>564</th>\n",
              "      <td>565.0</td>\n",
              "      <td>22/3/2020</td>\n",
              "      <td>21/3/2020</td>\n",
              "      <td>หญิง</td>\n",
              "      <td>71.0</td>\n",
              "      <td>ปี</td>\n",
              "      <td>Thailand</td>\n",
              "      <td>นนทบุรี</td>\n",
              "      <td>สัมผัสใกล้ชิดกับผู้ป่วยยืนยันรายก่อนหน้านี้</td>\n",
              "      <td>นนทบุรี</td>\n",
              "      <td>NaN</td>\n",
              "    </tr>\n",
              "    <tr>\n",
              "      <th>...</th>\n",
              "      <td>...</td>\n",
              "      <td>...</td>\n",
              "      <td>...</td>\n",
              "      <td>...</td>\n",
              "      <td>...</td>\n",
              "      <td>...</td>\n",
              "      <td>...</td>\n",
              "      <td>...</td>\n",
              "      <td>...</td>\n",
              "      <td>...</td>\n",
              "      <td>...</td>\n",
              "    </tr>\n",
              "    <tr>\n",
              "      <th>543054</th>\n",
              "      <td>543055.0</td>\n",
              "      <td>28/7/2021</td>\n",
              "      <td>27/7/2021</td>\n",
              "      <td>หญิง</td>\n",
              "      <td>79.0</td>\n",
              "      <td>ปี</td>\n",
              "      <td>Thailand</td>\n",
              "      <td>กรุงเทพมหานคร</td>\n",
              "      <td>สัมผัสใกล้ชิดกับผู้ป่วยยืนยันรายก่อนหน้านี้</td>\n",
              "      <td>กรุงเทพมหานคร</td>\n",
              "      <td>ประเวศ</td>\n",
              "    </tr>\n",
              "    <tr>\n",
              "      <th>543086</th>\n",
              "      <td>543087.0</td>\n",
              "      <td>28/7/2021</td>\n",
              "      <td>27/7/2021</td>\n",
              "      <td>หญิง</td>\n",
              "      <td>84.0</td>\n",
              "      <td>ปี</td>\n",
              "      <td>Thailand</td>\n",
              "      <td>กรุงเทพมหานคร</td>\n",
              "      <td>สัมผัสใกล้ชิดกับผู้ป่วยยืนยันรายก่อนหน้านี้</td>\n",
              "      <td>กรุงเทพมหานคร</td>\n",
              "      <td>บางบอน</td>\n",
              "    </tr>\n",
              "    <tr>\n",
              "      <th>543088</th>\n",
              "      <td>543089.0</td>\n",
              "      <td>28/7/2021</td>\n",
              "      <td>27/7/2021</td>\n",
              "      <td>หญิง</td>\n",
              "      <td>75.0</td>\n",
              "      <td>ปี</td>\n",
              "      <td>Thailand</td>\n",
              "      <td>กรุงเทพมหานคร</td>\n",
              "      <td>สัมผัสใกล้ชิดกับผู้ป่วยยืนยันรายก่อนหน้านี้</td>\n",
              "      <td>กรุงเทพมหานคร</td>\n",
              "      <td>ลาดพร้าว</td>\n",
              "    </tr>\n",
              "    <tr>\n",
              "      <th>543095</th>\n",
              "      <td>543096.0</td>\n",
              "      <td>28/7/2021</td>\n",
              "      <td>27/7/2021</td>\n",
              "      <td>หญิง</td>\n",
              "      <td>74.0</td>\n",
              "      <td>ปี</td>\n",
              "      <td>Thailand</td>\n",
              "      <td>กรุงเทพมหานคร</td>\n",
              "      <td>สัมผัสใกล้ชิดกับผู้ป่วยยืนยันรายก่อนหน้านี้</td>\n",
              "      <td>กรุงเทพมหานคร</td>\n",
              "      <td>จอมทอง</td>\n",
              "    </tr>\n",
              "    <tr>\n",
              "      <th>543102</th>\n",
              "      <td>543103.0</td>\n",
              "      <td>28/7/2021</td>\n",
              "      <td>27/7/2021</td>\n",
              "      <td>หญิง</td>\n",
              "      <td>106.0</td>\n",
              "      <td>ปี</td>\n",
              "      <td>Thailand</td>\n",
              "      <td>กรุงเทพมหานคร</td>\n",
              "      <td>สัมผัสใกล้ชิดกับผู้ป่วยยืนยันรายก่อนหน้านี้</td>\n",
              "      <td>กรุงเทพมหานคร</td>\n",
              "      <td>ประเวศ</td>\n",
              "    </tr>\n",
              "  </tbody>\n",
              "</table>\n",
              "<p>6739 rows × 11 columns</p>\n",
              "</div>"
            ],
            "text/plain": [
              "             No. announce_date  ... province_of_onset district_of_onset\n",
              "1            2.0     17/1/2020  ...     กรุงเทพมหานคร               NaN\n",
              "2            3.0     22/1/2020  ...            นครปฐม             เมือง\n",
              "7            8.0     26/1/2020  ...   ประจวบคีรีขันธ์            หัวหิน\n",
              "476        477.0     22/3/2020  ...     กรุงเทพมหานคร         ภาษีเจริญ\n",
              "564        565.0     22/3/2020  ...           นนทบุรี               NaN\n",
              "...          ...           ...  ...               ...               ...\n",
              "543054  543055.0     28/7/2021  ...     กรุงเทพมหานคร            ประเวศ\n",
              "543086  543087.0     28/7/2021  ...     กรุงเทพมหานคร            บางบอน\n",
              "543088  543089.0     28/7/2021  ...     กรุงเทพมหานคร          ลาดพร้าว\n",
              "543095  543096.0     28/7/2021  ...     กรุงเทพมหานคร            จอมทอง\n",
              "543102  543103.0     28/7/2021  ...     กรุงเทพมหานคร            ประเวศ\n",
              "\n",
              "[6739 rows x 11 columns]"
            ]
          },
          "metadata": {
            "tags": []
          },
          "execution_count": 52
        }
      ]
    },
    {
      "cell_type": "markdown",
      "metadata": {
        "id": "SsvLWt2zbxwz"
      },
      "source": [
        "## Quiz 4 + HW\n",
        "\n",
        "หา records ต่อไปนี้\n",
        "\n",
        "~~~1. records ที่ กักตัวที่ขอนแก่น~~~\n",
        "\n",
        "~~~2. records ที่ กักตัวที่ ขอนแก่น+โคราช+อุดร~~~\n",
        "\n",
        "~~~3. records ที่ เป็นผู้หญิงที่พบเชื้อที่ กทม~~~\n",
        "4. records ที่ เป็นผู้ชาย อายุ 18-22 ปี ที่กักตัวที่เชียงใหม่\n",
        "\n",
        "\n",
        "\n",
        "5. หาอายุเฉลี่ยของคนที่พบเชื้อที่ ขอนแก่น"
      ]
    }
  ]
}